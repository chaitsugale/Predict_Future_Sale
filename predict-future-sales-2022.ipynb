{
 "cells": [
  {
   "cell_type": "code",
   "execution_count": 1,
   "id": "b4068f8c",
   "metadata": {
    "_cell_guid": "b1076dfc-b9ad-4769-8c92-a6c4dae69d19",
    "_uuid": "8f2839f25d086af736a60e9eeb907d3b93b6e0e5",
    "execution": {
     "iopub.execute_input": "2022-02-26T11:32:36.625035Z",
     "iopub.status.busy": "2022-02-26T11:32:36.623374Z",
     "iopub.status.idle": "2022-02-26T11:32:37.504423Z",
     "shell.execute_reply": "2022-02-26T11:32:37.503037Z",
     "shell.execute_reply.started": "2022-02-26T11:31:36.573017Z"
    },
    "papermill": {
     "duration": 0.92265,
     "end_time": "2022-02-26T11:32:37.504692",
     "exception": false,
     "start_time": "2022-02-26T11:32:36.582042",
     "status": "completed"
    },
    "tags": []
   },
   "outputs": [
    {
     "name": "stdout",
     "output_type": "stream",
     "text": [
      "/kaggle/input/competitive-data-science-predict-future-sales/items.csv\n",
      "/kaggle/input/competitive-data-science-predict-future-sales/sample_submission.csv\n",
      "/kaggle/input/competitive-data-science-predict-future-sales/item_categories.csv\n",
      "/kaggle/input/competitive-data-science-predict-future-sales/sales_train.csv\n",
      "/kaggle/input/competitive-data-science-predict-future-sales/shops.csv\n",
      "/kaggle/input/competitive-data-science-predict-future-sales/test.csv\n"
     ]
    }
   ],
   "source": [
    "# This Python 3 environment comes with many helpful analytics libraries installed\n",
    "# It is defined by the kaggle/python Docker image: https://github.com/kaggle/docker-python\n",
    "# For example, here's several helpful packages to load\n",
    "\n",
    "import warnings\n",
    "warnings.filterwarnings('ignore')\n",
    "\n",
    "import numpy as np # linear algebra\n",
    "import pandas as pd# data processing, CSV file I/O (e.g. pd.read_csv)\n",
    "import matplotlib.pyplot as plt\n",
    "import seaborn as sns\n",
    "sns.set(style = \"darkgrid\")\n",
    "\n",
    "# Input data files are available in the read-only \"../input/\" directory\n",
    "# For example, running this (by clicking run or pressing Shift+Enter) will list all files under the input directory\n",
    "\n",
    "import os\n",
    "for dirname, _, filenames in os.walk('/kaggle/input'):\n",
    "    for filename in filenames:\n",
    "        print(os.path.join(dirname, filename))\n",
    "\n",
    "# You can write up to 20GB to the current directory (/kaggle/working/) that gets preserved as output when you create a version using \"Save & Run All\" \n",
    "# You can also write temporary files to /kaggle/temp/, but they won't be saved outside of the current session"
   ]
  },
  {
   "cell_type": "markdown",
   "id": "84538541",
   "metadata": {
    "papermill": {
     "duration": 0.035114,
     "end_time": "2022-02-26T11:32:37.576600",
     "exception": false,
     "start_time": "2022-02-26T11:32:37.541486",
     "status": "completed"
    },
    "tags": []
   },
   "source": [
    "### 1. Loading Data"
   ]
  },
  {
   "cell_type": "code",
   "execution_count": 2,
   "id": "e3cb4be8",
   "metadata": {
    "execution": {
     "iopub.execute_input": "2022-02-26T11:32:37.651408Z",
     "iopub.status.busy": "2022-02-26T11:32:37.650843Z",
     "iopub.status.idle": "2022-02-26T11:32:40.335271Z",
     "shell.execute_reply": "2022-02-26T11:32:40.334749Z",
     "shell.execute_reply.started": "2022-02-26T11:31:36.597499Z"
    },
    "papermill": {
     "duration": 2.722021,
     "end_time": "2022-02-26T11:32:40.335402",
     "exception": false,
     "start_time": "2022-02-26T11:32:37.613381",
     "status": "completed"
    },
    "tags": []
   },
   "outputs": [],
   "source": [
    "# declaring dataframe\n",
    "\n",
    "sales_item = pd.read_csv('/kaggle/input/competitive-data-science-predict-future-sales/items.csv')\n",
    "sales_item_category = pd.read_csv('/kaggle/input/competitive-data-science-predict-future-sales/item_categories.csv')\n",
    "sales_shops = pd.read_csv('/kaggle/input/competitive-data-science-predict-future-sales/shops.csv')\n",
    "sales_train =  pd.read_csv('/kaggle/input/competitive-data-science-predict-future-sales/sales_train.csv', parse_dates=['date'], \n",
    "                    dtype={'date': 'str', 'date_block_num': 'int32', 'shop_id': 'int32','item_id': 'int32', 'item_price': 'float32', 'item_cnt_day': 'int32'})\n",
    "sales_test =  pd.read_csv('/kaggle/input/competitive-data-science-predict-future-sales/test.csv')\n"
   ]
  },
  {
   "cell_type": "code",
   "execution_count": 3,
   "id": "381d361a",
   "metadata": {
    "execution": {
     "iopub.execute_input": "2022-02-26T11:32:40.411488Z",
     "iopub.status.busy": "2022-02-26T11:32:40.410777Z",
     "iopub.status.idle": "2022-02-26T11:32:40.414436Z",
     "shell.execute_reply": "2022-02-26T11:32:40.413926Z",
     "shell.execute_reply.started": "2022-02-26T11:31:39.019435Z"
    },
    "papermill": {
     "duration": 0.043673,
     "end_time": "2022-02-26T11:32:40.414563",
     "exception": false,
     "start_time": "2022-02-26T11:32:40.370890",
     "status": "completed"
    },
    "tags": []
   },
   "outputs": [
    {
     "name": "stdout",
     "output_type": "stream",
     "text": [
      "(22170, 3)\n",
      "(84, 2)\n",
      "(60, 2)\n",
      "(2935849, 6)\n",
      "(214200, 3)\n"
     ]
    }
   ],
   "source": [
    "#checking the file\n",
    "\n",
    "print(sales_item.shape)\n",
    "print(sales_item_category.shape)\n",
    "print(sales_shops.shape)\n",
    "print(sales_train.shape)\n",
    "print(sales_test.shape)"
   ]
  },
  {
   "cell_type": "code",
   "execution_count": 4,
   "id": "68c43836",
   "metadata": {
    "execution": {
     "iopub.execute_input": "2022-02-26T11:32:40.491509Z",
     "iopub.status.busy": "2022-02-26T11:32:40.490903Z",
     "iopub.status.idle": "2022-02-26T11:32:40.506621Z",
     "shell.execute_reply": "2022-02-26T11:32:40.505806Z",
     "shell.execute_reply.started": "2022-02-26T11:31:39.030266Z"
    },
    "papermill": {
     "duration": 0.056426,
     "end_time": "2022-02-26T11:32:40.506860",
     "exception": false,
     "start_time": "2022-02-26T11:32:40.450434",
     "status": "completed"
    },
    "tags": []
   },
   "outputs": [
    {
     "name": "stdout",
     "output_type": "stream",
     "text": [
      "Items : \n",
      "                                            item_name  item_id  \\\n",
      "0          ! ВО ВЛАСТИ НАВАЖДЕНИЯ (ПЛАСТ.)         D        0   \n",
      "1  !ABBYY FineReader 12 Professional Edition Full...        1   \n",
      "2      ***В ЛУЧАХ СЛАВЫ   (UNV)                    D        2   \n",
      "3    ***ГОЛУБАЯ ВОЛНА  (Univ)                      D        3   \n",
      "4        ***КОРОБКА (СТЕКЛО)                       D        4   \n",
      "\n",
      "   item_category_id  \n",
      "0                40  \n",
      "1                76  \n",
      "2                40  \n",
      "3                40  \n",
      "4                40  \n",
      "Item Category : \n",
      "         item_category_name  item_category_id\n",
      "0  PC - Гарнитуры/Наушники                 0\n",
      "1         Аксессуары - PS2                 1\n",
      "2         Аксессуары - PS3                 2\n",
      "3         Аксессуары - PS4                 3\n",
      "4         Аксессуары - PSP                 4\n",
      "Shops : \n",
      "                         shop_name  shop_id\n",
      "0   !Якутск Орджоникидзе, 56 фран        0\n",
      "1   !Якутск ТЦ \"Центральный\" фран        1\n",
      "2                Адыгея ТЦ \"Мега\"        2\n",
      "3  Балашиха ТРК \"Октябрь-Киномир\"        3\n",
      "4        Волжский ТЦ \"Волга Молл\"        4\n",
      "Train : \n",
      "         date  date_block_num  shop_id  item_id   item_price  item_cnt_day\n",
      "0 2013-02-01               0       59    22154   999.000000             1\n",
      "1 2013-03-01               0       25     2552   899.000000             1\n",
      "2 2013-05-01               0       25     2552   899.000000            -1\n",
      "3 2013-06-01               0       25     2554  1709.050049             1\n",
      "4 2013-01-15               0       25     2555  1099.000000             1\n",
      "Test : \n",
      "    ID  shop_id  item_id\n",
      "0   0        5     5037\n",
      "1   1        5     5320\n",
      "2   2        5     5233\n",
      "3   3        5     5232\n",
      "4   4        5     5268\n"
     ]
    }
   ],
   "source": [
    "print(\"Items : \\n\",sales_item.head())\n",
    "print(\"Item Category : \\n\",sales_item_category.head())\n",
    "print(\"Shops : \\n\",sales_shops.head())\n",
    "print(\"Train : \\n\",sales_train.head())\n",
    "print(\"Test : \\n\",sales_test.head())"
   ]
  },
  {
   "cell_type": "code",
   "execution_count": 5,
   "id": "00e0d0ac",
   "metadata": {
    "execution": {
     "iopub.execute_input": "2022-02-26T11:32:40.588230Z",
     "iopub.status.busy": "2022-02-26T11:32:40.587326Z",
     "iopub.status.idle": "2022-02-26T11:32:40.626801Z",
     "shell.execute_reply": "2022-02-26T11:32:40.625575Z",
     "shell.execute_reply.started": "2022-02-26T11:31:39.053478Z"
    },
    "papermill": {
     "duration": 0.082412,
     "end_time": "2022-02-26T11:32:40.626936",
     "exception": false,
     "start_time": "2022-02-26T11:32:40.544524",
     "status": "completed"
    },
    "tags": []
   },
   "outputs": [
    {
     "name": "stdout",
     "output_type": "stream",
     "text": [
      "Items : \n",
      " item_name           0\n",
      "item_id             0\n",
      "item_category_id    0\n",
      "dtype: int64\n",
      "Item Category : \n",
      " item_category_name    0\n",
      "item_category_id      0\n",
      "dtype: int64\n",
      "Shops : \n",
      " shop_name    0\n",
      "shop_id      0\n",
      "dtype: int64\n",
      "Train : \n",
      " date              0\n",
      "date_block_num    0\n",
      "shop_id           0\n",
      "item_id           0\n",
      "item_price        0\n",
      "item_cnt_day      0\n",
      "dtype: int64\n",
      "Test : \n",
      " ID         0\n",
      "shop_id    0\n",
      "item_id    0\n",
      "dtype: int64\n"
     ]
    }
   ],
   "source": [
    "# checking null value\n",
    "\n",
    "print(\"Items : \\n\",sales_item.isnull().sum())\n",
    "print(\"Item Category : \\n\",sales_item_category.isnull().sum())\n",
    "print(\"Shops : \\n\",sales_shops.isnull().sum())\n",
    "print(\"Train : \\n\",sales_train.isnull().sum())\n",
    "print(\"Test : \\n\",sales_test.isnull().sum())"
   ]
  },
  {
   "cell_type": "code",
   "execution_count": 6,
   "id": "d04eb228",
   "metadata": {
    "execution": {
     "iopub.execute_input": "2022-02-26T11:32:40.707035Z",
     "iopub.status.busy": "2022-02-26T11:32:40.706126Z",
     "iopub.status.idle": "2022-02-26T11:32:41.281528Z",
     "shell.execute_reply": "2022-02-26T11:32:41.280999Z",
     "shell.execute_reply.started": "2022-02-26T11:31:39.105832Z"
    },
    "papermill": {
     "duration": 0.618088,
     "end_time": "2022-02-26T11:32:41.281693",
     "exception": false,
     "start_time": "2022-02-26T11:32:40.663605",
     "status": "completed"
    },
    "tags": []
   },
   "outputs": [
    {
     "name": "stdout",
     "output_type": "stream",
     "text": [
      "Duplicates in Train :  6\n"
     ]
    }
   ],
   "source": [
    "# duplicate counts in train dataset\n",
    "\n",
    "print('Duplicates in Train : ',len(sales_train[sales_train.duplicated()]))"
   ]
  },
  {
   "cell_type": "code",
   "execution_count": 7,
   "id": "6827e94f",
   "metadata": {
    "execution": {
     "iopub.execute_input": "2022-02-26T11:32:41.361404Z",
     "iopub.status.busy": "2022-02-26T11:32:41.360823Z",
     "iopub.status.idle": "2022-02-26T11:32:41.903340Z",
     "shell.execute_reply": "2022-02-26T11:32:41.902781Z",
     "shell.execute_reply.started": "2022-02-26T11:31:39.681186Z"
    },
    "papermill": {
     "duration": 0.584121,
     "end_time": "2022-02-26T11:32:41.903476",
     "exception": false,
     "start_time": "2022-02-26T11:32:41.319355",
     "status": "completed"
    },
    "tags": []
   },
   "outputs": [
    {
     "data": {
      "text/html": [
       "<div>\n",
       "<style scoped>\n",
       "    .dataframe tbody tr th:only-of-type {\n",
       "        vertical-align: middle;\n",
       "    }\n",
       "\n",
       "    .dataframe tbody tr th {\n",
       "        vertical-align: top;\n",
       "    }\n",
       "\n",
       "    .dataframe thead th {\n",
       "        text-align: right;\n",
       "    }\n",
       "</style>\n",
       "<table border=\"1\" class=\"dataframe\">\n",
       "  <thead>\n",
       "    <tr style=\"text-align: right;\">\n",
       "      <th></th>\n",
       "      <th>date</th>\n",
       "      <th>date_block_num</th>\n",
       "      <th>shop_id</th>\n",
       "      <th>item_id</th>\n",
       "      <th>item_price</th>\n",
       "      <th>item_cnt_day</th>\n",
       "    </tr>\n",
       "  </thead>\n",
       "  <tbody>\n",
       "    <tr>\n",
       "      <th>76962</th>\n",
       "      <td>2013-05-01</td>\n",
       "      <td>0</td>\n",
       "      <td>54</td>\n",
       "      <td>20130</td>\n",
       "      <td>149.0</td>\n",
       "      <td>1</td>\n",
       "    </tr>\n",
       "    <tr>\n",
       "      <th>1435367</th>\n",
       "      <td>2014-02-23</td>\n",
       "      <td>13</td>\n",
       "      <td>50</td>\n",
       "      <td>3423</td>\n",
       "      <td>999.0</td>\n",
       "      <td>1</td>\n",
       "    </tr>\n",
       "    <tr>\n",
       "      <th>1496766</th>\n",
       "      <td>2014-03-23</td>\n",
       "      <td>14</td>\n",
       "      <td>21</td>\n",
       "      <td>3423</td>\n",
       "      <td>999.0</td>\n",
       "      <td>1</td>\n",
       "    </tr>\n",
       "    <tr>\n",
       "      <th>1671873</th>\n",
       "      <td>2014-01-05</td>\n",
       "      <td>16</td>\n",
       "      <td>50</td>\n",
       "      <td>3423</td>\n",
       "      <td>999.0</td>\n",
       "      <td>1</td>\n",
       "    </tr>\n",
       "    <tr>\n",
       "      <th>1866340</th>\n",
       "      <td>2014-12-07</td>\n",
       "      <td>18</td>\n",
       "      <td>25</td>\n",
       "      <td>3423</td>\n",
       "      <td>999.0</td>\n",
       "      <td>1</td>\n",
       "    </tr>\n",
       "    <tr>\n",
       "      <th>2198566</th>\n",
       "      <td>2014-12-31</td>\n",
       "      <td>23</td>\n",
       "      <td>42</td>\n",
       "      <td>21619</td>\n",
       "      <td>499.0</td>\n",
       "      <td>1</td>\n",
       "    </tr>\n",
       "  </tbody>\n",
       "</table>\n",
       "</div>"
      ],
      "text/plain": [
       "              date  date_block_num  shop_id  item_id  item_price  item_cnt_day\n",
       "76962   2013-05-01               0       54    20130       149.0             1\n",
       "1435367 2014-02-23              13       50     3423       999.0             1\n",
       "1496766 2014-03-23              14       21     3423       999.0             1\n",
       "1671873 2014-01-05              16       50     3423       999.0             1\n",
       "1866340 2014-12-07              18       25     3423       999.0             1\n",
       "2198566 2014-12-31              23       42    21619       499.0             1"
      ]
     },
     "execution_count": 7,
     "metadata": {},
     "output_type": "execute_result"
    }
   ],
   "source": [
    "sales_train[sales_train.duplicated()]"
   ]
  },
  {
   "cell_type": "code",
   "execution_count": 8,
   "id": "714a9d32",
   "metadata": {
    "execution": {
     "iopub.execute_input": "2022-02-26T11:32:41.981507Z",
     "iopub.status.busy": "2022-02-26T11:32:41.980954Z",
     "iopub.status.idle": "2022-02-26T11:32:41.994615Z",
     "shell.execute_reply": "2022-02-26T11:32:41.995260Z",
     "shell.execute_reply.started": "2022-02-26T11:31:40.259177Z"
    },
    "papermill": {
     "duration": 0.054217,
     "end_time": "2022-02-26T11:32:41.995471",
     "exception": false,
     "start_time": "2022-02-26T11:32:41.941254",
     "status": "completed"
    },
    "tags": []
   },
   "outputs": [
    {
     "name": "stdout",
     "output_type": "stream",
     "text": [
      "<class 'pandas.core.frame.DataFrame'>\n",
      "RangeIndex: 2935849 entries, 0 to 2935848\n",
      "Data columns (total 6 columns):\n",
      " #   Column          Dtype         \n",
      "---  ------          -----         \n",
      " 0   date            datetime64[ns]\n",
      " 1   date_block_num  int32         \n",
      " 2   shop_id         int32         \n",
      " 3   item_id         int32         \n",
      " 4   item_price      float32       \n",
      " 5   item_cnt_day    int32         \n",
      "dtypes: datetime64[ns](1), float32(1), int32(4)\n",
      "memory usage: 78.4 MB\n"
     ]
    }
   ],
   "source": [
    "sales_train.info()"
   ]
  },
  {
   "cell_type": "code",
   "execution_count": 9,
   "id": "c4ce4cb8",
   "metadata": {
    "execution": {
     "iopub.execute_input": "2022-02-26T11:32:42.073767Z",
     "iopub.status.busy": "2022-02-26T11:32:42.073238Z",
     "iopub.status.idle": "2022-02-26T11:32:42.392423Z",
     "shell.execute_reply": "2022-02-26T11:32:42.391993Z",
     "shell.execute_reply.started": "2022-02-26T11:31:40.272848Z"
    },
    "papermill": {
     "duration": 0.358634,
     "end_time": "2022-02-26T11:32:42.392549",
     "exception": false,
     "start_time": "2022-02-26T11:32:42.033915",
     "status": "completed"
    },
    "tags": []
   },
   "outputs": [
    {
     "data": {
      "text/html": [
       "<div>\n",
       "<style scoped>\n",
       "    .dataframe tbody tr th:only-of-type {\n",
       "        vertical-align: middle;\n",
       "    }\n",
       "\n",
       "    .dataframe tbody tr th {\n",
       "        vertical-align: top;\n",
       "    }\n",
       "\n",
       "    .dataframe thead th {\n",
       "        text-align: right;\n",
       "    }\n",
       "</style>\n",
       "<table border=\"1\" class=\"dataframe\">\n",
       "  <thead>\n",
       "    <tr style=\"text-align: right;\">\n",
       "      <th></th>\n",
       "      <th>date_block_num</th>\n",
       "      <th>shop_id</th>\n",
       "      <th>item_id</th>\n",
       "      <th>item_price</th>\n",
       "      <th>item_cnt_day</th>\n",
       "    </tr>\n",
       "  </thead>\n",
       "  <tbody>\n",
       "    <tr>\n",
       "      <th>count</th>\n",
       "      <td>2.935849e+06</td>\n",
       "      <td>2.935849e+06</td>\n",
       "      <td>2.935849e+06</td>\n",
       "      <td>2.935849e+06</td>\n",
       "      <td>2.935849e+06</td>\n",
       "    </tr>\n",
       "    <tr>\n",
       "      <th>mean</th>\n",
       "      <td>1.456991e+01</td>\n",
       "      <td>3.300173e+01</td>\n",
       "      <td>1.019723e+04</td>\n",
       "      <td>8.906234e+02</td>\n",
       "      <td>1.242641e+00</td>\n",
       "    </tr>\n",
       "    <tr>\n",
       "      <th>std</th>\n",
       "      <td>9.422988e+00</td>\n",
       "      <td>1.622697e+01</td>\n",
       "      <td>6.324297e+03</td>\n",
       "      <td>1.726440e+03</td>\n",
       "      <td>2.618834e+00</td>\n",
       "    </tr>\n",
       "    <tr>\n",
       "      <th>min</th>\n",
       "      <td>0.000000e+00</td>\n",
       "      <td>0.000000e+00</td>\n",
       "      <td>0.000000e+00</td>\n",
       "      <td>-1.000000e+00</td>\n",
       "      <td>-2.200000e+01</td>\n",
       "    </tr>\n",
       "    <tr>\n",
       "      <th>25%</th>\n",
       "      <td>7.000000e+00</td>\n",
       "      <td>2.200000e+01</td>\n",
       "      <td>4.476000e+03</td>\n",
       "      <td>2.490000e+02</td>\n",
       "      <td>1.000000e+00</td>\n",
       "    </tr>\n",
       "    <tr>\n",
       "      <th>50%</th>\n",
       "      <td>1.400000e+01</td>\n",
       "      <td>3.100000e+01</td>\n",
       "      <td>9.343000e+03</td>\n",
       "      <td>3.990000e+02</td>\n",
       "      <td>1.000000e+00</td>\n",
       "    </tr>\n",
       "    <tr>\n",
       "      <th>75%</th>\n",
       "      <td>2.300000e+01</td>\n",
       "      <td>4.700000e+01</td>\n",
       "      <td>1.568400e+04</td>\n",
       "      <td>9.990000e+02</td>\n",
       "      <td>1.000000e+00</td>\n",
       "    </tr>\n",
       "    <tr>\n",
       "      <th>max</th>\n",
       "      <td>3.300000e+01</td>\n",
       "      <td>5.900000e+01</td>\n",
       "      <td>2.216900e+04</td>\n",
       "      <td>3.079800e+05</td>\n",
       "      <td>2.169000e+03</td>\n",
       "    </tr>\n",
       "  </tbody>\n",
       "</table>\n",
       "</div>"
      ],
      "text/plain": [
       "       date_block_num       shop_id       item_id    item_price  item_cnt_day\n",
       "count    2.935849e+06  2.935849e+06  2.935849e+06  2.935849e+06  2.935849e+06\n",
       "mean     1.456991e+01  3.300173e+01  1.019723e+04  8.906234e+02  1.242641e+00\n",
       "std      9.422988e+00  1.622697e+01  6.324297e+03  1.726440e+03  2.618834e+00\n",
       "min      0.000000e+00  0.000000e+00  0.000000e+00 -1.000000e+00 -2.200000e+01\n",
       "25%      7.000000e+00  2.200000e+01  4.476000e+03  2.490000e+02  1.000000e+00\n",
       "50%      1.400000e+01  3.100000e+01  9.343000e+03  3.990000e+02  1.000000e+00\n",
       "75%      2.300000e+01  4.700000e+01  1.568400e+04  9.990000e+02  1.000000e+00\n",
       "max      3.300000e+01  5.900000e+01  2.216900e+04  3.079800e+05  2.169000e+03"
      ]
     },
     "execution_count": 9,
     "metadata": {},
     "output_type": "execute_result"
    }
   ],
   "source": [
    "sales_train.describe()"
   ]
  },
  {
   "cell_type": "markdown",
   "id": "a35719cf",
   "metadata": {
    "papermill": {
     "duration": 0.037412,
     "end_time": "2022-02-26T11:32:42.468009",
     "exception": false,
     "start_time": "2022-02-26T11:32:42.430597",
     "status": "completed"
    },
    "tags": []
   },
   "source": [
    "We are downcasting dataframe to save memories"
   ]
  },
  {
   "cell_type": "code",
   "execution_count": 10,
   "id": "a563e2bd",
   "metadata": {
    "execution": {
     "iopub.execute_input": "2022-02-26T11:32:42.569693Z",
     "iopub.status.busy": "2022-02-26T11:32:42.569080Z",
     "iopub.status.idle": "2022-02-26T11:32:42.615039Z",
     "shell.execute_reply": "2022-02-26T11:32:42.615476Z",
     "shell.execute_reply.started": "2022-02-26T11:31:40.612025Z"
    },
    "papermill": {
     "duration": 0.110002,
     "end_time": "2022-02-26T11:32:42.615641",
     "exception": false,
     "start_time": "2022-02-26T11:32:42.505639",
     "status": "completed"
    },
    "tags": []
   },
   "outputs": [
    {
     "name": "stdout",
     "output_type": "stream",
     "text": [
      "<class 'pandas.core.frame.DataFrame'>\n",
      "RangeIndex: 2935849 entries, 0 to 2935848\n",
      "Data columns (total 6 columns):\n",
      " #   Column          Dtype         \n",
      "---  ------          -----         \n",
      " 0   date            datetime64[ns]\n",
      " 1   date_block_num  int16         \n",
      " 2   shop_id         int16         \n",
      " 3   item_id         int16         \n",
      " 4   item_price      float32       \n",
      " 5   item_cnt_day    int16         \n",
      "dtypes: datetime64[ns](1), float32(1), int16(4)\n",
      "memory usage: 56.0 MB\n"
     ]
    }
   ],
   "source": [
    "def datatype_downcast(df):\n",
    "    float_col= [i for i in df if df[i].dtype == 'float64']\n",
    "    int_col = [i for i in df if df[i].dtype in ['int64','int32']]\n",
    "    df[float_col] = df[float_col].astype(np.float32)\n",
    "    df[int_col] = df[int_col].astype(np.int16)\n",
    "    return df\n",
    "\n",
    "sales_train = datatype_downcast(sales_train)\n",
    "\n",
    "sales_train.info()"
   ]
  },
  {
   "cell_type": "markdown",
   "id": "2ec803c1",
   "metadata": {
    "execution": {
     "iopub.execute_input": "2022-02-26T10:17:07.493537Z",
     "iopub.status.busy": "2022-02-26T10:17:07.492642Z",
     "iopub.status.idle": "2022-02-26T10:17:07.499172Z",
     "shell.execute_reply": "2022-02-26T10:17:07.498100Z",
     "shell.execute_reply.started": "2022-02-26T10:17:07.493487Z"
    },
    "papermill": {
     "duration": 0.037523,
     "end_time": "2022-02-26T11:32:42.691317",
     "exception": false,
     "start_time": "2022-02-26T11:32:42.653794",
     "status": "completed"
    },
    "tags": []
   },
   "source": [
    "Joining the dataset sales_train"
   ]
  },
  {
   "cell_type": "code",
   "execution_count": 11,
   "id": "f6d2a051",
   "metadata": {
    "execution": {
     "iopub.execute_input": "2022-02-26T11:32:42.773367Z",
     "iopub.status.busy": "2022-02-26T11:32:42.770462Z",
     "iopub.status.idle": "2022-02-26T11:32:44.116201Z",
     "shell.execute_reply": "2022-02-26T11:32:44.115640Z",
     "shell.execute_reply.started": "2022-02-26T11:31:40.670489Z"
    },
    "papermill": {
     "duration": 1.387176,
     "end_time": "2022-02-26T11:32:44.116341",
     "exception": false,
     "start_time": "2022-02-26T11:32:42.729165",
     "status": "completed"
    },
    "tags": []
   },
   "outputs": [],
   "source": [
    "## Joining the dataset\n",
    "\n",
    "sales_train_new = sales_train.join(sales_item,on = 'item_id',rsuffix='_').join(sales_shops,on = 'shop_id',rsuffix='_').join(sales_item_category,on = 'item_category_id',rsuffix='_').drop(['item_id_','shop_id_','item_category_id_'],axis=1)"
   ]
  },
  {
   "cell_type": "code",
   "execution_count": 12,
   "id": "64b194bf",
   "metadata": {
    "execution": {
     "iopub.execute_input": "2022-02-26T11:32:44.197168Z",
     "iopub.status.busy": "2022-02-26T11:32:44.196501Z",
     "iopub.status.idle": "2022-02-26T11:32:44.207615Z",
     "shell.execute_reply": "2022-02-26T11:32:44.208044Z",
     "shell.execute_reply.started": "2022-02-26T11:31:41.974036Z"
    },
    "papermill": {
     "duration": 0.053522,
     "end_time": "2022-02-26T11:32:44.208206",
     "exception": false,
     "start_time": "2022-02-26T11:32:44.154684",
     "status": "completed"
    },
    "tags": []
   },
   "outputs": [
    {
     "data": {
      "text/html": [
       "<div>\n",
       "<style scoped>\n",
       "    .dataframe tbody tr th:only-of-type {\n",
       "        vertical-align: middle;\n",
       "    }\n",
       "\n",
       "    .dataframe tbody tr th {\n",
       "        vertical-align: top;\n",
       "    }\n",
       "\n",
       "    .dataframe thead th {\n",
       "        text-align: right;\n",
       "    }\n",
       "</style>\n",
       "<table border=\"1\" class=\"dataframe\">\n",
       "  <thead>\n",
       "    <tr style=\"text-align: right;\">\n",
       "      <th></th>\n",
       "      <th>date</th>\n",
       "      <th>date_block_num</th>\n",
       "      <th>shop_id</th>\n",
       "      <th>item_id</th>\n",
       "      <th>item_price</th>\n",
       "      <th>item_cnt_day</th>\n",
       "      <th>item_name</th>\n",
       "      <th>item_category_id</th>\n",
       "      <th>shop_name</th>\n",
       "      <th>item_category_name</th>\n",
       "    </tr>\n",
       "  </thead>\n",
       "  <tbody>\n",
       "    <tr>\n",
       "      <th>0</th>\n",
       "      <td>2013-02-01</td>\n",
       "      <td>0</td>\n",
       "      <td>59</td>\n",
       "      <td>22154</td>\n",
       "      <td>999.000000</td>\n",
       "      <td>1</td>\n",
       "      <td>ЯВЛЕНИЕ 2012 (BD)</td>\n",
       "      <td>37</td>\n",
       "      <td>Ярославль ТЦ \"Альтаир\"</td>\n",
       "      <td>Кино - Blu-Ray</td>\n",
       "    </tr>\n",
       "    <tr>\n",
       "      <th>1</th>\n",
       "      <td>2013-03-01</td>\n",
       "      <td>0</td>\n",
       "      <td>25</td>\n",
       "      <td>2552</td>\n",
       "      <td>899.000000</td>\n",
       "      <td>1</td>\n",
       "      <td>DEEP PURPLE  The House Of Blue Light  LP</td>\n",
       "      <td>58</td>\n",
       "      <td>Москва ТРК \"Атриум\"</td>\n",
       "      <td>Музыка - Винил</td>\n",
       "    </tr>\n",
       "    <tr>\n",
       "      <th>2</th>\n",
       "      <td>2013-05-01</td>\n",
       "      <td>0</td>\n",
       "      <td>25</td>\n",
       "      <td>2552</td>\n",
       "      <td>899.000000</td>\n",
       "      <td>-1</td>\n",
       "      <td>DEEP PURPLE  The House Of Blue Light  LP</td>\n",
       "      <td>58</td>\n",
       "      <td>Москва ТРК \"Атриум\"</td>\n",
       "      <td>Музыка - Винил</td>\n",
       "    </tr>\n",
       "    <tr>\n",
       "      <th>3</th>\n",
       "      <td>2013-06-01</td>\n",
       "      <td>0</td>\n",
       "      <td>25</td>\n",
       "      <td>2554</td>\n",
       "      <td>1709.050049</td>\n",
       "      <td>1</td>\n",
       "      <td>DEEP PURPLE  Who Do You Think We Are  LP</td>\n",
       "      <td>58</td>\n",
       "      <td>Москва ТРК \"Атриум\"</td>\n",
       "      <td>Музыка - Винил</td>\n",
       "    </tr>\n",
       "    <tr>\n",
       "      <th>4</th>\n",
       "      <td>2013-01-15</td>\n",
       "      <td>0</td>\n",
       "      <td>25</td>\n",
       "      <td>2555</td>\n",
       "      <td>1099.000000</td>\n",
       "      <td>1</td>\n",
       "      <td>DEEP PURPLE 30 Very Best Of 2CD (Фирм.)</td>\n",
       "      <td>56</td>\n",
       "      <td>Москва ТРК \"Атриум\"</td>\n",
       "      <td>Музыка - CD фирменного производства</td>\n",
       "    </tr>\n",
       "  </tbody>\n",
       "</table>\n",
       "</div>"
      ],
      "text/plain": [
       "        date  date_block_num  shop_id  item_id   item_price  item_cnt_day  \\\n",
       "0 2013-02-01               0       59    22154   999.000000             1   \n",
       "1 2013-03-01               0       25     2552   899.000000             1   \n",
       "2 2013-05-01               0       25     2552   899.000000            -1   \n",
       "3 2013-06-01               0       25     2554  1709.050049             1   \n",
       "4 2013-01-15               0       25     2555  1099.000000             1   \n",
       "\n",
       "                                  item_name  item_category_id  \\\n",
       "0                         ЯВЛЕНИЕ 2012 (BD)                37   \n",
       "1  DEEP PURPLE  The House Of Blue Light  LP                58   \n",
       "2  DEEP PURPLE  The House Of Blue Light  LP                58   \n",
       "3  DEEP PURPLE  Who Do You Think We Are  LP                58   \n",
       "4   DEEP PURPLE 30 Very Best Of 2CD (Фирм.)                56   \n",
       "\n",
       "                shop_name                   item_category_name  \n",
       "0  Ярославль ТЦ \"Альтаир\"                       Кино - Blu-Ray  \n",
       "1     Москва ТРК \"Атриум\"                       Музыка - Винил  \n",
       "2     Москва ТРК \"Атриум\"                       Музыка - Винил  \n",
       "3     Москва ТРК \"Атриум\"                       Музыка - Винил  \n",
       "4     Москва ТРК \"Атриум\"  Музыка - CD фирменного производства  "
      ]
     },
     "execution_count": 12,
     "metadata": {},
     "output_type": "execute_result"
    }
   ],
   "source": [
    "sales_train_new.head()"
   ]
  },
  {
   "cell_type": "code",
   "execution_count": 13,
   "id": "a56cf354",
   "metadata": {
    "execution": {
     "iopub.execute_input": "2022-02-26T11:32:44.288864Z",
     "iopub.status.busy": "2022-02-26T11:32:44.287950Z",
     "iopub.status.idle": "2022-02-26T11:32:44.299729Z",
     "shell.execute_reply": "2022-02-26T11:32:44.300154Z",
     "shell.execute_reply.started": "2022-02-26T11:31:41.992118Z"
    },
    "papermill": {
     "duration": 0.05351,
     "end_time": "2022-02-26T11:32:44.300307",
     "exception": false,
     "start_time": "2022-02-26T11:32:44.246797",
     "status": "completed"
    },
    "tags": []
   },
   "outputs": [
    {
     "data": {
      "text/html": [
       "<div>\n",
       "<style scoped>\n",
       "    .dataframe tbody tr th:only-of-type {\n",
       "        vertical-align: middle;\n",
       "    }\n",
       "\n",
       "    .dataframe tbody tr th {\n",
       "        vertical-align: top;\n",
       "    }\n",
       "\n",
       "    .dataframe thead th {\n",
       "        text-align: right;\n",
       "    }\n",
       "</style>\n",
       "<table border=\"1\" class=\"dataframe\">\n",
       "  <thead>\n",
       "    <tr style=\"text-align: right;\">\n",
       "      <th></th>\n",
       "      <th>0</th>\n",
       "      <th>1</th>\n",
       "      <th>2</th>\n",
       "      <th>3</th>\n",
       "      <th>4</th>\n",
       "    </tr>\n",
       "  </thead>\n",
       "  <tbody>\n",
       "    <tr>\n",
       "      <th>date</th>\n",
       "      <td>2013-02-01 00:00:00</td>\n",
       "      <td>2013-03-01 00:00:00</td>\n",
       "      <td>2013-05-01 00:00:00</td>\n",
       "      <td>2013-06-01 00:00:00</td>\n",
       "      <td>2013-01-15 00:00:00</td>\n",
       "    </tr>\n",
       "    <tr>\n",
       "      <th>date_block_num</th>\n",
       "      <td>0</td>\n",
       "      <td>0</td>\n",
       "      <td>0</td>\n",
       "      <td>0</td>\n",
       "      <td>0</td>\n",
       "    </tr>\n",
       "    <tr>\n",
       "      <th>shop_id</th>\n",
       "      <td>59</td>\n",
       "      <td>25</td>\n",
       "      <td>25</td>\n",
       "      <td>25</td>\n",
       "      <td>25</td>\n",
       "    </tr>\n",
       "    <tr>\n",
       "      <th>item_id</th>\n",
       "      <td>22154</td>\n",
       "      <td>2552</td>\n",
       "      <td>2552</td>\n",
       "      <td>2554</td>\n",
       "      <td>2555</td>\n",
       "    </tr>\n",
       "    <tr>\n",
       "      <th>item_price</th>\n",
       "      <td>999.0</td>\n",
       "      <td>899.0</td>\n",
       "      <td>899.0</td>\n",
       "      <td>1709.050049</td>\n",
       "      <td>1099.0</td>\n",
       "    </tr>\n",
       "    <tr>\n",
       "      <th>item_cnt_day</th>\n",
       "      <td>1</td>\n",
       "      <td>1</td>\n",
       "      <td>-1</td>\n",
       "      <td>1</td>\n",
       "      <td>1</td>\n",
       "    </tr>\n",
       "    <tr>\n",
       "      <th>item_name</th>\n",
       "      <td>ЯВЛЕНИЕ 2012 (BD)</td>\n",
       "      <td>DEEP PURPLE  The House Of Blue Light  LP</td>\n",
       "      <td>DEEP PURPLE  The House Of Blue Light  LP</td>\n",
       "      <td>DEEP PURPLE  Who Do You Think We Are  LP</td>\n",
       "      <td>DEEP PURPLE 30 Very Best Of 2CD (Фирм.)</td>\n",
       "    </tr>\n",
       "    <tr>\n",
       "      <th>item_category_id</th>\n",
       "      <td>37</td>\n",
       "      <td>58</td>\n",
       "      <td>58</td>\n",
       "      <td>58</td>\n",
       "      <td>56</td>\n",
       "    </tr>\n",
       "    <tr>\n",
       "      <th>shop_name</th>\n",
       "      <td>Ярославль ТЦ \"Альтаир\"</td>\n",
       "      <td>Москва ТРК \"Атриум\"</td>\n",
       "      <td>Москва ТРК \"Атриум\"</td>\n",
       "      <td>Москва ТРК \"Атриум\"</td>\n",
       "      <td>Москва ТРК \"Атриум\"</td>\n",
       "    </tr>\n",
       "    <tr>\n",
       "      <th>item_category_name</th>\n",
       "      <td>Кино - Blu-Ray</td>\n",
       "      <td>Музыка - Винил</td>\n",
       "      <td>Музыка - Винил</td>\n",
       "      <td>Музыка - Винил</td>\n",
       "      <td>Музыка - CD фирменного производства</td>\n",
       "    </tr>\n",
       "  </tbody>\n",
       "</table>\n",
       "</div>"
      ],
      "text/plain": [
       "                                         0  \\\n",
       "date                   2013-02-01 00:00:00   \n",
       "date_block_num                           0   \n",
       "shop_id                                 59   \n",
       "item_id                              22154   \n",
       "item_price                           999.0   \n",
       "item_cnt_day                             1   \n",
       "item_name                ЯВЛЕНИЕ 2012 (BD)   \n",
       "item_category_id                        37   \n",
       "shop_name           Ярославль ТЦ \"Альтаир\"   \n",
       "item_category_name          Кино - Blu-Ray   \n",
       "\n",
       "                                                           1  \\\n",
       "date                                     2013-03-01 00:00:00   \n",
       "date_block_num                                             0   \n",
       "shop_id                                                   25   \n",
       "item_id                                                 2552   \n",
       "item_price                                             899.0   \n",
       "item_cnt_day                                               1   \n",
       "item_name           DEEP PURPLE  The House Of Blue Light  LP   \n",
       "item_category_id                                          58   \n",
       "shop_name                                Москва ТРК \"Атриум\"   \n",
       "item_category_name                            Музыка - Винил   \n",
       "\n",
       "                                                           2  \\\n",
       "date                                     2013-05-01 00:00:00   \n",
       "date_block_num                                             0   \n",
       "shop_id                                                   25   \n",
       "item_id                                                 2552   \n",
       "item_price                                             899.0   \n",
       "item_cnt_day                                              -1   \n",
       "item_name           DEEP PURPLE  The House Of Blue Light  LP   \n",
       "item_category_id                                          58   \n",
       "shop_name                                Москва ТРК \"Атриум\"   \n",
       "item_category_name                            Музыка - Винил   \n",
       "\n",
       "                                                           3  \\\n",
       "date                                     2013-06-01 00:00:00   \n",
       "date_block_num                                             0   \n",
       "shop_id                                                   25   \n",
       "item_id                                                 2554   \n",
       "item_price                                       1709.050049   \n",
       "item_cnt_day                                               1   \n",
       "item_name           DEEP PURPLE  Who Do You Think We Are  LP   \n",
       "item_category_id                                          58   \n",
       "shop_name                                Москва ТРК \"Атриум\"   \n",
       "item_category_name                            Музыка - Винил   \n",
       "\n",
       "                                                          4  \n",
       "date                                    2013-01-15 00:00:00  \n",
       "date_block_num                                            0  \n",
       "shop_id                                                  25  \n",
       "item_id                                                2555  \n",
       "item_price                                           1099.0  \n",
       "item_cnt_day                                              1  \n",
       "item_name           DEEP PURPLE 30 Very Best Of 2CD (Фирм.)  \n",
       "item_category_id                                         56  \n",
       "shop_name                               Москва ТРК \"Атриум\"  \n",
       "item_category_name      Музыка - CD фирменного производства  "
      ]
     },
     "execution_count": 13,
     "metadata": {},
     "output_type": "execute_result"
    }
   ],
   "source": [
    "sales_train_new.head().T"
   ]
  },
  {
   "cell_type": "code",
   "execution_count": 14,
   "id": "0b18643d",
   "metadata": {
    "execution": {
     "iopub.execute_input": "2022-02-26T11:32:44.382680Z",
     "iopub.status.busy": "2022-02-26T11:32:44.381815Z",
     "iopub.status.idle": "2022-02-26T11:32:44.405104Z",
     "shell.execute_reply": "2022-02-26T11:32:44.405506Z",
     "shell.execute_reply.started": "2022-02-26T11:31:42.013850Z"
    },
    "papermill": {
     "duration": 0.066272,
     "end_time": "2022-02-26T11:32:44.405686",
     "exception": false,
     "start_time": "2022-02-26T11:32:44.339414",
     "status": "completed"
    },
    "tags": []
   },
   "outputs": [
    {
     "name": "stdout",
     "output_type": "stream",
     "text": [
      "Minimum Date: 2013-01-01\n",
      "Maximum Date: 2015-12-10\n"
     ]
    }
   ],
   "source": [
    "print('Minimum Date: %s' % sales_train_new['date'].min().date())\n",
    "print('Maximum Date: %s' % sales_train_new['date'].max().date())"
   ]
  },
  {
   "cell_type": "markdown",
   "id": "2a5075a3",
   "metadata": {
    "papermill": {
     "duration": 0.039188,
     "end_time": "2022-02-26T11:32:44.484301",
     "exception": false,
     "start_time": "2022-02-26T11:32:44.445113",
     "status": "completed"
    },
    "tags": []
   },
   "source": [
    "Checking Data Leakage"
   ]
  },
  {
   "cell_type": "code",
   "execution_count": 15,
   "id": "870fbb5c",
   "metadata": {
    "execution": {
     "iopub.execute_input": "2022-02-26T11:32:44.569212Z",
     "iopub.status.busy": "2022-02-26T11:32:44.568337Z",
     "iopub.status.idle": "2022-02-26T11:32:44.576323Z",
     "shell.execute_reply": "2022-02-26T11:32:44.576736Z",
     "shell.execute_reply.started": "2022-02-26T11:31:42.047022Z"
    },
    "papermill": {
     "duration": 0.053043,
     "end_time": "2022-02-26T11:32:44.576894",
     "exception": false,
     "start_time": "2022-02-26T11:32:44.523851",
     "status": "completed"
    },
    "tags": []
   },
   "outputs": [
    {
     "name": "stdout",
     "output_type": "stream",
     "text": [
      "Shop ID :  [ 5  4  6  3  2  7 10 12 28 31 26 25 22 24 21 15 16 18 14 19 42 50 49 53\n",
      " 52 47 48 57 58 59 55 56 36 37 35 38 34 46 41 44 39 45]\n",
      "Item ID :  [ 5037  5320  5233 ... 15757 19648   969]\n"
     ]
    }
   ],
   "source": [
    "# checking shopsid and item_id in test\n",
    "\n",
    "shop_id_test = sales_test['shop_id'].unique()\n",
    "print(\"Shop ID : \",shop_id_test)\n",
    "\n",
    "item_id_test = sales_test['item_id'].unique()\n",
    "print(\"Item ID : \",item_id_test)"
   ]
  },
  {
   "cell_type": "code",
   "execution_count": 16,
   "id": "351e6416",
   "metadata": {
    "execution": {
     "iopub.execute_input": "2022-02-26T11:32:44.659566Z",
     "iopub.status.busy": "2022-02-26T11:32:44.658986Z",
     "iopub.status.idle": "2022-02-26T11:32:44.662900Z",
     "shell.execute_reply": "2022-02-26T11:32:44.663402Z",
     "shell.execute_reply.started": "2022-02-26T11:31:42.061215Z"
    },
    "papermill": {
     "duration": 0.046899,
     "end_time": "2022-02-26T11:32:44.663547",
     "exception": false,
     "start_time": "2022-02-26T11:32:44.616648",
     "status": "completed"
    },
    "tags": []
   },
   "outputs": [
    {
     "data": {
      "text/plain": [
       "(2935849, 10)"
      ]
     },
     "execution_count": 16,
     "metadata": {},
     "output_type": "execute_result"
    }
   ],
   "source": [
    "# checking the shape before leakage\n",
    "\n",
    "sales_train_new.shape"
   ]
  },
  {
   "cell_type": "code",
   "execution_count": 17,
   "id": "0f1c3776",
   "metadata": {
    "execution": {
     "iopub.execute_input": "2022-02-26T11:32:44.749783Z",
     "iopub.status.busy": "2022-02-26T11:32:44.746871Z",
     "iopub.status.idle": "2022-02-26T11:32:45.074036Z",
     "shell.execute_reply": "2022-02-26T11:32:45.073449Z",
     "shell.execute_reply.started": "2022-02-26T11:31:42.069821Z"
    },
    "papermill": {
     "duration": 0.370299,
     "end_time": "2022-02-26T11:32:45.074175",
     "exception": false,
     "start_time": "2022-02-26T11:32:44.703876",
     "status": "completed"
    },
    "tags": []
   },
   "outputs": [],
   "source": [
    "# removing leakage\n",
    "\n",
    "sales_train_new = sales_train_new[sales_train_new['shop_id'].isin(shop_id_test)]\n",
    "sales_train_new = sales_train_new[sales_train_new['item_id'].isin(item_id_test)]"
   ]
  },
  {
   "cell_type": "code",
   "execution_count": 18,
   "id": "ad36c1c4",
   "metadata": {
    "execution": {
     "iopub.execute_input": "2022-02-26T11:32:45.159686Z",
     "iopub.status.busy": "2022-02-26T11:32:45.159033Z",
     "iopub.status.idle": "2022-02-26T11:32:45.161331Z",
     "shell.execute_reply": "2022-02-26T11:32:45.161907Z",
     "shell.execute_reply.started": "2022-02-26T11:31:42.403132Z"
    },
    "papermill": {
     "duration": 0.047753,
     "end_time": "2022-02-26T11:32:45.162077",
     "exception": false,
     "start_time": "2022-02-26T11:32:45.114324",
     "status": "completed"
    },
    "tags": []
   },
   "outputs": [
    {
     "data": {
      "text/plain": [
       "(1224439, 10)"
      ]
     },
     "execution_count": 18,
     "metadata": {},
     "output_type": "execute_result"
    }
   ],
   "source": [
    "# after removing leakage\n",
    "sales_train_new.shape"
   ]
  },
  {
   "cell_type": "markdown",
   "id": "dc6c1acc",
   "metadata": {
    "papermill": {
     "duration": 0.040053,
     "end_time": "2022-02-26T11:32:45.243996",
     "exception": false,
     "start_time": "2022-02-26T11:32:45.203943",
     "status": "completed"
    },
    "tags": []
   },
   "source": [
    "### Step 2 : Data Cleaning"
   ]
  },
  {
   "cell_type": "code",
   "execution_count": 19,
   "id": "979e85d1",
   "metadata": {
    "execution": {
     "iopub.execute_input": "2022-02-26T11:32:45.328054Z",
     "iopub.status.busy": "2022-02-26T11:32:45.327468Z",
     "iopub.status.idle": "2022-02-26T11:32:45.416606Z",
     "shell.execute_reply": "2022-02-26T11:32:45.415897Z",
     "shell.execute_reply.started": "2022-02-26T11:31:42.410708Z"
    },
    "papermill": {
     "duration": 0.132461,
     "end_time": "2022-02-26T11:32:45.416771",
     "exception": false,
     "start_time": "2022-02-26T11:32:45.284310",
     "status": "completed"
    },
    "tags": []
   },
   "outputs": [
    {
     "data": {
      "text/html": [
       "<div>\n",
       "<style scoped>\n",
       "    .dataframe tbody tr th:only-of-type {\n",
       "        vertical-align: middle;\n",
       "    }\n",
       "\n",
       "    .dataframe tbody tr th {\n",
       "        vertical-align: top;\n",
       "    }\n",
       "\n",
       "    .dataframe thead th {\n",
       "        text-align: right;\n",
       "    }\n",
       "</style>\n",
       "<table border=\"1\" class=\"dataframe\">\n",
       "  <thead>\n",
       "    <tr style=\"text-align: right;\">\n",
       "      <th></th>\n",
       "      <th>date</th>\n",
       "      <th>date_block_num</th>\n",
       "      <th>shop_id</th>\n",
       "      <th>item_id</th>\n",
       "      <th>item_price</th>\n",
       "      <th>item_cnt_day</th>\n",
       "      <th>item_name</th>\n",
       "      <th>item_category_id</th>\n",
       "      <th>shop_name</th>\n",
       "      <th>item_category_name</th>\n",
       "    </tr>\n",
       "  </thead>\n",
       "  <tbody>\n",
       "    <tr>\n",
       "      <th>0</th>\n",
       "      <td>2013-02-01</td>\n",
       "      <td>0</td>\n",
       "      <td>59</td>\n",
       "      <td>22154</td>\n",
       "      <td>999.0</td>\n",
       "      <td>1</td>\n",
       "      <td>ЯВЛЕНИЕ 2012 (BD)</td>\n",
       "      <td>37</td>\n",
       "      <td>Ярославль ТЦ \"Альтаир\"</td>\n",
       "      <td>Кино - Blu-Ray</td>\n",
       "    </tr>\n",
       "    <tr>\n",
       "      <th>10</th>\n",
       "      <td>2013-03-01</td>\n",
       "      <td>0</td>\n",
       "      <td>25</td>\n",
       "      <td>2574</td>\n",
       "      <td>399.0</td>\n",
       "      <td>2</td>\n",
       "      <td>DEL REY LANA  Born To Die  The Paradise Editio...</td>\n",
       "      <td>55</td>\n",
       "      <td>Москва ТРК \"Атриум\"</td>\n",
       "      <td>Музыка - CD локального производства</td>\n",
       "    </tr>\n",
       "    <tr>\n",
       "      <th>11</th>\n",
       "      <td>2013-05-01</td>\n",
       "      <td>0</td>\n",
       "      <td>25</td>\n",
       "      <td>2574</td>\n",
       "      <td>399.0</td>\n",
       "      <td>1</td>\n",
       "      <td>DEL REY LANA  Born To Die  The Paradise Editio...</td>\n",
       "      <td>55</td>\n",
       "      <td>Москва ТРК \"Атриум\"</td>\n",
       "      <td>Музыка - CD локального производства</td>\n",
       "    </tr>\n",
       "    <tr>\n",
       "      <th>12</th>\n",
       "      <td>2013-07-01</td>\n",
       "      <td>0</td>\n",
       "      <td>25</td>\n",
       "      <td>2574</td>\n",
       "      <td>399.0</td>\n",
       "      <td>1</td>\n",
       "      <td>DEL REY LANA  Born To Die  The Paradise Editio...</td>\n",
       "      <td>55</td>\n",
       "      <td>Москва ТРК \"Атриум\"</td>\n",
       "      <td>Музыка - CD локального производства</td>\n",
       "    </tr>\n",
       "    <tr>\n",
       "      <th>13</th>\n",
       "      <td>2013-08-01</td>\n",
       "      <td>0</td>\n",
       "      <td>25</td>\n",
       "      <td>2574</td>\n",
       "      <td>399.0</td>\n",
       "      <td>2</td>\n",
       "      <td>DEL REY LANA  Born To Die  The Paradise Editio...</td>\n",
       "      <td>55</td>\n",
       "      <td>Москва ТРК \"Атриум\"</td>\n",
       "      <td>Музыка - CD локального производства</td>\n",
       "    </tr>\n",
       "    <tr>\n",
       "      <th>...</th>\n",
       "      <td>...</td>\n",
       "      <td>...</td>\n",
       "      <td>...</td>\n",
       "      <td>...</td>\n",
       "      <td>...</td>\n",
       "      <td>...</td>\n",
       "      <td>...</td>\n",
       "      <td>...</td>\n",
       "      <td>...</td>\n",
       "      <td>...</td>\n",
       "    </tr>\n",
       "    <tr>\n",
       "      <th>2935844</th>\n",
       "      <td>2015-10-10</td>\n",
       "      <td>33</td>\n",
       "      <td>25</td>\n",
       "      <td>7409</td>\n",
       "      <td>299.0</td>\n",
       "      <td>1</td>\n",
       "      <td>V/A Nu Jazz Selection (digipack)</td>\n",
       "      <td>55</td>\n",
       "      <td>Москва ТРК \"Атриум\"</td>\n",
       "      <td>Музыка - CD локального производства</td>\n",
       "    </tr>\n",
       "    <tr>\n",
       "      <th>2935845</th>\n",
       "      <td>2015-09-10</td>\n",
       "      <td>33</td>\n",
       "      <td>25</td>\n",
       "      <td>7460</td>\n",
       "      <td>299.0</td>\n",
       "      <td>1</td>\n",
       "      <td>V/A The Golden Jazz Collection  1  2CD</td>\n",
       "      <td>55</td>\n",
       "      <td>Москва ТРК \"Атриум\"</td>\n",
       "      <td>Музыка - CD локального производства</td>\n",
       "    </tr>\n",
       "    <tr>\n",
       "      <th>2935846</th>\n",
       "      <td>2015-10-14</td>\n",
       "      <td>33</td>\n",
       "      <td>25</td>\n",
       "      <td>7459</td>\n",
       "      <td>349.0</td>\n",
       "      <td>1</td>\n",
       "      <td>V/A The Best Of The 3 Tenors</td>\n",
       "      <td>55</td>\n",
       "      <td>Москва ТРК \"Атриум\"</td>\n",
       "      <td>Музыка - CD локального производства</td>\n",
       "    </tr>\n",
       "    <tr>\n",
       "      <th>2935847</th>\n",
       "      <td>2015-10-22</td>\n",
       "      <td>33</td>\n",
       "      <td>25</td>\n",
       "      <td>7440</td>\n",
       "      <td>299.0</td>\n",
       "      <td>1</td>\n",
       "      <td>V/A Relax Collection  Planet MP3 (mp3-CD) (jewel)</td>\n",
       "      <td>57</td>\n",
       "      <td>Москва ТРК \"Атриум\"</td>\n",
       "      <td>Музыка - MP3</td>\n",
       "    </tr>\n",
       "    <tr>\n",
       "      <th>2935848</th>\n",
       "      <td>2015-03-10</td>\n",
       "      <td>33</td>\n",
       "      <td>25</td>\n",
       "      <td>7460</td>\n",
       "      <td>299.0</td>\n",
       "      <td>1</td>\n",
       "      <td>V/A The Golden Jazz Collection  1  2CD</td>\n",
       "      <td>55</td>\n",
       "      <td>Москва ТРК \"Атриум\"</td>\n",
       "      <td>Музыка - CD локального производства</td>\n",
       "    </tr>\n",
       "  </tbody>\n",
       "</table>\n",
       "<p>1224439 rows × 10 columns</p>\n",
       "</div>"
      ],
      "text/plain": [
       "              date  date_block_num  shop_id  item_id  item_price  \\\n",
       "0       2013-02-01               0       59    22154       999.0   \n",
       "10      2013-03-01               0       25     2574       399.0   \n",
       "11      2013-05-01               0       25     2574       399.0   \n",
       "12      2013-07-01               0       25     2574       399.0   \n",
       "13      2013-08-01               0       25     2574       399.0   \n",
       "...            ...             ...      ...      ...         ...   \n",
       "2935844 2015-10-10              33       25     7409       299.0   \n",
       "2935845 2015-09-10              33       25     7460       299.0   \n",
       "2935846 2015-10-14              33       25     7459       349.0   \n",
       "2935847 2015-10-22              33       25     7440       299.0   \n",
       "2935848 2015-03-10              33       25     7460       299.0   \n",
       "\n",
       "         item_cnt_day                                          item_name  \\\n",
       "0                   1                                  ЯВЛЕНИЕ 2012 (BD)   \n",
       "10                  2  DEL REY LANA  Born To Die  The Paradise Editio...   \n",
       "11                  1  DEL REY LANA  Born To Die  The Paradise Editio...   \n",
       "12                  1  DEL REY LANA  Born To Die  The Paradise Editio...   \n",
       "13                  2  DEL REY LANA  Born To Die  The Paradise Editio...   \n",
       "...               ...                                                ...   \n",
       "2935844             1                   V/A Nu Jazz Selection (digipack)   \n",
       "2935845             1             V/A The Golden Jazz Collection  1  2CD   \n",
       "2935846             1                       V/A The Best Of The 3 Tenors   \n",
       "2935847             1  V/A Relax Collection  Planet MP3 (mp3-CD) (jewel)   \n",
       "2935848             1             V/A The Golden Jazz Collection  1  2CD   \n",
       "\n",
       "         item_category_id               shop_name  \\\n",
       "0                      37  Ярославль ТЦ \"Альтаир\"   \n",
       "10                     55     Москва ТРК \"Атриум\"   \n",
       "11                     55     Москва ТРК \"Атриум\"   \n",
       "12                     55     Москва ТРК \"Атриум\"   \n",
       "13                     55     Москва ТРК \"Атриум\"   \n",
       "...                   ...                     ...   \n",
       "2935844                55     Москва ТРК \"Атриум\"   \n",
       "2935845                55     Москва ТРК \"Атриум\"   \n",
       "2935846                55     Москва ТРК \"Атриум\"   \n",
       "2935847                57     Москва ТРК \"Атриум\"   \n",
       "2935848                55     Москва ТРК \"Атриум\"   \n",
       "\n",
       "                          item_category_name  \n",
       "0                             Кино - Blu-Ray  \n",
       "10       Музыка - CD локального производства  \n",
       "11       Музыка - CD локального производства  \n",
       "12       Музыка - CD локального производства  \n",
       "13       Музыка - CD локального производства  \n",
       "...                                      ...  \n",
       "2935844  Музыка - CD локального производства  \n",
       "2935845  Музыка - CD локального производства  \n",
       "2935846  Музыка - CD локального производства  \n",
       "2935847                         Музыка - MP3  \n",
       "2935848  Музыка - CD локального производства  \n",
       "\n",
       "[1224439 rows x 10 columns]"
      ]
     },
     "execution_count": 19,
     "metadata": {},
     "output_type": "execute_result"
    }
   ],
   "source": [
    "sales_train_new.query('item_price > 0')"
   ]
  },
  {
   "cell_type": "code",
   "execution_count": 20,
   "id": "afb200c2",
   "metadata": {
    "execution": {
     "iopub.execute_input": "2022-02-26T11:32:45.503439Z",
     "iopub.status.busy": "2022-02-26T11:32:45.502513Z",
     "iopub.status.idle": "2022-02-26T11:32:45.519040Z",
     "shell.execute_reply": "2022-02-26T11:32:45.519502Z",
     "shell.execute_reply.started": "2022-02-26T11:31:42.532971Z"
    },
    "papermill": {
     "duration": 0.061499,
     "end_time": "2022-02-26T11:32:45.519683",
     "exception": false,
     "start_time": "2022-02-26T11:32:45.458184",
     "status": "completed"
    },
    "tags": []
   },
   "outputs": [
    {
     "data": {
      "text/html": [
       "<div>\n",
       "<style scoped>\n",
       "    .dataframe tbody tr th:only-of-type {\n",
       "        vertical-align: middle;\n",
       "    }\n",
       "\n",
       "    .dataframe tbody tr th {\n",
       "        vertical-align: top;\n",
       "    }\n",
       "\n",
       "    .dataframe thead th {\n",
       "        text-align: right;\n",
       "    }\n",
       "</style>\n",
       "<table border=\"1\" class=\"dataframe\">\n",
       "  <thead>\n",
       "    <tr style=\"text-align: right;\">\n",
       "      <th></th>\n",
       "      <th>date</th>\n",
       "      <th>date_block_num</th>\n",
       "      <th>shop_id</th>\n",
       "      <th>item_id</th>\n",
       "      <th>item_price</th>\n",
       "      <th>item_cnt_day</th>\n",
       "      <th>item_name</th>\n",
       "      <th>item_category_id</th>\n",
       "      <th>shop_name</th>\n",
       "      <th>item_category_name</th>\n",
       "    </tr>\n",
       "  </thead>\n",
       "  <tbody>\n",
       "  </tbody>\n",
       "</table>\n",
       "</div>"
      ],
      "text/plain": [
       "Empty DataFrame\n",
       "Columns: [date, date_block_num, shop_id, item_id, item_price, item_cnt_day, item_name, item_category_id, shop_name, item_category_name]\n",
       "Index: []"
      ]
     },
     "execution_count": 20,
     "metadata": {},
     "output_type": "execute_result"
    }
   ],
   "source": [
    "sales_train_new.query('item_price == 0')"
   ]
  },
  {
   "cell_type": "code",
   "execution_count": 21,
   "id": "937082e4",
   "metadata": {
    "execution": {
     "iopub.execute_input": "2022-02-26T11:32:45.606819Z",
     "iopub.status.busy": "2022-02-26T11:32:45.605948Z",
     "iopub.status.idle": "2022-02-26T11:32:45.702419Z",
     "shell.execute_reply": "2022-02-26T11:32:45.701954Z",
     "shell.execute_reply.started": "2022-02-26T11:31:42.554025Z"
    },
    "papermill": {
     "duration": 0.141175,
     "end_time": "2022-02-26T11:32:45.702552",
     "exception": false,
     "start_time": "2022-02-26T11:32:45.561377",
     "status": "completed"
    },
    "tags": []
   },
   "outputs": [],
   "source": [
    "sales_train_new = sales_train_new.query('item_price > 0')"
   ]
  },
  {
   "cell_type": "code",
   "execution_count": 22,
   "id": "b8fac63d",
   "metadata": {
    "execution": {
     "iopub.execute_input": "2022-02-26T11:32:45.793112Z",
     "iopub.status.busy": "2022-02-26T11:32:45.792457Z",
     "iopub.status.idle": "2022-02-26T11:32:45.794877Z",
     "shell.execute_reply": "2022-02-26T11:32:45.795318Z",
     "shell.execute_reply.started": "2022-02-26T11:31:42.656419Z"
    },
    "papermill": {
     "duration": 0.051037,
     "end_time": "2022-02-26T11:32:45.795476",
     "exception": false,
     "start_time": "2022-02-26T11:32:45.744439",
     "status": "completed"
    },
    "tags": []
   },
   "outputs": [
    {
     "data": {
      "text/plain": [
       "(1224439, 10)"
      ]
     },
     "execution_count": 22,
     "metadata": {},
     "output_type": "execute_result"
    }
   ],
   "source": [
    "sales_train_new.shape"
   ]
  },
  {
   "cell_type": "markdown",
   "id": "c504218f",
   "metadata": {
    "papermill": {
     "duration": 0.042406,
     "end_time": "2022-02-26T11:32:45.881007",
     "exception": false,
     "start_time": "2022-02-26T11:32:45.838601",
     "status": "completed"
    },
    "tags": []
   },
   "source": [
    "### Step 3 : Data Preprocessing"
   ]
  },
  {
   "cell_type": "code",
   "execution_count": 23,
   "id": "37d20d0c",
   "metadata": {
    "execution": {
     "iopub.execute_input": "2022-02-26T11:32:45.972324Z",
     "iopub.status.busy": "2022-02-26T11:32:45.970321Z",
     "iopub.status.idle": "2022-02-26T11:32:45.988241Z",
     "shell.execute_reply": "2022-02-26T11:32:45.987633Z",
     "shell.execute_reply.started": "2022-02-26T11:31:42.666080Z"
    },
    "papermill": {
     "duration": 0.064199,
     "end_time": "2022-02-26T11:32:45.988368",
     "exception": false,
     "start_time": "2022-02-26T11:32:45.924169",
     "status": "completed"
    },
    "tags": []
   },
   "outputs": [],
   "source": [
    "# Creating month dataframe\n",
    "\n",
    "sales_monthly = sales_train_new[['date','date_block_num','shop_id','item_id','item_category_id','item_price','item_cnt_day']]"
   ]
  },
  {
   "cell_type": "code",
   "execution_count": 24,
   "id": "a859fcec",
   "metadata": {
    "execution": {
     "iopub.execute_input": "2022-02-26T11:32:46.082831Z",
     "iopub.status.busy": "2022-02-26T11:32:46.082005Z",
     "iopub.status.idle": "2022-02-26T11:32:46.085665Z",
     "shell.execute_reply": "2022-02-26T11:32:46.085207Z",
     "shell.execute_reply.started": "2022-02-26T11:31:42.695445Z"
    },
    "papermill": {
     "duration": 0.055636,
     "end_time": "2022-02-26T11:32:46.085802",
     "exception": false,
     "start_time": "2022-02-26T11:32:46.030166",
     "status": "completed"
    },
    "tags": []
   },
   "outputs": [
    {
     "data": {
      "text/html": [
       "<div>\n",
       "<style scoped>\n",
       "    .dataframe tbody tr th:only-of-type {\n",
       "        vertical-align: middle;\n",
       "    }\n",
       "\n",
       "    .dataframe tbody tr th {\n",
       "        vertical-align: top;\n",
       "    }\n",
       "\n",
       "    .dataframe thead th {\n",
       "        text-align: right;\n",
       "    }\n",
       "</style>\n",
       "<table border=\"1\" class=\"dataframe\">\n",
       "  <thead>\n",
       "    <tr style=\"text-align: right;\">\n",
       "      <th></th>\n",
       "      <th>date</th>\n",
       "      <th>date_block_num</th>\n",
       "      <th>shop_id</th>\n",
       "      <th>item_id</th>\n",
       "      <th>item_category_id</th>\n",
       "      <th>item_price</th>\n",
       "      <th>item_cnt_day</th>\n",
       "    </tr>\n",
       "  </thead>\n",
       "  <tbody>\n",
       "    <tr>\n",
       "      <th>0</th>\n",
       "      <td>2013-02-01</td>\n",
       "      <td>0</td>\n",
       "      <td>59</td>\n",
       "      <td>22154</td>\n",
       "      <td>37</td>\n",
       "      <td>999.0</td>\n",
       "      <td>1</td>\n",
       "    </tr>\n",
       "    <tr>\n",
       "      <th>10</th>\n",
       "      <td>2013-03-01</td>\n",
       "      <td>0</td>\n",
       "      <td>25</td>\n",
       "      <td>2574</td>\n",
       "      <td>55</td>\n",
       "      <td>399.0</td>\n",
       "      <td>2</td>\n",
       "    </tr>\n",
       "    <tr>\n",
       "      <th>11</th>\n",
       "      <td>2013-05-01</td>\n",
       "      <td>0</td>\n",
       "      <td>25</td>\n",
       "      <td>2574</td>\n",
       "      <td>55</td>\n",
       "      <td>399.0</td>\n",
       "      <td>1</td>\n",
       "    </tr>\n",
       "    <tr>\n",
       "      <th>12</th>\n",
       "      <td>2013-07-01</td>\n",
       "      <td>0</td>\n",
       "      <td>25</td>\n",
       "      <td>2574</td>\n",
       "      <td>55</td>\n",
       "      <td>399.0</td>\n",
       "      <td>1</td>\n",
       "    </tr>\n",
       "    <tr>\n",
       "      <th>13</th>\n",
       "      <td>2013-08-01</td>\n",
       "      <td>0</td>\n",
       "      <td>25</td>\n",
       "      <td>2574</td>\n",
       "      <td>55</td>\n",
       "      <td>399.0</td>\n",
       "      <td>2</td>\n",
       "    </tr>\n",
       "  </tbody>\n",
       "</table>\n",
       "</div>"
      ],
      "text/plain": [
       "         date  date_block_num  shop_id  item_id  item_category_id  item_price  \\\n",
       "0  2013-02-01               0       59    22154                37       999.0   \n",
       "10 2013-03-01               0       25     2574                55       399.0   \n",
       "11 2013-05-01               0       25     2574                55       399.0   \n",
       "12 2013-07-01               0       25     2574                55       399.0   \n",
       "13 2013-08-01               0       25     2574                55       399.0   \n",
       "\n",
       "    item_cnt_day  \n",
       "0              1  \n",
       "10             2  \n",
       "11             1  \n",
       "12             1  \n",
       "13             2  "
      ]
     },
     "execution_count": 24,
     "metadata": {},
     "output_type": "execute_result"
    }
   ],
   "source": [
    "sales_monthly.head()"
   ]
  },
  {
   "cell_type": "code",
   "execution_count": 25,
   "id": "e7b5a649",
   "metadata": {
    "execution": {
     "iopub.execute_input": "2022-02-26T11:32:46.174927Z",
     "iopub.status.busy": "2022-02-26T11:32:46.173284Z",
     "iopub.status.idle": "2022-02-26T11:32:46.342740Z",
     "shell.execute_reply": "2022-02-26T11:32:46.343256Z",
     "shell.execute_reply.started": "2022-02-26T11:31:42.712342Z"
    },
    "papermill": {
     "duration": 0.215222,
     "end_time": "2022-02-26T11:32:46.343443",
     "exception": false,
     "start_time": "2022-02-26T11:32:46.128221",
     "status": "completed"
    },
    "tags": []
   },
   "outputs": [],
   "source": [
    "sales_monthly = sales_monthly.sort_values('date').groupby(['date_block_num','shop_id','item_id','item_category_id'],as_index=False)"
   ]
  },
  {
   "cell_type": "code",
   "execution_count": 26,
   "id": "f13819a4",
   "metadata": {
    "execution": {
     "iopub.execute_input": "2022-02-26T11:32:46.434870Z",
     "iopub.status.busy": "2022-02-26T11:32:46.433954Z",
     "iopub.status.idle": "2022-02-26T11:32:47.030397Z",
     "shell.execute_reply": "2022-02-26T11:32:47.029524Z",
     "shell.execute_reply.started": "2022-02-26T11:31:42.894785Z"
    },
    "papermill": {
     "duration": 0.643959,
     "end_time": "2022-02-26T11:32:47.030560",
     "exception": false,
     "start_time": "2022-02-26T11:32:46.386601",
     "status": "completed"
    },
    "tags": []
   },
   "outputs": [],
   "source": [
    "sales_monthly = sales_monthly.agg({'item_price':['sum','mean'],'item_cnt_day':['sum','mean','count']})"
   ]
  },
  {
   "cell_type": "code",
   "execution_count": 27,
   "id": "f10b98c4",
   "metadata": {
    "execution": {
     "iopub.execute_input": "2022-02-26T11:32:47.123035Z",
     "iopub.status.busy": "2022-02-26T11:32:47.122195Z",
     "iopub.status.idle": "2022-02-26T11:32:47.125708Z",
     "shell.execute_reply": "2022-02-26T11:32:47.125154Z",
     "shell.execute_reply.started": "2022-02-26T11:31:43.622997Z"
    },
    "papermill": {
     "duration": 0.051944,
     "end_time": "2022-02-26T11:32:47.125833",
     "exception": false,
     "start_time": "2022-02-26T11:32:47.073889",
     "status": "completed"
    },
    "tags": []
   },
   "outputs": [
    {
     "data": {
      "text/plain": [
       "Index(['date_block_num', 'shop_id', 'item_category_id', 'item_id',\n",
       "       'item_price', 'item_price_mean', 'item_cnt', 'item_cnt_mean',\n",
       "       'transactions'],\n",
       "      dtype='object')"
      ]
     },
     "execution_count": 27,
     "metadata": {},
     "output_type": "execute_result"
    }
   ],
   "source": [
    "sales_monthly.columns = ['date_block_num', 'shop_id', 'item_category_id', 'item_id', 'item_price', 'item_price_mean', 'item_cnt', 'item_cnt_mean', 'transactions']\n",
    "\n",
    "sales_monthly.columns"
   ]
  },
  {
   "cell_type": "code",
   "execution_count": 28,
   "id": "f725076f",
   "metadata": {
    "execution": {
     "iopub.execute_input": "2022-02-26T11:32:47.217135Z",
     "iopub.status.busy": "2022-02-26T11:32:47.216355Z",
     "iopub.status.idle": "2022-02-26T11:32:47.219738Z",
     "shell.execute_reply": "2022-02-26T11:32:47.219253Z",
     "shell.execute_reply.started": "2022-02-26T11:31:43.636784Z"
    },
    "papermill": {
     "duration": 0.051235,
     "end_time": "2022-02-26T11:32:47.219855",
     "exception": false,
     "start_time": "2022-02-26T11:32:47.168620",
     "status": "completed"
    },
    "tags": []
   },
   "outputs": [
    {
     "data": {
      "text/plain": [
       "(600159, 9)"
      ]
     },
     "execution_count": 28,
     "metadata": {},
     "output_type": "execute_result"
    }
   ],
   "source": [
    "sales_monthly.shape"
   ]
  },
  {
   "cell_type": "code",
   "execution_count": 29,
   "id": "7aaa2510",
   "metadata": {
    "execution": {
     "iopub.execute_input": "2022-02-26T11:32:47.310990Z",
     "iopub.status.busy": "2022-02-26T11:32:47.310371Z",
     "iopub.status.idle": "2022-02-26T11:32:47.317880Z",
     "shell.execute_reply": "2022-02-26T11:32:47.317452Z",
     "shell.execute_reply.started": "2022-02-26T11:31:43.646809Z"
    },
    "papermill": {
     "duration": 0.054989,
     "end_time": "2022-02-26T11:32:47.318007",
     "exception": false,
     "start_time": "2022-02-26T11:32:47.263018",
     "status": "completed"
    },
    "tags": []
   },
   "outputs": [
    {
     "data": {
      "text/plain": [
       "array([ 2,  3,  4,  6,  7, 10, 12, 14, 15, 16, 18, 19, 21, 22, 24, 25, 26,\n",
       "       28, 31, 35, 37, 38, 41, 42, 44, 45, 46, 47, 50, 52, 53, 56, 59,  5,\n",
       "       57, 58, 55, 49, 39, 48, 34, 36])"
      ]
     },
     "execution_count": 29,
     "metadata": {},
     "output_type": "execute_result"
    }
   ],
   "source": [
    "shops_id = sales_monthly['shop_id'].unique()\n",
    "shops_id"
   ]
  },
  {
   "cell_type": "code",
   "execution_count": 30,
   "id": "02dacc2a",
   "metadata": {
    "execution": {
     "iopub.execute_input": "2022-02-26T11:32:47.408976Z",
     "iopub.status.busy": "2022-02-26T11:32:47.408158Z",
     "iopub.status.idle": "2022-02-26T11:32:47.415981Z",
     "shell.execute_reply": "2022-02-26T11:32:47.415494Z",
     "shell.execute_reply.started": "2022-02-26T11:31:43.667078Z"
    },
    "papermill": {
     "duration": 0.05464,
     "end_time": "2022-02-26T11:32:47.416110",
     "exception": false,
     "start_time": "2022-02-26T11:32:47.361470",
     "status": "completed"
    },
    "tags": []
   },
   "outputs": [
    {
     "data": {
      "text/plain": [
       "array([37, 73, 67, 55, 19, 21, 28, 30, 23, 75, 22,  2,  5, 35,  6, 38, 40,\n",
       "       62, 57, 63, 64, 65, 43, 79, 49, 72, 83, 60, 77, 58, 41, 45, 56, 69,\n",
       "        9, 29, 71, 61, 76, 31, 78, 54, 70, 20,  3, 12, 44, 25, 33, 15, 34,\n",
       "       24,  7, 16, 11, 26, 47, 42, 74, 36])"
      ]
     },
     "execution_count": 30,
     "metadata": {},
     "output_type": "execute_result"
    }
   ],
   "source": [
    "items_id = sales_monthly['item_id'].unique()\n",
    "items_id"
   ]
  },
  {
   "cell_type": "code",
   "execution_count": 31,
   "id": "f541dcf6",
   "metadata": {
    "execution": {
     "iopub.execute_input": "2022-02-26T11:32:47.514412Z",
     "iopub.status.busy": "2022-02-26T11:32:47.513845Z",
     "iopub.status.idle": "2022-02-26T11:32:47.715428Z",
     "shell.execute_reply": "2022-02-26T11:32:47.715896Z",
     "shell.execute_reply.started": "2022-02-26T11:31:43.681353Z"
    },
    "papermill": {
     "duration": 0.255984,
     "end_time": "2022-02-26T11:32:47.716059",
     "exception": false,
     "start_time": "2022-02-26T11:32:47.460075",
     "status": "completed"
    },
    "tags": []
   },
   "outputs": [],
   "source": [
    "new_data = []\n",
    "\n",
    "for i in range(34):\n",
    "    for shop in shops_id:\n",
    "        for item in items_id:\n",
    "            new_data.append([i,shop,item])\n",
    "            \n",
    "new_data = pd.DataFrame(new_data,columns=['date_block_num','shop_id','item_id'])"
   ]
  },
  {
   "cell_type": "code",
   "execution_count": 32,
   "id": "fb8681a2",
   "metadata": {
    "execution": {
     "iopub.execute_input": "2022-02-26T11:32:47.806465Z",
     "iopub.status.busy": "2022-02-26T11:32:47.805895Z",
     "iopub.status.idle": "2022-02-26T11:32:47.819664Z",
     "shell.execute_reply": "2022-02-26T11:32:47.820448Z",
     "shell.execute_reply.started": "2022-02-26T11:31:44.042143Z"
    },
    "papermill": {
     "duration": 0.060475,
     "end_time": "2022-02-26T11:32:47.820750",
     "exception": false,
     "start_time": "2022-02-26T11:32:47.760275",
     "status": "completed"
    },
    "tags": []
   },
   "outputs": [
    {
     "data": {
      "text/html": [
       "<div>\n",
       "<style scoped>\n",
       "    .dataframe tbody tr th:only-of-type {\n",
       "        vertical-align: middle;\n",
       "    }\n",
       "\n",
       "    .dataframe tbody tr th {\n",
       "        vertical-align: top;\n",
       "    }\n",
       "\n",
       "    .dataframe thead th {\n",
       "        text-align: right;\n",
       "    }\n",
       "</style>\n",
       "<table border=\"1\" class=\"dataframe\">\n",
       "  <thead>\n",
       "    <tr style=\"text-align: right;\">\n",
       "      <th></th>\n",
       "      <th>date_block_num</th>\n",
       "      <th>shop_id</th>\n",
       "      <th>item_id</th>\n",
       "    </tr>\n",
       "  </thead>\n",
       "  <tbody>\n",
       "    <tr>\n",
       "      <th>0</th>\n",
       "      <td>0</td>\n",
       "      <td>2</td>\n",
       "      <td>37</td>\n",
       "    </tr>\n",
       "    <tr>\n",
       "      <th>1</th>\n",
       "      <td>0</td>\n",
       "      <td>2</td>\n",
       "      <td>73</td>\n",
       "    </tr>\n",
       "    <tr>\n",
       "      <th>2</th>\n",
       "      <td>0</td>\n",
       "      <td>2</td>\n",
       "      <td>67</td>\n",
       "    </tr>\n",
       "    <tr>\n",
       "      <th>3</th>\n",
       "      <td>0</td>\n",
       "      <td>2</td>\n",
       "      <td>55</td>\n",
       "    </tr>\n",
       "    <tr>\n",
       "      <th>4</th>\n",
       "      <td>0</td>\n",
       "      <td>2</td>\n",
       "      <td>19</td>\n",
       "    </tr>\n",
       "    <tr>\n",
       "      <th>...</th>\n",
       "      <td>...</td>\n",
       "      <td>...</td>\n",
       "      <td>...</td>\n",
       "    </tr>\n",
       "    <tr>\n",
       "      <th>85675</th>\n",
       "      <td>33</td>\n",
       "      <td>36</td>\n",
       "      <td>26</td>\n",
       "    </tr>\n",
       "    <tr>\n",
       "      <th>85676</th>\n",
       "      <td>33</td>\n",
       "      <td>36</td>\n",
       "      <td>47</td>\n",
       "    </tr>\n",
       "    <tr>\n",
       "      <th>85677</th>\n",
       "      <td>33</td>\n",
       "      <td>36</td>\n",
       "      <td>42</td>\n",
       "    </tr>\n",
       "    <tr>\n",
       "      <th>85678</th>\n",
       "      <td>33</td>\n",
       "      <td>36</td>\n",
       "      <td>74</td>\n",
       "    </tr>\n",
       "    <tr>\n",
       "      <th>85679</th>\n",
       "      <td>33</td>\n",
       "      <td>36</td>\n",
       "      <td>36</td>\n",
       "    </tr>\n",
       "  </tbody>\n",
       "</table>\n",
       "<p>85680 rows × 3 columns</p>\n",
       "</div>"
      ],
      "text/plain": [
       "       date_block_num  shop_id  item_id\n",
       "0                   0        2       37\n",
       "1                   0        2       73\n",
       "2                   0        2       67\n",
       "3                   0        2       55\n",
       "4                   0        2       19\n",
       "...               ...      ...      ...\n",
       "85675              33       36       26\n",
       "85676              33       36       47\n",
       "85677              33       36       42\n",
       "85678              33       36       74\n",
       "85679              33       36       36\n",
       "\n",
       "[85680 rows x 3 columns]"
      ]
     },
     "execution_count": 32,
     "metadata": {},
     "output_type": "execute_result"
    }
   ],
   "source": [
    "new_data"
   ]
  },
  {
   "cell_type": "code",
   "execution_count": 33,
   "id": "858946b4",
   "metadata": {
    "execution": {
     "iopub.execute_input": "2022-02-26T11:32:47.935509Z",
     "iopub.status.busy": "2022-02-26T11:32:47.934942Z",
     "iopub.status.idle": "2022-02-26T11:32:48.078718Z",
     "shell.execute_reply": "2022-02-26T11:32:48.077949Z",
     "shell.execute_reply.started": "2022-02-26T11:31:44.057341Z"
    },
    "papermill": {
     "duration": 0.192873,
     "end_time": "2022-02-26T11:32:48.078910",
     "exception": false,
     "start_time": "2022-02-26T11:32:47.886037",
     "status": "completed"
    },
    "tags": []
   },
   "outputs": [],
   "source": [
    "sales_monthly = pd.merge(new_data, sales_monthly, on=['date_block_num','shop_id','item_id'], how='left')\n",
    "sales_monthly.fillna(0, inplace=True)"
   ]
  },
  {
   "cell_type": "code",
   "execution_count": 34,
   "id": "ba978c0c",
   "metadata": {
    "execution": {
     "iopub.execute_input": "2022-02-26T11:32:48.206162Z",
     "iopub.status.busy": "2022-02-26T11:32:48.205520Z",
     "iopub.status.idle": "2022-02-26T11:32:48.208349Z",
     "shell.execute_reply": "2022-02-26T11:32:48.208854Z",
     "shell.execute_reply.started": "2022-02-26T11:31:44.202424Z"
    },
    "papermill": {
     "duration": 0.071668,
     "end_time": "2022-02-26T11:32:48.209012",
     "exception": false,
     "start_time": "2022-02-26T11:32:48.137344",
     "status": "completed"
    },
    "tags": []
   },
   "outputs": [
    {
     "data": {
      "text/plain": [
       "(640887, 9)"
      ]
     },
     "execution_count": 34,
     "metadata": {},
     "output_type": "execute_result"
    }
   ],
   "source": [
    "sales_monthly.shape"
   ]
  },
  {
   "cell_type": "code",
   "execution_count": 35,
   "id": "d866083c",
   "metadata": {
    "execution": {
     "iopub.execute_input": "2022-02-26T11:32:48.303222Z",
     "iopub.status.busy": "2022-02-26T11:32:48.302336Z",
     "iopub.status.idle": "2022-02-26T11:32:48.315553Z",
     "shell.execute_reply": "2022-02-26T11:32:48.316048Z",
     "shell.execute_reply.started": "2022-02-26T11:31:44.211295Z"
    },
    "papermill": {
     "duration": 0.061243,
     "end_time": "2022-02-26T11:32:48.316211",
     "exception": false,
     "start_time": "2022-02-26T11:32:48.254968",
     "status": "completed"
    },
    "tags": []
   },
   "outputs": [
    {
     "data": {
      "text/html": [
       "<div>\n",
       "<style scoped>\n",
       "    .dataframe tbody tr th:only-of-type {\n",
       "        vertical-align: middle;\n",
       "    }\n",
       "\n",
       "    .dataframe tbody tr th {\n",
       "        vertical-align: top;\n",
       "    }\n",
       "\n",
       "    .dataframe thead th {\n",
       "        text-align: right;\n",
       "    }\n",
       "</style>\n",
       "<table border=\"1\" class=\"dataframe\">\n",
       "  <thead>\n",
       "    <tr style=\"text-align: right;\">\n",
       "      <th></th>\n",
       "      <th>0</th>\n",
       "      <th>1</th>\n",
       "      <th>2</th>\n",
       "      <th>3</th>\n",
       "      <th>4</th>\n",
       "    </tr>\n",
       "  </thead>\n",
       "  <tbody>\n",
       "    <tr>\n",
       "      <th>date_block_num</th>\n",
       "      <td>0.0</td>\n",
       "      <td>0.000000</td>\n",
       "      <td>0.000000</td>\n",
       "      <td>0.0</td>\n",
       "      <td>0.0</td>\n",
       "    </tr>\n",
       "    <tr>\n",
       "      <th>shop_id</th>\n",
       "      <td>2.0</td>\n",
       "      <td>2.000000</td>\n",
       "      <td>2.000000</td>\n",
       "      <td>2.0</td>\n",
       "      <td>2.0</td>\n",
       "    </tr>\n",
       "    <tr>\n",
       "      <th>item_id</th>\n",
       "      <td>37.0</td>\n",
       "      <td>37.000000</td>\n",
       "      <td>37.000000</td>\n",
       "      <td>37.0</td>\n",
       "      <td>37.0</td>\n",
       "    </tr>\n",
       "    <tr>\n",
       "      <th>item_category_id</th>\n",
       "      <td>33.0</td>\n",
       "      <td>8094.000000</td>\n",
       "      <td>8095.000000</td>\n",
       "      <td>8958.0</td>\n",
       "      <td>10039.0</td>\n",
       "    </tr>\n",
       "    <tr>\n",
       "      <th>item_price</th>\n",
       "      <td>499.0</td>\n",
       "      <td>1068.540039</td>\n",
       "      <td>420.390015</td>\n",
       "      <td>249.5</td>\n",
       "      <td>299.0</td>\n",
       "    </tr>\n",
       "    <tr>\n",
       "      <th>item_price_mean</th>\n",
       "      <td>499.0</td>\n",
       "      <td>1068.540039</td>\n",
       "      <td>420.390015</td>\n",
       "      <td>249.5</td>\n",
       "      <td>299.0</td>\n",
       "    </tr>\n",
       "    <tr>\n",
       "      <th>item_cnt</th>\n",
       "      <td>1.0</td>\n",
       "      <td>1.000000</td>\n",
       "      <td>1.000000</td>\n",
       "      <td>1.0</td>\n",
       "      <td>1.0</td>\n",
       "    </tr>\n",
       "    <tr>\n",
       "      <th>item_cnt_mean</th>\n",
       "      <td>1.0</td>\n",
       "      <td>1.000000</td>\n",
       "      <td>1.000000</td>\n",
       "      <td>1.0</td>\n",
       "      <td>1.0</td>\n",
       "    </tr>\n",
       "    <tr>\n",
       "      <th>transactions</th>\n",
       "      <td>1.0</td>\n",
       "      <td>1.000000</td>\n",
       "      <td>1.000000</td>\n",
       "      <td>1.0</td>\n",
       "      <td>1.0</td>\n",
       "    </tr>\n",
       "  </tbody>\n",
       "</table>\n",
       "</div>"
      ],
      "text/plain": [
       "                      0            1            2       3        4\n",
       "date_block_num      0.0     0.000000     0.000000     0.0      0.0\n",
       "shop_id             2.0     2.000000     2.000000     2.0      2.0\n",
       "item_id            37.0    37.000000    37.000000    37.0     37.0\n",
       "item_category_id   33.0  8094.000000  8095.000000  8958.0  10039.0\n",
       "item_price        499.0  1068.540039   420.390015   249.5    299.0\n",
       "item_price_mean   499.0  1068.540039   420.390015   249.5    299.0\n",
       "item_cnt            1.0     1.000000     1.000000     1.0      1.0\n",
       "item_cnt_mean       1.0     1.000000     1.000000     1.0      1.0\n",
       "transactions        1.0     1.000000     1.000000     1.0      1.0"
      ]
     },
     "execution_count": 35,
     "metadata": {},
     "output_type": "execute_result"
    }
   ],
   "source": [
    "sales_monthly.head().T"
   ]
  },
  {
   "cell_type": "code",
   "execution_count": 36,
   "id": "ec616a84",
   "metadata": {
    "execution": {
     "iopub.execute_input": "2022-02-26T11:32:48.413485Z",
     "iopub.status.busy": "2022-02-26T11:32:48.412575Z",
     "iopub.status.idle": "2022-02-26T11:32:48.594318Z",
     "shell.execute_reply": "2022-02-26T11:32:48.594760Z",
     "shell.execute_reply.started": "2022-02-26T11:31:44.237385Z"
    },
    "papermill": {
     "duration": 0.232627,
     "end_time": "2022-02-26T11:32:48.594934",
     "exception": false,
     "start_time": "2022-02-26T11:32:48.362307",
     "status": "completed"
    },
    "tags": []
   },
   "outputs": [
    {
     "data": {
      "text/html": [
       "<div>\n",
       "<style scoped>\n",
       "    .dataframe tbody tr th:only-of-type {\n",
       "        vertical-align: middle;\n",
       "    }\n",
       "\n",
       "    .dataframe tbody tr th {\n",
       "        vertical-align: top;\n",
       "    }\n",
       "\n",
       "    .dataframe thead th {\n",
       "        text-align: right;\n",
       "    }\n",
       "</style>\n",
       "<table border=\"1\" class=\"dataframe\">\n",
       "  <thead>\n",
       "    <tr style=\"text-align: right;\">\n",
       "      <th></th>\n",
       "      <th>count</th>\n",
       "      <th>mean</th>\n",
       "      <th>std</th>\n",
       "      <th>min</th>\n",
       "      <th>25%</th>\n",
       "      <th>50%</th>\n",
       "      <th>75%</th>\n",
       "      <th>max</th>\n",
       "    </tr>\n",
       "  </thead>\n",
       "  <tbody>\n",
       "    <tr>\n",
       "      <th>date_block_num</th>\n",
       "      <td>640887.0</td>\n",
       "      <td>19.793332</td>\n",
       "      <td>9.277276</td>\n",
       "      <td>0.0</td>\n",
       "      <td>13.0</td>\n",
       "      <td>21.0</td>\n",
       "      <td>28.0</td>\n",
       "      <td>33.00000</td>\n",
       "    </tr>\n",
       "    <tr>\n",
       "      <th>shop_id</th>\n",
       "      <td>640887.0</td>\n",
       "      <td>32.093765</td>\n",
       "      <td>16.933873</td>\n",
       "      <td>2.0</td>\n",
       "      <td>19.0</td>\n",
       "      <td>31.0</td>\n",
       "      <td>47.0</td>\n",
       "      <td>59.00000</td>\n",
       "    </tr>\n",
       "    <tr>\n",
       "      <th>item_id</th>\n",
       "      <td>640887.0</td>\n",
       "      <td>42.504320</td>\n",
       "      <td>18.137527</td>\n",
       "      <td>2.0</td>\n",
       "      <td>29.0</td>\n",
       "      <td>40.0</td>\n",
       "      <td>55.0</td>\n",
       "      <td>83.00000</td>\n",
       "    </tr>\n",
       "    <tr>\n",
       "      <th>item_category_id</th>\n",
       "      <td>640887.0</td>\n",
       "      <td>9378.441608</td>\n",
       "      <td>6471.761306</td>\n",
       "      <td>0.0</td>\n",
       "      <td>3719.0</td>\n",
       "      <td>8078.0</td>\n",
       "      <td>15217.0</td>\n",
       "      <td>22167.00000</td>\n",
       "    </tr>\n",
       "    <tr>\n",
       "      <th>item_price</th>\n",
       "      <td>640887.0</td>\n",
       "      <td>1968.697754</td>\n",
       "      <td>6800.664062</td>\n",
       "      <td>0.0</td>\n",
       "      <td>299.0</td>\n",
       "      <td>600.0</td>\n",
       "      <td>1745.0</td>\n",
       "      <td>515573.59375</td>\n",
       "    </tr>\n",
       "    <tr>\n",
       "      <th>item_price_mean</th>\n",
       "      <td>640887.0</td>\n",
       "      <td>852.492798</td>\n",
       "      <td>1531.599854</td>\n",
       "      <td>0.0</td>\n",
       "      <td>229.0</td>\n",
       "      <td>399.0</td>\n",
       "      <td>999.0</td>\n",
       "      <td>42990.00000</td>\n",
       "    </tr>\n",
       "    <tr>\n",
       "      <th>item_cnt</th>\n",
       "      <td>640887.0</td>\n",
       "      <td>2.524269</td>\n",
       "      <td>10.944775</td>\n",
       "      <td>-4.0</td>\n",
       "      <td>1.0</td>\n",
       "      <td>1.0</td>\n",
       "      <td>2.0</td>\n",
       "      <td>2253.00000</td>\n",
       "    </tr>\n",
       "    <tr>\n",
       "      <th>item_cnt_mean</th>\n",
       "      <td>640887.0</td>\n",
       "      <td>1.022421</td>\n",
       "      <td>1.729875</td>\n",
       "      <td>-2.0</td>\n",
       "      <td>1.0</td>\n",
       "      <td>1.0</td>\n",
       "      <td>1.0</td>\n",
       "      <td>1000.00000</td>\n",
       "    </tr>\n",
       "    <tr>\n",
       "      <th>transactions</th>\n",
       "      <td>640887.0</td>\n",
       "      <td>1.910538</td>\n",
       "      <td>2.301848</td>\n",
       "      <td>0.0</td>\n",
       "      <td>1.0</td>\n",
       "      <td>1.0</td>\n",
       "      <td>2.0</td>\n",
       "      <td>31.00000</td>\n",
       "    </tr>\n",
       "  </tbody>\n",
       "</table>\n",
       "</div>"
      ],
      "text/plain": [
       "                     count         mean          std  min     25%     50%  \\\n",
       "date_block_num    640887.0    19.793332     9.277276  0.0    13.0    21.0   \n",
       "shop_id           640887.0    32.093765    16.933873  2.0    19.0    31.0   \n",
       "item_id           640887.0    42.504320    18.137527  2.0    29.0    40.0   \n",
       "item_category_id  640887.0  9378.441608  6471.761306  0.0  3719.0  8078.0   \n",
       "item_price        640887.0  1968.697754  6800.664062  0.0   299.0   600.0   \n",
       "item_price_mean   640887.0   852.492798  1531.599854  0.0   229.0   399.0   \n",
       "item_cnt          640887.0     2.524269    10.944775 -4.0     1.0     1.0   \n",
       "item_cnt_mean     640887.0     1.022421     1.729875 -2.0     1.0     1.0   \n",
       "transactions      640887.0     1.910538     2.301848  0.0     1.0     1.0   \n",
       "\n",
       "                      75%           max  \n",
       "date_block_num       28.0      33.00000  \n",
       "shop_id              47.0      59.00000  \n",
       "item_id              55.0      83.00000  \n",
       "item_category_id  15217.0   22167.00000  \n",
       "item_price         1745.0  515573.59375  \n",
       "item_price_mean     999.0   42990.00000  \n",
       "item_cnt              2.0    2253.00000  \n",
       "item_cnt_mean         1.0    1000.00000  \n",
       "transactions          2.0      31.00000  "
      ]
     },
     "execution_count": 36,
     "metadata": {},
     "output_type": "execute_result"
    }
   ],
   "source": [
    "sales_monthly.describe().T"
   ]
  },
  {
   "cell_type": "code",
   "execution_count": 37,
   "id": "4b9d0763",
   "metadata": {
    "execution": {
     "iopub.execute_input": "2022-02-26T11:32:48.693767Z",
     "iopub.status.busy": "2022-02-26T11:32:48.692852Z",
     "iopub.status.idle": "2022-02-26T11:32:49.128740Z",
     "shell.execute_reply": "2022-02-26T11:32:49.128235Z",
     "shell.execute_reply.started": "2022-02-26T11:31:44.448024Z"
    },
    "papermill": {
     "duration": 0.485031,
     "end_time": "2022-02-26T11:32:49.128889",
     "exception": false,
     "start_time": "2022-02-26T11:32:48.643858",
     "status": "completed"
    },
    "tags": []
   },
   "outputs": [],
   "source": [
    "sales_monthly['sales_year'] = sales_monthly['date_block_num'].apply(lambda x: ((x//12) + 2013))\n",
    "sales_monthly['sales_month'] = sales_monthly['date_block_num'].apply(lambda x: (x % 12))"
   ]
  },
  {
   "cell_type": "code",
   "execution_count": 38,
   "id": "df5561d0",
   "metadata": {
    "execution": {
     "iopub.execute_input": "2022-02-26T11:32:49.236549Z",
     "iopub.status.busy": "2022-02-26T11:32:49.228367Z",
     "iopub.status.idle": "2022-02-26T11:32:49.239638Z",
     "shell.execute_reply": "2022-02-26T11:32:49.240135Z",
     "shell.execute_reply.started": "2022-02-26T11:31:45.254367Z"
    },
    "papermill": {
     "duration": 0.065438,
     "end_time": "2022-02-26T11:32:49.240291",
     "exception": false,
     "start_time": "2022-02-26T11:32:49.174853",
     "status": "completed"
    },
    "tags": []
   },
   "outputs": [
    {
     "data": {
      "text/html": [
       "<div>\n",
       "<style scoped>\n",
       "    .dataframe tbody tr th:only-of-type {\n",
       "        vertical-align: middle;\n",
       "    }\n",
       "\n",
       "    .dataframe tbody tr th {\n",
       "        vertical-align: top;\n",
       "    }\n",
       "\n",
       "    .dataframe thead th {\n",
       "        text-align: right;\n",
       "    }\n",
       "</style>\n",
       "<table border=\"1\" class=\"dataframe\">\n",
       "  <thead>\n",
       "    <tr style=\"text-align: right;\">\n",
       "      <th></th>\n",
       "      <th>0</th>\n",
       "      <th>1</th>\n",
       "      <th>2</th>\n",
       "      <th>3</th>\n",
       "      <th>4</th>\n",
       "    </tr>\n",
       "  </thead>\n",
       "  <tbody>\n",
       "    <tr>\n",
       "      <th>date_block_num</th>\n",
       "      <td>0.0</td>\n",
       "      <td>0.000000</td>\n",
       "      <td>0.000000</td>\n",
       "      <td>0.0</td>\n",
       "      <td>0.0</td>\n",
       "    </tr>\n",
       "    <tr>\n",
       "      <th>shop_id</th>\n",
       "      <td>2.0</td>\n",
       "      <td>2.000000</td>\n",
       "      <td>2.000000</td>\n",
       "      <td>2.0</td>\n",
       "      <td>2.0</td>\n",
       "    </tr>\n",
       "    <tr>\n",
       "      <th>item_id</th>\n",
       "      <td>37.0</td>\n",
       "      <td>37.000000</td>\n",
       "      <td>37.000000</td>\n",
       "      <td>37.0</td>\n",
       "      <td>37.0</td>\n",
       "    </tr>\n",
       "    <tr>\n",
       "      <th>item_category_id</th>\n",
       "      <td>33.0</td>\n",
       "      <td>8094.000000</td>\n",
       "      <td>8095.000000</td>\n",
       "      <td>8958.0</td>\n",
       "      <td>10039.0</td>\n",
       "    </tr>\n",
       "    <tr>\n",
       "      <th>item_price</th>\n",
       "      <td>499.0</td>\n",
       "      <td>1068.540039</td>\n",
       "      <td>420.390015</td>\n",
       "      <td>249.5</td>\n",
       "      <td>299.0</td>\n",
       "    </tr>\n",
       "    <tr>\n",
       "      <th>item_price_mean</th>\n",
       "      <td>499.0</td>\n",
       "      <td>1068.540039</td>\n",
       "      <td>420.390015</td>\n",
       "      <td>249.5</td>\n",
       "      <td>299.0</td>\n",
       "    </tr>\n",
       "    <tr>\n",
       "      <th>item_cnt</th>\n",
       "      <td>1.0</td>\n",
       "      <td>1.000000</td>\n",
       "      <td>1.000000</td>\n",
       "      <td>1.0</td>\n",
       "      <td>1.0</td>\n",
       "    </tr>\n",
       "    <tr>\n",
       "      <th>item_cnt_mean</th>\n",
       "      <td>1.0</td>\n",
       "      <td>1.000000</td>\n",
       "      <td>1.000000</td>\n",
       "      <td>1.0</td>\n",
       "      <td>1.0</td>\n",
       "    </tr>\n",
       "    <tr>\n",
       "      <th>transactions</th>\n",
       "      <td>1.0</td>\n",
       "      <td>1.000000</td>\n",
       "      <td>1.000000</td>\n",
       "      <td>1.0</td>\n",
       "      <td>1.0</td>\n",
       "    </tr>\n",
       "    <tr>\n",
       "      <th>sales_year</th>\n",
       "      <td>2013.0</td>\n",
       "      <td>2013.000000</td>\n",
       "      <td>2013.000000</td>\n",
       "      <td>2013.0</td>\n",
       "      <td>2013.0</td>\n",
       "    </tr>\n",
       "    <tr>\n",
       "      <th>sales_month</th>\n",
       "      <td>0.0</td>\n",
       "      <td>0.000000</td>\n",
       "      <td>0.000000</td>\n",
       "      <td>0.0</td>\n",
       "      <td>0.0</td>\n",
       "    </tr>\n",
       "  </tbody>\n",
       "</table>\n",
       "</div>"
      ],
      "text/plain": [
       "                       0            1            2       3        4\n",
       "date_block_num       0.0     0.000000     0.000000     0.0      0.0\n",
       "shop_id              2.0     2.000000     2.000000     2.0      2.0\n",
       "item_id             37.0    37.000000    37.000000    37.0     37.0\n",
       "item_category_id    33.0  8094.000000  8095.000000  8958.0  10039.0\n",
       "item_price         499.0  1068.540039   420.390015   249.5    299.0\n",
       "item_price_mean    499.0  1068.540039   420.390015   249.5    299.0\n",
       "item_cnt             1.0     1.000000     1.000000     1.0      1.0\n",
       "item_cnt_mean        1.0     1.000000     1.000000     1.0      1.0\n",
       "transactions         1.0     1.000000     1.000000     1.0      1.0\n",
       "sales_year        2013.0  2013.000000  2013.000000  2013.0   2013.0\n",
       "sales_month          0.0     0.000000     0.000000     0.0      0.0"
      ]
     },
     "execution_count": 38,
     "metadata": {},
     "output_type": "execute_result"
    }
   ],
   "source": [
    "sales_monthly.head().T"
   ]
  },
  {
   "cell_type": "code",
   "execution_count": 39,
   "id": "06eb1f3b",
   "metadata": {
    "execution": {
     "iopub.execute_input": "2022-02-26T11:32:49.335814Z",
     "iopub.status.busy": "2022-02-26T11:32:49.335143Z",
     "iopub.status.idle": "2022-02-26T11:32:49.344291Z",
     "shell.execute_reply": "2022-02-26T11:32:49.344794Z",
     "shell.execute_reply.started": "2022-02-26T11:31:45.312337Z"
    },
    "papermill": {
     "duration": 0.058523,
     "end_time": "2022-02-26T11:32:49.344948",
     "exception": false,
     "start_time": "2022-02-26T11:32:49.286425",
     "status": "completed"
    },
    "tags": []
   },
   "outputs": [
    {
     "data": {
      "text/plain": [
       "2015    264595\n",
       "2014    233700\n",
       "2013    142592\n",
       "Name: sales_year, dtype: int64"
      ]
     },
     "execution_count": 39,
     "metadata": {},
     "output_type": "execute_result"
    }
   ],
   "source": [
    "sales_monthly['sales_year'].value_counts()"
   ]
  },
  {
   "cell_type": "code",
   "execution_count": 40,
   "id": "0189ae13",
   "metadata": {
    "execution": {
     "iopub.execute_input": "2022-02-26T11:32:49.445369Z",
     "iopub.status.busy": "2022-02-26T11:32:49.444715Z",
     "iopub.status.idle": "2022-02-26T11:32:49.456061Z",
     "shell.execute_reply": "2022-02-26T11:32:49.455518Z",
     "shell.execute_reply.started": "2022-02-26T11:31:45.355235Z"
    },
    "papermill": {
     "duration": 0.062386,
     "end_time": "2022-02-26T11:32:49.456195",
     "exception": false,
     "start_time": "2022-02-26T11:32:49.393809",
     "status": "completed"
    },
    "tags": []
   },
   "outputs": [
    {
     "data": {
      "text/plain": [
       "7     63187\n",
       "9     63075\n",
       "8     58326\n",
       "6     58077\n",
       "5     54277\n",
       "2     53944\n",
       "0     51676\n",
       "4     51402\n",
       "1     50200\n",
       "11    50059\n",
       "3     49545\n",
       "10    37119\n",
       "Name: sales_month, dtype: int64"
      ]
     },
     "execution_count": 40,
     "metadata": {},
     "output_type": "execute_result"
    }
   ],
   "source": [
    "sales_monthly['sales_month'].value_counts()"
   ]
  },
  {
   "cell_type": "markdown",
   "id": "2a28690b",
   "metadata": {
    "papermill": {
     "duration": 0.047003,
     "end_time": "2022-02-26T11:32:49.550297",
     "exception": false,
     "start_time": "2022-02-26T11:32:49.503294",
     "status": "completed"
    },
    "tags": []
   },
   "source": [
    "### Step 4 : EDA"
   ]
  },
  {
   "cell_type": "code",
   "execution_count": 41,
   "id": "05246cbb",
   "metadata": {
    "execution": {
     "iopub.execute_input": "2022-02-26T11:32:49.650678Z",
     "iopub.status.busy": "2022-02-26T11:32:49.650077Z",
     "iopub.status.idle": "2022-02-26T11:32:50.934868Z",
     "shell.execute_reply": "2022-02-26T11:32:50.935302Z",
     "shell.execute_reply.started": "2022-02-26T11:31:45.394409Z"
    },
    "papermill": {
     "duration": 1.338067,
     "end_time": "2022-02-26T11:32:50.935458",
     "exception": false,
     "start_time": "2022-02-26T11:32:49.597391",
     "status": "completed"
    },
    "tags": []
   },
   "outputs": [
    {
     "data": {
      "text/plain": [
       "<AxesSubplot:>"
      ]
     },
     "execution_count": 41,
     "metadata": {},
     "output_type": "execute_result"
    },
    {
     "data": {
      "image/png": "[encoded data removed]",
      "text/plain": [
       "<Figure size 1440x1440 with 2 Axes>"
      ]
     },
     "metadata": {},
     "output_type": "display_data"
    }
   ],
   "source": [
    "plt.figure(figsize=(20,20))\n",
    "\n",
    "sns.heatmap(sales_monthly.corr(),cmap='mako',annot=True)"
   ]
  },
  {
   "cell_type": "code",
   "execution_count": 42,
   "id": "b5486308",
   "metadata": {
    "execution": {
     "iopub.execute_input": "2022-02-26T11:32:51.043619Z",
     "iopub.status.busy": "2022-02-26T11:32:51.043060Z",
     "iopub.status.idle": "2022-02-26T11:32:51.086091Z",
     "shell.execute_reply": "2022-02-26T11:32:51.085599Z"
    },
    "papermill": {
     "duration": 0.099864,
     "end_time": "2022-02-26T11:32:51.086229",
     "exception": false,
     "start_time": "2022-02-26T11:32:50.986365",
     "status": "completed"
    },
    "tags": []
   },
   "outputs": [],
   "source": [
    "month_mean = sales_monthly.groupby(['sales_month'],as_index = False)['item_cnt'].mean()\n",
    "month_sum = sales_monthly.groupby(['sales_month'],as_index = False)['item_cnt'].sum()"
   ]
  },
  {
   "cell_type": "code",
   "execution_count": 43,
   "id": "c88e319b",
   "metadata": {
    "execution": {
     "iopub.execute_input": "2022-02-26T11:32:51.194702Z",
     "iopub.status.busy": "2022-02-26T11:32:51.194138Z",
     "iopub.status.idle": "2022-02-26T11:32:51.229482Z",
     "shell.execute_reply": "2022-02-26T11:32:51.229969Z"
    },
    "papermill": {
     "duration": 0.093248,
     "end_time": "2022-02-26T11:32:51.230134",
     "exception": false,
     "start_time": "2022-02-26T11:32:51.136886",
     "status": "completed"
    },
    "tags": []
   },
   "outputs": [],
   "source": [
    "category_mean = sales_monthly.groupby(['item_category_id'],as_index = False)['item_cnt'].mean()\n",
    "category_sum = sales_monthly.groupby(['item_category_id'],as_index = False)['item_cnt'].sum()"
   ]
  },
  {
   "cell_type": "code",
   "execution_count": 44,
   "id": "14e3b58d",
   "metadata": {
    "execution": {
     "iopub.execute_input": "2022-02-26T11:32:51.334382Z",
     "iopub.status.busy": "2022-02-26T11:32:51.333854Z",
     "iopub.status.idle": "2022-02-26T11:32:51.366345Z",
     "shell.execute_reply": "2022-02-26T11:32:51.366761Z",
     "shell.execute_reply.started": "2022-02-26T11:32:09.703317Z"
    },
    "papermill": {
     "duration": 0.086142,
     "end_time": "2022-02-26T11:32:51.366921",
     "exception": false,
     "start_time": "2022-02-26T11:32:51.280779",
     "status": "completed"
    },
    "tags": []
   },
   "outputs": [],
   "source": [
    "shop_mean = sales_monthly.groupby(['shop_id'],as_index = False)['item_cnt'].mean()\n",
    "shop_sum = sales_monthly.groupby(['shop_id'],as_index = False)['item_cnt'].sum()"
   ]
  },
  {
   "cell_type": "code",
   "execution_count": null,
   "id": "56cd26de",
   "metadata": {
    "papermill": {
     "duration": 0.050916,
     "end_time": "2022-02-26T11:32:51.468248",
     "exception": false,
     "start_time": "2022-02-26T11:32:51.417332",
     "status": "completed"
    },
    "tags": []
   },
   "outputs": [],
   "source": []
  }
 ],
 "metadata": {
  "kernelspec": {
   "display_name": "Python 3",
   "language": "python",
   "name": "python3"
  },
  "language_info": {
   "codemirror_mode": {
    "name": "ipython",
    "version": 3
   },
   "file_extension": ".py",
   "mimetype": "text/x-python",
   "name": "python",
   "nbconvert_exporter": "python",
   "pygments_lexer": "ipython3",
   "version": "3.7.12"
  },
  "papermill": {
   "default_parameters": {},
   "duration": 23.34739,
   "end_time": "2022-02-26T11:32:52.128227",
   "environment_variables": {},
   "exception": null,
   "input_path": "__notebook__.ipynb",
   "output_path": "__notebook__.ipynb",
   "parameters": {},
   "start_time": "2022-02-26T11:32:28.780837",
   "version": "2.3.3"
  }
 },
 "nbformat": 4,
 "nbformat_minor": 5
}
