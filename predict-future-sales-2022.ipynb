{
 "cells": [
  {
   "cell_type": "code",
   "execution_count": 1,
   "id": "b88f432e",
   "metadata": {
    "_cell_guid": "b1076dfc-b9ad-4769-8c92-a6c4dae69d19",
    "_uuid": "8f2839f25d086af736a60e9eeb907d3b93b6e0e5",
    "execution": {
     "iopub.execute_input": "2022-02-26T11:19:18.745592Z",
     "iopub.status.busy": "2022-02-26T11:19:18.744959Z",
     "iopub.status.idle": "2022-02-26T11:19:19.737662Z",
     "shell.execute_reply": "2022-02-26T11:19:19.738400Z",
     "shell.execute_reply.started": "2022-02-26T11:09:31.307025Z"
    },
    "papermill": {
     "duration": 1.037043,
     "end_time": "2022-02-26T11:19:19.738777",
     "exception": false,
     "start_time": "2022-02-26T11:19:18.701734",
     "status": "completed"
    },
    "tags": []
   },
   "outputs": [
    {
     "name": "stdout",
     "output_type": "stream",
     "text": [
      "/kaggle/input/competitive-data-science-predict-future-sales/items.csv\n",
      "/kaggle/input/competitive-data-science-predict-future-sales/sample_submission.csv\n",
      "/kaggle/input/competitive-data-science-predict-future-sales/item_categories.csv\n",
      "/kaggle/input/competitive-data-science-predict-future-sales/sales_train.csv\n",
      "/kaggle/input/competitive-data-science-predict-future-sales/shops.csv\n",
      "/kaggle/input/competitive-data-science-predict-future-sales/test.csv\n"
     ]
    }
   ],
   "source": [
    "# This Python 3 environment comes with many helpful analytics libraries installed\n",
    "# It is defined by the kaggle/python Docker image: https://github.com/kaggle/docker-python\n",
    "# For example, here's several helpful packages to load\n",
    "\n",
    "import warnings\n",
    "warnings.filterwarnings('ignore')\n",
    "\n",
    "import numpy as np # linear algebra\n",
    "import pandas as pd# data processing, CSV file I/O (e.g. pd.read_csv)\n",
    "import matplotlib.pyplot as plt\n",
    "import seaborn as sns\n",
    "sns.set(style = \"darkgrid\")\n",
    "\n",
    "# Input data files are available in the read-only \"../input/\" directory\n",
    "# For example, running this (by clicking run or pressing Shift+Enter) will list all files under the input directory\n",
    "\n",
    "import os\n",
    "for dirname, _, filenames in os.walk('/kaggle/input'):\n",
    "    for filename in filenames:\n",
    "        print(os.path.join(dirname, filename))\n",
    "\n",
    "# You can write up to 20GB to the current directory (/kaggle/working/) that gets preserved as output when you create a version using \"Save & Run All\" \n",
    "# You can also write temporary files to /kaggle/temp/, but they won't be saved outside of the current session"
   ]
  },
  {
   "cell_type": "markdown",
   "id": "8eadedfb",
   "metadata": {
    "papermill": {
     "duration": 0.034112,
     "end_time": "2022-02-26T11:19:19.817423",
     "exception": false,
     "start_time": "2022-02-26T11:19:19.783311",
     "status": "completed"
    },
    "tags": []
   },
   "source": [
    "### 1. Loading Data"
   ]
  },
  {
   "cell_type": "code",
   "execution_count": 2,
   "id": "0df91fcb",
   "metadata": {
    "execution": {
     "iopub.execute_input": "2022-02-26T11:19:19.894472Z",
     "iopub.status.busy": "2022-02-26T11:19:19.893552Z",
     "iopub.status.idle": "2022-02-26T11:19:22.650859Z",
     "shell.execute_reply": "2022-02-26T11:19:22.651748Z",
     "shell.execute_reply.started": "2022-02-26T11:09:31.319545Z"
    },
    "papermill": {
     "duration": 2.799103,
     "end_time": "2022-02-26T11:19:22.652011",
     "exception": false,
     "start_time": "2022-02-26T11:19:19.852908",
     "status": "completed"
    },
    "tags": []
   },
   "outputs": [],
   "source": [
    "# declaring dataframe\n",
    "\n",
    "sales_item = pd.read_csv('/kaggle/input/competitive-data-science-predict-future-sales/items.csv')\n",
    "sales_item_category = pd.read_csv('/kaggle/input/competitive-data-science-predict-future-sales/item_categories.csv')\n",
    "sales_shops = pd.read_csv('/kaggle/input/competitive-data-science-predict-future-sales/shops.csv')\n",
    "sales_train =  pd.read_csv('/kaggle/input/competitive-data-science-predict-future-sales/sales_train.csv', parse_dates=['date'], \n",
    "                    dtype={'date': 'str', 'date_block_num': 'int32', 'shop_id': 'int32','item_id': 'int32', 'item_price': 'float32', 'item_cnt_day': 'int32'})\n",
    "sales_test =  pd.read_csv('/kaggle/input/competitive-data-science-predict-future-sales/test.csv')\n"
   ]
  },
  {
   "cell_type": "code",
   "execution_count": 3,
   "id": "c98fcfcc",
   "metadata": {
    "execution": {
     "iopub.execute_input": "2022-02-26T11:19:22.735492Z",
     "iopub.status.busy": "2022-02-26T11:19:22.734707Z",
     "iopub.status.idle": "2022-02-26T11:19:22.738181Z",
     "shell.execute_reply": "2022-02-26T11:19:22.736012Z",
     "shell.execute_reply.started": "2022-02-26T11:09:33.761318Z"
    },
    "papermill": {
     "duration": 0.046265,
     "end_time": "2022-02-26T11:19:22.738338",
     "exception": false,
     "start_time": "2022-02-26T11:19:22.692073",
     "status": "completed"
    },
    "tags": []
   },
   "outputs": [
    {
     "name": "stdout",
     "output_type": "stream",
     "text": [
      "(22170, 3)\n",
      "(84, 2)\n",
      "(60, 2)\n",
      "(2935849, 6)\n",
      "(214200, 3)\n"
     ]
    }
   ],
   "source": [
    "#checking the file\n",
    "\n",
    "print(sales_item.shape)\n",
    "print(sales_item_category.shape)\n",
    "print(sales_shops.shape)\n",
    "print(sales_train.shape)\n",
    "print(sales_test.shape)"
   ]
  },
  {
   "cell_type": "code",
   "execution_count": 4,
   "id": "7fd4fe8c",
   "metadata": {
    "execution": {
     "iopub.execute_input": "2022-02-26T11:19:22.813286Z",
     "iopub.status.busy": "2022-02-26T11:19:22.812557Z",
     "iopub.status.idle": "2022-02-26T11:19:22.832275Z",
     "shell.execute_reply": "2022-02-26T11:19:22.831478Z",
     "shell.execute_reply.started": "2022-02-26T11:09:33.770692Z"
    },
    "papermill": {
     "duration": 0.0598,
     "end_time": "2022-02-26T11:19:22.832479",
     "exception": false,
     "start_time": "2022-02-26T11:19:22.772679",
     "status": "completed"
    },
    "tags": []
   },
   "outputs": [
    {
     "name": "stdout",
     "output_type": "stream",
     "text": [
      "Items : \n",
      "                                            item_name  item_id  \\\n",
      "0          ! ВО ВЛАСТИ НАВАЖДЕНИЯ (ПЛАСТ.)         D        0   \n",
      "1  !ABBYY FineReader 12 Professional Edition Full...        1   \n",
      "2      ***В ЛУЧАХ СЛАВЫ   (UNV)                    D        2   \n",
      "3    ***ГОЛУБАЯ ВОЛНА  (Univ)                      D        3   \n",
      "4        ***КОРОБКА (СТЕКЛО)                       D        4   \n",
      "\n",
      "   item_category_id  \n",
      "0                40  \n",
      "1                76  \n",
      "2                40  \n",
      "3                40  \n",
      "4                40  \n",
      "Item Category : \n",
      "         item_category_name  item_category_id\n",
      "0  PC - Гарнитуры/Наушники                 0\n",
      "1         Аксессуары - PS2                 1\n",
      "2         Аксессуары - PS3                 2\n",
      "3         Аксессуары - PS4                 3\n",
      "4         Аксессуары - PSP                 4\n",
      "Shops : \n",
      "                         shop_name  shop_id\n",
      "0   !Якутск Орджоникидзе, 56 фран        0\n",
      "1   !Якутск ТЦ \"Центральный\" фран        1\n",
      "2                Адыгея ТЦ \"Мега\"        2\n",
      "3  Балашиха ТРК \"Октябрь-Киномир\"        3\n",
      "4        Волжский ТЦ \"Волга Молл\"        4\n",
      "Train : \n",
      "         date  date_block_num  shop_id  item_id   item_price  item_cnt_day\n",
      "0 2013-02-01               0       59    22154   999.000000             1\n",
      "1 2013-03-01               0       25     2552   899.000000             1\n",
      "2 2013-05-01               0       25     2552   899.000000            -1\n",
      "3 2013-06-01               0       25     2554  1709.050049             1\n",
      "4 2013-01-15               0       25     2555  1099.000000             1\n",
      "Test : \n",
      "    ID  shop_id  item_id\n",
      "0   0        5     5037\n",
      "1   1        5     5320\n",
      "2   2        5     5233\n",
      "3   3        5     5232\n",
      "4   4        5     5268\n"
     ]
    }
   ],
   "source": [
    "print(\"Items : \\n\",sales_item.head())\n",
    "print(\"Item Category : \\n\",sales_item_category.head())\n",
    "print(\"Shops : \\n\",sales_shops.head())\n",
    "print(\"Train : \\n\",sales_train.head())\n",
    "print(\"Test : \\n\",sales_test.head())"
   ]
  },
  {
   "cell_type": "code",
   "execution_count": 5,
   "id": "4cd7a555",
   "metadata": {
    "execution": {
     "iopub.execute_input": "2022-02-26T11:19:22.910437Z",
     "iopub.status.busy": "2022-02-26T11:19:22.909421Z",
     "iopub.status.idle": "2022-02-26T11:19:22.948802Z",
     "shell.execute_reply": "2022-02-26T11:19:22.949239Z",
     "shell.execute_reply.started": "2022-02-26T11:09:33.794034Z"
    },
    "papermill": {
     "duration": 0.081422,
     "end_time": "2022-02-26T11:19:22.949420",
     "exception": false,
     "start_time": "2022-02-26T11:19:22.867998",
     "status": "completed"
    },
    "tags": []
   },
   "outputs": [
    {
     "name": "stdout",
     "output_type": "stream",
     "text": [
      "Items : \n",
      " item_name           0\n",
      "item_id             0\n",
      "item_category_id    0\n",
      "dtype: int64\n",
      "Item Category : \n",
      " item_category_name    0\n",
      "item_category_id      0\n",
      "dtype: int64\n",
      "Shops : \n",
      " shop_name    0\n",
      "shop_id      0\n",
      "dtype: int64\n",
      "Train : \n",
      " date              0\n",
      "date_block_num    0\n",
      "shop_id           0\n",
      "item_id           0\n",
      "item_price        0\n",
      "item_cnt_day      0\n",
      "dtype: int64\n",
      "Test : \n",
      " ID         0\n",
      "shop_id    0\n",
      "item_id    0\n",
      "dtype: int64\n"
     ]
    }
   ],
   "source": [
    "# checking null value\n",
    "\n",
    "print(\"Items : \\n\",sales_item.isnull().sum())\n",
    "print(\"Item Category : \\n\",sales_item_category.isnull().sum())\n",
    "print(\"Shops : \\n\",sales_shops.isnull().sum())\n",
    "print(\"Train : \\n\",sales_train.isnull().sum())\n",
    "print(\"Test : \\n\",sales_test.isnull().sum())"
   ]
  },
  {
   "cell_type": "code",
   "execution_count": 6,
   "id": "2ffe96d3",
   "metadata": {
    "execution": {
     "iopub.execute_input": "2022-02-26T11:19:23.025254Z",
     "iopub.status.busy": "2022-02-26T11:19:23.024280Z",
     "iopub.status.idle": "2022-02-26T11:19:23.635620Z",
     "shell.execute_reply": "2022-02-26T11:19:23.636025Z",
     "shell.execute_reply.started": "2022-02-26T11:09:33.844064Z"
    },
    "papermill": {
     "duration": 0.652053,
     "end_time": "2022-02-26T11:19:23.636207",
     "exception": false,
     "start_time": "2022-02-26T11:19:22.984154",
     "status": "completed"
    },
    "tags": []
   },
   "outputs": [
    {
     "name": "stdout",
     "output_type": "stream",
     "text": [
      "Duplicates in Train :  6\n"
     ]
    }
   ],
   "source": [
    "# duplicate counts in train dataset\n",
    "\n",
    "print('Duplicates in Train : ',len(sales_train[sales_train.duplicated()]))"
   ]
  },
  {
   "cell_type": "code",
   "execution_count": 7,
   "id": "8790a601",
   "metadata": {
    "execution": {
     "iopub.execute_input": "2022-02-26T11:19:23.707551Z",
     "iopub.status.busy": "2022-02-26T11:19:23.706914Z",
     "iopub.status.idle": "2022-02-26T11:19:24.290387Z",
     "shell.execute_reply": "2022-02-26T11:19:24.290808Z",
     "shell.execute_reply.started": "2022-02-26T11:09:34.467862Z"
    },
    "papermill": {
     "duration": 0.620577,
     "end_time": "2022-02-26T11:19:24.290969",
     "exception": false,
     "start_time": "2022-02-26T11:19:23.670392",
     "status": "completed"
    },
    "tags": []
   },
   "outputs": [
    {
     "data": {
      "text/html": [
       "<div>\n",
       "<style scoped>\n",
       "    .dataframe tbody tr th:only-of-type {\n",
       "        vertical-align: middle;\n",
       "    }\n",
       "\n",
       "    .dataframe tbody tr th {\n",
       "        vertical-align: top;\n",
       "    }\n",
       "\n",
       "    .dataframe thead th {\n",
       "        text-align: right;\n",
       "    }\n",
       "</style>\n",
       "<table border=\"1\" class=\"dataframe\">\n",
       "  <thead>\n",
       "    <tr style=\"text-align: right;\">\n",
       "      <th></th>\n",
       "      <th>date</th>\n",
       "      <th>date_block_num</th>\n",
       "      <th>shop_id</th>\n",
       "      <th>item_id</th>\n",
       "      <th>item_price</th>\n",
       "      <th>item_cnt_day</th>\n",
       "    </tr>\n",
       "  </thead>\n",
       "  <tbody>\n",
       "    <tr>\n",
       "      <th>76962</th>\n",
       "      <td>2013-05-01</td>\n",
       "      <td>0</td>\n",
       "      <td>54</td>\n",
       "      <td>20130</td>\n",
       "      <td>149.0</td>\n",
       "      <td>1</td>\n",
       "    </tr>\n",
       "    <tr>\n",
       "      <th>1435367</th>\n",
       "      <td>2014-02-23</td>\n",
       "      <td>13</td>\n",
       "      <td>50</td>\n",
       "      <td>3423</td>\n",
       "      <td>999.0</td>\n",
       "      <td>1</td>\n",
       "    </tr>\n",
       "    <tr>\n",
       "      <th>1496766</th>\n",
       "      <td>2014-03-23</td>\n",
       "      <td>14</td>\n",
       "      <td>21</td>\n",
       "      <td>3423</td>\n",
       "      <td>999.0</td>\n",
       "      <td>1</td>\n",
       "    </tr>\n",
       "    <tr>\n",
       "      <th>1671873</th>\n",
       "      <td>2014-01-05</td>\n",
       "      <td>16</td>\n",
       "      <td>50</td>\n",
       "      <td>3423</td>\n",
       "      <td>999.0</td>\n",
       "      <td>1</td>\n",
       "    </tr>\n",
       "    <tr>\n",
       "      <th>1866340</th>\n",
       "      <td>2014-12-07</td>\n",
       "      <td>18</td>\n",
       "      <td>25</td>\n",
       "      <td>3423</td>\n",
       "      <td>999.0</td>\n",
       "      <td>1</td>\n",
       "    </tr>\n",
       "    <tr>\n",
       "      <th>2198566</th>\n",
       "      <td>2014-12-31</td>\n",
       "      <td>23</td>\n",
       "      <td>42</td>\n",
       "      <td>21619</td>\n",
       "      <td>499.0</td>\n",
       "      <td>1</td>\n",
       "    </tr>\n",
       "  </tbody>\n",
       "</table>\n",
       "</div>"
      ],
      "text/plain": [
       "              date  date_block_num  shop_id  item_id  item_price  item_cnt_day\n",
       "76962   2013-05-01               0       54    20130       149.0             1\n",
       "1435367 2014-02-23              13       50     3423       999.0             1\n",
       "1496766 2014-03-23              14       21     3423       999.0             1\n",
       "1671873 2014-01-05              16       50     3423       999.0             1\n",
       "1866340 2014-12-07              18       25     3423       999.0             1\n",
       "2198566 2014-12-31              23       42    21619       499.0             1"
      ]
     },
     "execution_count": 7,
     "metadata": {},
     "output_type": "execute_result"
    }
   ],
   "source": [
    "sales_train[sales_train.duplicated()]"
   ]
  },
  {
   "cell_type": "code",
   "execution_count": 8,
   "id": "41e3486e",
   "metadata": {
    "execution": {
     "iopub.execute_input": "2022-02-26T11:19:24.368714Z",
     "iopub.status.busy": "2022-02-26T11:19:24.367953Z",
     "iopub.status.idle": "2022-02-26T11:19:24.379369Z",
     "shell.execute_reply": "2022-02-26T11:19:24.379916Z",
     "shell.execute_reply.started": "2022-02-26T11:09:35.056902Z"
    },
    "papermill": {
     "duration": 0.05395,
     "end_time": "2022-02-26T11:19:24.380128",
     "exception": false,
     "start_time": "2022-02-26T11:19:24.326178",
     "status": "completed"
    },
    "tags": []
   },
   "outputs": [
    {
     "name": "stdout",
     "output_type": "stream",
     "text": [
      "<class 'pandas.core.frame.DataFrame'>\n",
      "RangeIndex: 2935849 entries, 0 to 2935848\n",
      "Data columns (total 6 columns):\n",
      " #   Column          Dtype         \n",
      "---  ------          -----         \n",
      " 0   date            datetime64[ns]\n",
      " 1   date_block_num  int32         \n",
      " 2   shop_id         int32         \n",
      " 3   item_id         int32         \n",
      " 4   item_price      float32       \n",
      " 5   item_cnt_day    int32         \n",
      "dtypes: datetime64[ns](1), float32(1), int32(4)\n",
      "memory usage: 78.4 MB\n"
     ]
    }
   ],
   "source": [
    "sales_train.info()"
   ]
  },
  {
   "cell_type": "code",
   "execution_count": 9,
   "id": "9df4bb19",
   "metadata": {
    "execution": {
     "iopub.execute_input": "2022-02-26T11:19:24.454371Z",
     "iopub.status.busy": "2022-02-26T11:19:24.453757Z",
     "iopub.status.idle": "2022-02-26T11:19:24.785850Z",
     "shell.execute_reply": "2022-02-26T11:19:24.785364Z",
     "shell.execute_reply.started": "2022-02-26T11:09:35.069808Z"
    },
    "papermill": {
     "duration": 0.370295,
     "end_time": "2022-02-26T11:19:24.785988",
     "exception": false,
     "start_time": "2022-02-26T11:19:24.415693",
     "status": "completed"
    },
    "tags": []
   },
   "outputs": [
    {
     "data": {
      "text/html": [
       "<div>\n",
       "<style scoped>\n",
       "    .dataframe tbody tr th:only-of-type {\n",
       "        vertical-align: middle;\n",
       "    }\n",
       "\n",
       "    .dataframe tbody tr th {\n",
       "        vertical-align: top;\n",
       "    }\n",
       "\n",
       "    .dataframe thead th {\n",
       "        text-align: right;\n",
       "    }\n",
       "</style>\n",
       "<table border=\"1\" class=\"dataframe\">\n",
       "  <thead>\n",
       "    <tr style=\"text-align: right;\">\n",
       "      <th></th>\n",
       "      <th>date_block_num</th>\n",
       "      <th>shop_id</th>\n",
       "      <th>item_id</th>\n",
       "      <th>item_price</th>\n",
       "      <th>item_cnt_day</th>\n",
       "    </tr>\n",
       "  </thead>\n",
       "  <tbody>\n",
       "    <tr>\n",
       "      <th>count</th>\n",
       "      <td>2.935849e+06</td>\n",
       "      <td>2.935849e+06</td>\n",
       "      <td>2.935849e+06</td>\n",
       "      <td>2.935849e+06</td>\n",
       "      <td>2.935849e+06</td>\n",
       "    </tr>\n",
       "    <tr>\n",
       "      <th>mean</th>\n",
       "      <td>1.456991e+01</td>\n",
       "      <td>3.300173e+01</td>\n",
       "      <td>1.019723e+04</td>\n",
       "      <td>8.906234e+02</td>\n",
       "      <td>1.242641e+00</td>\n",
       "    </tr>\n",
       "    <tr>\n",
       "      <th>std</th>\n",
       "      <td>9.422988e+00</td>\n",
       "      <td>1.622697e+01</td>\n",
       "      <td>6.324297e+03</td>\n",
       "      <td>1.726440e+03</td>\n",
       "      <td>2.618834e+00</td>\n",
       "    </tr>\n",
       "    <tr>\n",
       "      <th>min</th>\n",
       "      <td>0.000000e+00</td>\n",
       "      <td>0.000000e+00</td>\n",
       "      <td>0.000000e+00</td>\n",
       "      <td>-1.000000e+00</td>\n",
       "      <td>-2.200000e+01</td>\n",
       "    </tr>\n",
       "    <tr>\n",
       "      <th>25%</th>\n",
       "      <td>7.000000e+00</td>\n",
       "      <td>2.200000e+01</td>\n",
       "      <td>4.476000e+03</td>\n",
       "      <td>2.490000e+02</td>\n",
       "      <td>1.000000e+00</td>\n",
       "    </tr>\n",
       "    <tr>\n",
       "      <th>50%</th>\n",
       "      <td>1.400000e+01</td>\n",
       "      <td>3.100000e+01</td>\n",
       "      <td>9.343000e+03</td>\n",
       "      <td>3.990000e+02</td>\n",
       "      <td>1.000000e+00</td>\n",
       "    </tr>\n",
       "    <tr>\n",
       "      <th>75%</th>\n",
       "      <td>2.300000e+01</td>\n",
       "      <td>4.700000e+01</td>\n",
       "      <td>1.568400e+04</td>\n",
       "      <td>9.990000e+02</td>\n",
       "      <td>1.000000e+00</td>\n",
       "    </tr>\n",
       "    <tr>\n",
       "      <th>max</th>\n",
       "      <td>3.300000e+01</td>\n",
       "      <td>5.900000e+01</td>\n",
       "      <td>2.216900e+04</td>\n",
       "      <td>3.079800e+05</td>\n",
       "      <td>2.169000e+03</td>\n",
       "    </tr>\n",
       "  </tbody>\n",
       "</table>\n",
       "</div>"
      ],
      "text/plain": [
       "       date_block_num       shop_id       item_id    item_price  item_cnt_day\n",
       "count    2.935849e+06  2.935849e+06  2.935849e+06  2.935849e+06  2.935849e+06\n",
       "mean     1.456991e+01  3.300173e+01  1.019723e+04  8.906234e+02  1.242641e+00\n",
       "std      9.422988e+00  1.622697e+01  6.324297e+03  1.726440e+03  2.618834e+00\n",
       "min      0.000000e+00  0.000000e+00  0.000000e+00 -1.000000e+00 -2.200000e+01\n",
       "25%      7.000000e+00  2.200000e+01  4.476000e+03  2.490000e+02  1.000000e+00\n",
       "50%      1.400000e+01  3.100000e+01  9.343000e+03  3.990000e+02  1.000000e+00\n",
       "75%      2.300000e+01  4.700000e+01  1.568400e+04  9.990000e+02  1.000000e+00\n",
       "max      3.300000e+01  5.900000e+01  2.216900e+04  3.079800e+05  2.169000e+03"
      ]
     },
     "execution_count": 9,
     "metadata": {},
     "output_type": "execute_result"
    }
   ],
   "source": [
    "sales_train.describe()"
   ]
  },
  {
   "cell_type": "markdown",
   "id": "fd029383",
   "metadata": {
    "papermill": {
     "duration": 0.035683,
     "end_time": "2022-02-26T11:19:24.857413",
     "exception": false,
     "start_time": "2022-02-26T11:19:24.821730",
     "status": "completed"
    },
    "tags": []
   },
   "source": [
    "We are downcasting dataframe to save memories"
   ]
  },
  {
   "cell_type": "code",
   "execution_count": 10,
   "id": "be30a990",
   "metadata": {
    "execution": {
     "iopub.execute_input": "2022-02-26T11:19:24.933322Z",
     "iopub.status.busy": "2022-02-26T11:19:24.932358Z",
     "iopub.status.idle": "2022-02-26T11:19:25.003311Z",
     "shell.execute_reply": "2022-02-26T11:19:25.003883Z",
     "shell.execute_reply.started": "2022-02-26T11:09:35.400002Z"
    },
    "papermill": {
     "duration": 0.111352,
     "end_time": "2022-02-26T11:19:25.004065",
     "exception": false,
     "start_time": "2022-02-26T11:19:24.892713",
     "status": "completed"
    },
    "tags": []
   },
   "outputs": [
    {
     "name": "stdout",
     "output_type": "stream",
     "text": [
      "<class 'pandas.core.frame.DataFrame'>\n",
      "RangeIndex: 2935849 entries, 0 to 2935848\n",
      "Data columns (total 6 columns):\n",
      " #   Column          Dtype         \n",
      "---  ------          -----         \n",
      " 0   date            datetime64[ns]\n",
      " 1   date_block_num  int16         \n",
      " 2   shop_id         int16         \n",
      " 3   item_id         int16         \n",
      " 4   item_price      float32       \n",
      " 5   item_cnt_day    int16         \n",
      "dtypes: datetime64[ns](1), float32(1), int16(4)\n",
      "memory usage: 56.0 MB\n"
     ]
    }
   ],
   "source": [
    "def datatype_downcast(df):\n",
    "    float_col= [i for i in df if df[i].dtype == 'float64']\n",
    "    int_col = [i for i in df if df[i].dtype in ['int64','int32']]\n",
    "    df[float_col] = df[float_col].astype(np.float32)\n",
    "    df[int_col] = df[int_col].astype(np.int16)\n",
    "    return df\n",
    "\n",
    "sales_train = datatype_downcast(sales_train)\n",
    "\n",
    "sales_train.info()"
   ]
  },
  {
   "cell_type": "markdown",
   "id": "b2aaf629",
   "metadata": {
    "execution": {
     "iopub.execute_input": "2022-02-26T10:17:07.493537Z",
     "iopub.status.busy": "2022-02-26T10:17:07.492642Z",
     "iopub.status.idle": "2022-02-26T10:17:07.499172Z",
     "shell.execute_reply": "2022-02-26T10:17:07.498100Z",
     "shell.execute_reply.started": "2022-02-26T10:17:07.493487Z"
    },
    "papermill": {
     "duration": 0.037807,
     "end_time": "2022-02-26T11:19:25.077396",
     "exception": false,
     "start_time": "2022-02-26T11:19:25.039589",
     "status": "completed"
    },
    "tags": []
   },
   "source": [
    "Joining the dataset sales_train"
   ]
  },
  {
   "cell_type": "code",
   "execution_count": 11,
   "id": "4783814d",
   "metadata": {
    "execution": {
     "iopub.execute_input": "2022-02-26T11:19:25.154593Z",
     "iopub.status.busy": "2022-02-26T11:19:25.153598Z",
     "iopub.status.idle": "2022-02-26T11:19:26.394970Z",
     "shell.execute_reply": "2022-02-26T11:19:26.394363Z",
     "shell.execute_reply.started": "2022-02-26T11:09:35.454850Z"
    },
    "papermill": {
     "duration": 1.281821,
     "end_time": "2022-02-26T11:19:26.395131",
     "exception": false,
     "start_time": "2022-02-26T11:19:25.113310",
     "status": "completed"
    },
    "tags": []
   },
   "outputs": [],
   "source": [
    "## Joining the dataset\n",
    "\n",
    "sales_train_new = sales_train.join(sales_item,on = 'item_id',rsuffix='_').join(sales_shops,on = 'shop_id',rsuffix='_').join(sales_item_category,on = 'item_category_id',rsuffix='_').drop(['item_id_','shop_id_','item_category_id_'],axis=1)"
   ]
  },
  {
   "cell_type": "code",
   "execution_count": 12,
   "id": "bd325869",
   "metadata": {
    "execution": {
     "iopub.execute_input": "2022-02-26T11:19:26.479882Z",
     "iopub.status.busy": "2022-02-26T11:19:26.479212Z",
     "iopub.status.idle": "2022-02-26T11:19:26.481917Z",
     "shell.execute_reply": "2022-02-26T11:19:26.482379Z",
     "shell.execute_reply.started": "2022-02-26T11:09:36.695149Z"
    },
    "papermill": {
     "duration": 0.051787,
     "end_time": "2022-02-26T11:19:26.482551",
     "exception": false,
     "start_time": "2022-02-26T11:19:26.430764",
     "status": "completed"
    },
    "tags": []
   },
   "outputs": [
    {
     "data": {
      "text/html": [
       "<div>\n",
       "<style scoped>\n",
       "    .dataframe tbody tr th:only-of-type {\n",
       "        vertical-align: middle;\n",
       "    }\n",
       "\n",
       "    .dataframe tbody tr th {\n",
       "        vertical-align: top;\n",
       "    }\n",
       "\n",
       "    .dataframe thead th {\n",
       "        text-align: right;\n",
       "    }\n",
       "</style>\n",
       "<table border=\"1\" class=\"dataframe\">\n",
       "  <thead>\n",
       "    <tr style=\"text-align: right;\">\n",
       "      <th></th>\n",
       "      <th>date</th>\n",
       "      <th>date_block_num</th>\n",
       "      <th>shop_id</th>\n",
       "      <th>item_id</th>\n",
       "      <th>item_price</th>\n",
       "      <th>item_cnt_day</th>\n",
       "      <th>item_name</th>\n",
       "      <th>item_category_id</th>\n",
       "      <th>shop_name</th>\n",
       "      <th>item_category_name</th>\n",
       "    </tr>\n",
       "  </thead>\n",
       "  <tbody>\n",
       "    <tr>\n",
       "      <th>0</th>\n",
       "      <td>2013-02-01</td>\n",
       "      <td>0</td>\n",
       "      <td>59</td>\n",
       "      <td>22154</td>\n",
       "      <td>999.000000</td>\n",
       "      <td>1</td>\n",
       "      <td>ЯВЛЕНИЕ 2012 (BD)</td>\n",
       "      <td>37</td>\n",
       "      <td>Ярославль ТЦ \"Альтаир\"</td>\n",
       "      <td>Кино - Blu-Ray</td>\n",
       "    </tr>\n",
       "    <tr>\n",
       "      <th>1</th>\n",
       "      <td>2013-03-01</td>\n",
       "      <td>0</td>\n",
       "      <td>25</td>\n",
       "      <td>2552</td>\n",
       "      <td>899.000000</td>\n",
       "      <td>1</td>\n",
       "      <td>DEEP PURPLE  The House Of Blue Light  LP</td>\n",
       "      <td>58</td>\n",
       "      <td>Москва ТРК \"Атриум\"</td>\n",
       "      <td>Музыка - Винил</td>\n",
       "    </tr>\n",
       "    <tr>\n",
       "      <th>2</th>\n",
       "      <td>2013-05-01</td>\n",
       "      <td>0</td>\n",
       "      <td>25</td>\n",
       "      <td>2552</td>\n",
       "      <td>899.000000</td>\n",
       "      <td>-1</td>\n",
       "      <td>DEEP PURPLE  The House Of Blue Light  LP</td>\n",
       "      <td>58</td>\n",
       "      <td>Москва ТРК \"Атриум\"</td>\n",
       "      <td>Музыка - Винил</td>\n",
       "    </tr>\n",
       "    <tr>\n",
       "      <th>3</th>\n",
       "      <td>2013-06-01</td>\n",
       "      <td>0</td>\n",
       "      <td>25</td>\n",
       "      <td>2554</td>\n",
       "      <td>1709.050049</td>\n",
       "      <td>1</td>\n",
       "      <td>DEEP PURPLE  Who Do You Think We Are  LP</td>\n",
       "      <td>58</td>\n",
       "      <td>Москва ТРК \"Атриум\"</td>\n",
       "      <td>Музыка - Винил</td>\n",
       "    </tr>\n",
       "    <tr>\n",
       "      <th>4</th>\n",
       "      <td>2013-01-15</td>\n",
       "      <td>0</td>\n",
       "      <td>25</td>\n",
       "      <td>2555</td>\n",
       "      <td>1099.000000</td>\n",
       "      <td>1</td>\n",
       "      <td>DEEP PURPLE 30 Very Best Of 2CD (Фирм.)</td>\n",
       "      <td>56</td>\n",
       "      <td>Москва ТРК \"Атриум\"</td>\n",
       "      <td>Музыка - CD фирменного производства</td>\n",
       "    </tr>\n",
       "  </tbody>\n",
       "</table>\n",
       "</div>"
      ],
      "text/plain": [
       "        date  date_block_num  shop_id  item_id   item_price  item_cnt_day  \\\n",
       "0 2013-02-01               0       59    22154   999.000000             1   \n",
       "1 2013-03-01               0       25     2552   899.000000             1   \n",
       "2 2013-05-01               0       25     2552   899.000000            -1   \n",
       "3 2013-06-01               0       25     2554  1709.050049             1   \n",
       "4 2013-01-15               0       25     2555  1099.000000             1   \n",
       "\n",
       "                                  item_name  item_category_id  \\\n",
       "0                         ЯВЛЕНИЕ 2012 (BD)                37   \n",
       "1  DEEP PURPLE  The House Of Blue Light  LP                58   \n",
       "2  DEEP PURPLE  The House Of Blue Light  LP                58   \n",
       "3  DEEP PURPLE  Who Do You Think We Are  LP                58   \n",
       "4   DEEP PURPLE 30 Very Best Of 2CD (Фирм.)                56   \n",
       "\n",
       "                shop_name                   item_category_name  \n",
       "0  Ярославль ТЦ \"Альтаир\"                       Кино - Blu-Ray  \n",
       "1     Москва ТРК \"Атриум\"                       Музыка - Винил  \n",
       "2     Москва ТРК \"Атриум\"                       Музыка - Винил  \n",
       "3     Москва ТРК \"Атриум\"                       Музыка - Винил  \n",
       "4     Москва ТРК \"Атриум\"  Музыка - CD фирменного производства  "
      ]
     },
     "execution_count": 12,
     "metadata": {},
     "output_type": "execute_result"
    }
   ],
   "source": [
    "sales_train_new.head()"
   ]
  },
  {
   "cell_type": "code",
   "execution_count": 13,
   "id": "527ee742",
   "metadata": {
    "execution": {
     "iopub.execute_input": "2022-02-26T11:19:26.559626Z",
     "iopub.status.busy": "2022-02-26T11:19:26.558985Z",
     "iopub.status.idle": "2022-02-26T11:19:26.570173Z",
     "shell.execute_reply": "2022-02-26T11:19:26.570635Z",
     "shell.execute_reply.started": "2022-02-26T11:09:36.712920Z"
    },
    "papermill": {
     "duration": 0.05164,
     "end_time": "2022-02-26T11:19:26.570801",
     "exception": false,
     "start_time": "2022-02-26T11:19:26.519161",
     "status": "completed"
    },
    "tags": []
   },
   "outputs": [
    {
     "data": {
      "text/html": [
       "<div>\n",
       "<style scoped>\n",
       "    .dataframe tbody tr th:only-of-type {\n",
       "        vertical-align: middle;\n",
       "    }\n",
       "\n",
       "    .dataframe tbody tr th {\n",
       "        vertical-align: top;\n",
       "    }\n",
       "\n",
       "    .dataframe thead th {\n",
       "        text-align: right;\n",
       "    }\n",
       "</style>\n",
       "<table border=\"1\" class=\"dataframe\">\n",
       "  <thead>\n",
       "    <tr style=\"text-align: right;\">\n",
       "      <th></th>\n",
       "      <th>0</th>\n",
       "      <th>1</th>\n",
       "      <th>2</th>\n",
       "      <th>3</th>\n",
       "      <th>4</th>\n",
       "    </tr>\n",
       "  </thead>\n",
       "  <tbody>\n",
       "    <tr>\n",
       "      <th>date</th>\n",
       "      <td>2013-02-01 00:00:00</td>\n",
       "      <td>2013-03-01 00:00:00</td>\n",
       "      <td>2013-05-01 00:00:00</td>\n",
       "      <td>2013-06-01 00:00:00</td>\n",
       "      <td>2013-01-15 00:00:00</td>\n",
       "    </tr>\n",
       "    <tr>\n",
       "      <th>date_block_num</th>\n",
       "      <td>0</td>\n",
       "      <td>0</td>\n",
       "      <td>0</td>\n",
       "      <td>0</td>\n",
       "      <td>0</td>\n",
       "    </tr>\n",
       "    <tr>\n",
       "      <th>shop_id</th>\n",
       "      <td>59</td>\n",
       "      <td>25</td>\n",
       "      <td>25</td>\n",
       "      <td>25</td>\n",
       "      <td>25</td>\n",
       "    </tr>\n",
       "    <tr>\n",
       "      <th>item_id</th>\n",
       "      <td>22154</td>\n",
       "      <td>2552</td>\n",
       "      <td>2552</td>\n",
       "      <td>2554</td>\n",
       "      <td>2555</td>\n",
       "    </tr>\n",
       "    <tr>\n",
       "      <th>item_price</th>\n",
       "      <td>999.0</td>\n",
       "      <td>899.0</td>\n",
       "      <td>899.0</td>\n",
       "      <td>1709.050049</td>\n",
       "      <td>1099.0</td>\n",
       "    </tr>\n",
       "    <tr>\n",
       "      <th>item_cnt_day</th>\n",
       "      <td>1</td>\n",
       "      <td>1</td>\n",
       "      <td>-1</td>\n",
       "      <td>1</td>\n",
       "      <td>1</td>\n",
       "    </tr>\n",
       "    <tr>\n",
       "      <th>item_name</th>\n",
       "      <td>ЯВЛЕНИЕ 2012 (BD)</td>\n",
       "      <td>DEEP PURPLE  The House Of Blue Light  LP</td>\n",
       "      <td>DEEP PURPLE  The House Of Blue Light  LP</td>\n",
       "      <td>DEEP PURPLE  Who Do You Think We Are  LP</td>\n",
       "      <td>DEEP PURPLE 30 Very Best Of 2CD (Фирм.)</td>\n",
       "    </tr>\n",
       "    <tr>\n",
       "      <th>item_category_id</th>\n",
       "      <td>37</td>\n",
       "      <td>58</td>\n",
       "      <td>58</td>\n",
       "      <td>58</td>\n",
       "      <td>56</td>\n",
       "    </tr>\n",
       "    <tr>\n",
       "      <th>shop_name</th>\n",
       "      <td>Ярославль ТЦ \"Альтаир\"</td>\n",
       "      <td>Москва ТРК \"Атриум\"</td>\n",
       "      <td>Москва ТРК \"Атриум\"</td>\n",
       "      <td>Москва ТРК \"Атриум\"</td>\n",
       "      <td>Москва ТРК \"Атриум\"</td>\n",
       "    </tr>\n",
       "    <tr>\n",
       "      <th>item_category_name</th>\n",
       "      <td>Кино - Blu-Ray</td>\n",
       "      <td>Музыка - Винил</td>\n",
       "      <td>Музыка - Винил</td>\n",
       "      <td>Музыка - Винил</td>\n",
       "      <td>Музыка - CD фирменного производства</td>\n",
       "    </tr>\n",
       "  </tbody>\n",
       "</table>\n",
       "</div>"
      ],
      "text/plain": [
       "                                         0  \\\n",
       "date                   2013-02-01 00:00:00   \n",
       "date_block_num                           0   \n",
       "shop_id                                 59   \n",
       "item_id                              22154   \n",
       "item_price                           999.0   \n",
       "item_cnt_day                             1   \n",
       "item_name                ЯВЛЕНИЕ 2012 (BD)   \n",
       "item_category_id                        37   \n",
       "shop_name           Ярославль ТЦ \"Альтаир\"   \n",
       "item_category_name          Кино - Blu-Ray   \n",
       "\n",
       "                                                           1  \\\n",
       "date                                     2013-03-01 00:00:00   \n",
       "date_block_num                                             0   \n",
       "shop_id                                                   25   \n",
       "item_id                                                 2552   \n",
       "item_price                                             899.0   \n",
       "item_cnt_day                                               1   \n",
       "item_name           DEEP PURPLE  The House Of Blue Light  LP   \n",
       "item_category_id                                          58   \n",
       "shop_name                                Москва ТРК \"Атриум\"   \n",
       "item_category_name                            Музыка - Винил   \n",
       "\n",
       "                                                           2  \\\n",
       "date                                     2013-05-01 00:00:00   \n",
       "date_block_num                                             0   \n",
       "shop_id                                                   25   \n",
       "item_id                                                 2552   \n",
       "item_price                                             899.0   \n",
       "item_cnt_day                                              -1   \n",
       "item_name           DEEP PURPLE  The House Of Blue Light  LP   \n",
       "item_category_id                                          58   \n",
       "shop_name                                Москва ТРК \"Атриум\"   \n",
       "item_category_name                            Музыка - Винил   \n",
       "\n",
       "                                                           3  \\\n",
       "date                                     2013-06-01 00:00:00   \n",
       "date_block_num                                             0   \n",
       "shop_id                                                   25   \n",
       "item_id                                                 2554   \n",
       "item_price                                       1709.050049   \n",
       "item_cnt_day                                               1   \n",
       "item_name           DEEP PURPLE  Who Do You Think We Are  LP   \n",
       "item_category_id                                          58   \n",
       "shop_name                                Москва ТРК \"Атриум\"   \n",
       "item_category_name                            Музыка - Винил   \n",
       "\n",
       "                                                          4  \n",
       "date                                    2013-01-15 00:00:00  \n",
       "date_block_num                                            0  \n",
       "shop_id                                                  25  \n",
       "item_id                                                2555  \n",
       "item_price                                           1099.0  \n",
       "item_cnt_day                                              1  \n",
       "item_name           DEEP PURPLE 30 Very Best Of 2CD (Фирм.)  \n",
       "item_category_id                                         56  \n",
       "shop_name                               Москва ТРК \"Атриум\"  \n",
       "item_category_name      Музыка - CD фирменного производства  "
      ]
     },
     "execution_count": 13,
     "metadata": {},
     "output_type": "execute_result"
    }
   ],
   "source": [
    "sales_train_new.head().T"
   ]
  },
  {
   "cell_type": "code",
   "execution_count": 14,
   "id": "e5834155",
   "metadata": {
    "execution": {
     "iopub.execute_input": "2022-02-26T11:19:26.646774Z",
     "iopub.status.busy": "2022-02-26T11:19:26.646201Z",
     "iopub.status.idle": "2022-02-26T11:19:26.669670Z",
     "shell.execute_reply": "2022-02-26T11:19:26.670141Z",
     "shell.execute_reply.started": "2022-02-26T11:09:36.737589Z"
    },
    "papermill": {
     "duration": 0.06305,
     "end_time": "2022-02-26T11:19:26.670307",
     "exception": false,
     "start_time": "2022-02-26T11:19:26.607257",
     "status": "completed"
    },
    "tags": []
   },
   "outputs": [
    {
     "name": "stdout",
     "output_type": "stream",
     "text": [
      "Minimum Date: 2013-01-01\n",
      "Maximum Date: 2015-12-10\n"
     ]
    }
   ],
   "source": [
    "print('Minimum Date: %s' % sales_train_new['date'].min().date())\n",
    "print('Maximum Date: %s' % sales_train_new['date'].max().date())"
   ]
  },
  {
   "cell_type": "markdown",
   "id": "7c854d55",
   "metadata": {
    "papermill": {
     "duration": 0.036879,
     "end_time": "2022-02-26T11:19:26.744505",
     "exception": false,
     "start_time": "2022-02-26T11:19:26.707626",
     "status": "completed"
    },
    "tags": []
   },
   "source": [
    "Checking Data Leakage"
   ]
  },
  {
   "cell_type": "code",
   "execution_count": 15,
   "id": "840353be",
   "metadata": {
    "execution": {
     "iopub.execute_input": "2022-02-26T11:19:26.824378Z",
     "iopub.status.busy": "2022-02-26T11:19:26.823677Z",
     "iopub.status.idle": "2022-02-26T11:19:26.833420Z",
     "shell.execute_reply": "2022-02-26T11:19:26.833882Z",
     "shell.execute_reply.started": "2022-02-26T11:09:36.766024Z"
    },
    "papermill": {
     "duration": 0.052252,
     "end_time": "2022-02-26T11:19:26.834070",
     "exception": false,
     "start_time": "2022-02-26T11:19:26.781818",
     "status": "completed"
    },
    "tags": []
   },
   "outputs": [
    {
     "name": "stdout",
     "output_type": "stream",
     "text": [
      "Shop ID :  [ 5  4  6  3  2  7 10 12 28 31 26 25 22 24 21 15 16 18 14 19 42 50 49 53\n",
      " 52 47 48 57 58 59 55 56 36 37 35 38 34 46 41 44 39 45]\n",
      "Item ID :  [ 5037  5320  5233 ... 15757 19648   969]\n"
     ]
    }
   ],
   "source": [
    "# checking shopsid and item_id in test\n",
    "\n",
    "shop_id_test = sales_test['shop_id'].unique()\n",
    "print(\"Shop ID : \",shop_id_test)\n",
    "\n",
    "item_id_test = sales_test['item_id'].unique()\n",
    "print(\"Item ID : \",item_id_test)"
   ]
  },
  {
   "cell_type": "code",
   "execution_count": 16,
   "id": "e86380d1",
   "metadata": {
    "execution": {
     "iopub.execute_input": "2022-02-26T11:19:26.912915Z",
     "iopub.status.busy": "2022-02-26T11:19:26.912333Z",
     "iopub.status.idle": "2022-02-26T11:19:26.916103Z",
     "shell.execute_reply": "2022-02-26T11:19:26.916548Z",
     "shell.execute_reply.started": "2022-02-26T11:09:36.778302Z"
    },
    "papermill": {
     "duration": 0.044326,
     "end_time": "2022-02-26T11:19:26.916703",
     "exception": false,
     "start_time": "2022-02-26T11:19:26.872377",
     "status": "completed"
    },
    "tags": []
   },
   "outputs": [
    {
     "data": {
      "text/plain": [
       "(2935849, 10)"
      ]
     },
     "execution_count": 16,
     "metadata": {},
     "output_type": "execute_result"
    }
   ],
   "source": [
    "# checking the shape before leakage\n",
    "\n",
    "sales_train_new.shape"
   ]
  },
  {
   "cell_type": "code",
   "execution_count": 17,
   "id": "b07446da",
   "metadata": {
    "execution": {
     "iopub.execute_input": "2022-02-26T11:19:26.997379Z",
     "iopub.status.busy": "2022-02-26T11:19:26.996553Z",
     "iopub.status.idle": "2022-02-26T11:19:27.312855Z",
     "shell.execute_reply": "2022-02-26T11:19:27.313377Z",
     "shell.execute_reply.started": "2022-02-26T11:09:36.786017Z"
    },
    "papermill": {
     "duration": 0.358012,
     "end_time": "2022-02-26T11:19:27.313548",
     "exception": false,
     "start_time": "2022-02-26T11:19:26.955536",
     "status": "completed"
    },
    "tags": []
   },
   "outputs": [],
   "source": [
    "# removing leakage\n",
    "\n",
    "sales_train_new = sales_train_new[sales_train_new['shop_id'].isin(shop_id_test)]\n",
    "sales_train_new = sales_train_new[sales_train_new['item_id'].isin(item_id_test)]"
   ]
  },
  {
   "cell_type": "code",
   "execution_count": 18,
   "id": "00a2ba8d",
   "metadata": {
    "execution": {
     "iopub.execute_input": "2022-02-26T11:19:27.391563Z",
     "iopub.status.busy": "2022-02-26T11:19:27.390942Z",
     "iopub.status.idle": "2022-02-26T11:19:27.395960Z",
     "shell.execute_reply": "2022-02-26T11:19:27.396516Z",
     "shell.execute_reply.started": "2022-02-26T11:09:37.090851Z"
    },
    "papermill": {
     "duration": 0.045543,
     "end_time": "2022-02-26T11:19:27.396688",
     "exception": false,
     "start_time": "2022-02-26T11:19:27.351145",
     "status": "completed"
    },
    "tags": []
   },
   "outputs": [
    {
     "data": {
      "text/plain": [
       "(1224439, 10)"
      ]
     },
     "execution_count": 18,
     "metadata": {},
     "output_type": "execute_result"
    }
   ],
   "source": [
    "# after removing leakage\n",
    "sales_train_new.shape"
   ]
  },
  {
   "cell_type": "markdown",
   "id": "9f4ed7f2",
   "metadata": {
    "papermill": {
     "duration": 0.038755,
     "end_time": "2022-02-26T11:19:27.473426",
     "exception": false,
     "start_time": "2022-02-26T11:19:27.434671",
     "status": "completed"
    },
    "tags": []
   },
   "source": [
    "### Step 2 : Data Cleaning"
   ]
  },
  {
   "cell_type": "code",
   "execution_count": 19,
   "id": "63d2c522",
   "metadata": {
    "execution": {
     "iopub.execute_input": "2022-02-26T11:19:27.554163Z",
     "iopub.status.busy": "2022-02-26T11:19:27.553589Z",
     "iopub.status.idle": "2022-02-26T11:19:27.643236Z",
     "shell.execute_reply": "2022-02-26T11:19:27.643702Z",
     "shell.execute_reply.started": "2022-02-26T11:09:37.099020Z"
    },
    "papermill": {
     "duration": 0.131337,
     "end_time": "2022-02-26T11:19:27.643861",
     "exception": false,
     "start_time": "2022-02-26T11:19:27.512524",
     "status": "completed"
    },
    "tags": []
   },
   "outputs": [
    {
     "data": {
      "text/html": [
       "<div>\n",
       "<style scoped>\n",
       "    .dataframe tbody tr th:only-of-type {\n",
       "        vertical-align: middle;\n",
       "    }\n",
       "\n",
       "    .dataframe tbody tr th {\n",
       "        vertical-align: top;\n",
       "    }\n",
       "\n",
       "    .dataframe thead th {\n",
       "        text-align: right;\n",
       "    }\n",
       "</style>\n",
       "<table border=\"1\" class=\"dataframe\">\n",
       "  <thead>\n",
       "    <tr style=\"text-align: right;\">\n",
       "      <th></th>\n",
       "      <th>date</th>\n",
       "      <th>date_block_num</th>\n",
       "      <th>shop_id</th>\n",
       "      <th>item_id</th>\n",
       "      <th>item_price</th>\n",
       "      <th>item_cnt_day</th>\n",
       "      <th>item_name</th>\n",
       "      <th>item_category_id</th>\n",
       "      <th>shop_name</th>\n",
       "      <th>item_category_name</th>\n",
       "    </tr>\n",
       "  </thead>\n",
       "  <tbody>\n",
       "    <tr>\n",
       "      <th>0</th>\n",
       "      <td>2013-02-01</td>\n",
       "      <td>0</td>\n",
       "      <td>59</td>\n",
       "      <td>22154</td>\n",
       "      <td>999.0</td>\n",
       "      <td>1</td>\n",
       "      <td>ЯВЛЕНИЕ 2012 (BD)</td>\n",
       "      <td>37</td>\n",
       "      <td>Ярославль ТЦ \"Альтаир\"</td>\n",
       "      <td>Кино - Blu-Ray</td>\n",
       "    </tr>\n",
       "    <tr>\n",
       "      <th>10</th>\n",
       "      <td>2013-03-01</td>\n",
       "      <td>0</td>\n",
       "      <td>25</td>\n",
       "      <td>2574</td>\n",
       "      <td>399.0</td>\n",
       "      <td>2</td>\n",
       "      <td>DEL REY LANA  Born To Die  The Paradise Editio...</td>\n",
       "      <td>55</td>\n",
       "      <td>Москва ТРК \"Атриум\"</td>\n",
       "      <td>Музыка - CD локального производства</td>\n",
       "    </tr>\n",
       "    <tr>\n",
       "      <th>11</th>\n",
       "      <td>2013-05-01</td>\n",
       "      <td>0</td>\n",
       "      <td>25</td>\n",
       "      <td>2574</td>\n",
       "      <td>399.0</td>\n",
       "      <td>1</td>\n",
       "      <td>DEL REY LANA  Born To Die  The Paradise Editio...</td>\n",
       "      <td>55</td>\n",
       "      <td>Москва ТРК \"Атриум\"</td>\n",
       "      <td>Музыка - CD локального производства</td>\n",
       "    </tr>\n",
       "    <tr>\n",
       "      <th>12</th>\n",
       "      <td>2013-07-01</td>\n",
       "      <td>0</td>\n",
       "      <td>25</td>\n",
       "      <td>2574</td>\n",
       "      <td>399.0</td>\n",
       "      <td>1</td>\n",
       "      <td>DEL REY LANA  Born To Die  The Paradise Editio...</td>\n",
       "      <td>55</td>\n",
       "      <td>Москва ТРК \"Атриум\"</td>\n",
       "      <td>Музыка - CD локального производства</td>\n",
       "    </tr>\n",
       "    <tr>\n",
       "      <th>13</th>\n",
       "      <td>2013-08-01</td>\n",
       "      <td>0</td>\n",
       "      <td>25</td>\n",
       "      <td>2574</td>\n",
       "      <td>399.0</td>\n",
       "      <td>2</td>\n",
       "      <td>DEL REY LANA  Born To Die  The Paradise Editio...</td>\n",
       "      <td>55</td>\n",
       "      <td>Москва ТРК \"Атриум\"</td>\n",
       "      <td>Музыка - CD локального производства</td>\n",
       "    </tr>\n",
       "    <tr>\n",
       "      <th>...</th>\n",
       "      <td>...</td>\n",
       "      <td>...</td>\n",
       "      <td>...</td>\n",
       "      <td>...</td>\n",
       "      <td>...</td>\n",
       "      <td>...</td>\n",
       "      <td>...</td>\n",
       "      <td>...</td>\n",
       "      <td>...</td>\n",
       "      <td>...</td>\n",
       "    </tr>\n",
       "    <tr>\n",
       "      <th>2935844</th>\n",
       "      <td>2015-10-10</td>\n",
       "      <td>33</td>\n",
       "      <td>25</td>\n",
       "      <td>7409</td>\n",
       "      <td>299.0</td>\n",
       "      <td>1</td>\n",
       "      <td>V/A Nu Jazz Selection (digipack)</td>\n",
       "      <td>55</td>\n",
       "      <td>Москва ТРК \"Атриум\"</td>\n",
       "      <td>Музыка - CD локального производства</td>\n",
       "    </tr>\n",
       "    <tr>\n",
       "      <th>2935845</th>\n",
       "      <td>2015-09-10</td>\n",
       "      <td>33</td>\n",
       "      <td>25</td>\n",
       "      <td>7460</td>\n",
       "      <td>299.0</td>\n",
       "      <td>1</td>\n",
       "      <td>V/A The Golden Jazz Collection  1  2CD</td>\n",
       "      <td>55</td>\n",
       "      <td>Москва ТРК \"Атриум\"</td>\n",
       "      <td>Музыка - CD локального производства</td>\n",
       "    </tr>\n",
       "    <tr>\n",
       "      <th>2935846</th>\n",
       "      <td>2015-10-14</td>\n",
       "      <td>33</td>\n",
       "      <td>25</td>\n",
       "      <td>7459</td>\n",
       "      <td>349.0</td>\n",
       "      <td>1</td>\n",
       "      <td>V/A The Best Of The 3 Tenors</td>\n",
       "      <td>55</td>\n",
       "      <td>Москва ТРК \"Атриум\"</td>\n",
       "      <td>Музыка - CD локального производства</td>\n",
       "    </tr>\n",
       "    <tr>\n",
       "      <th>2935847</th>\n",
       "      <td>2015-10-22</td>\n",
       "      <td>33</td>\n",
       "      <td>25</td>\n",
       "      <td>7440</td>\n",
       "      <td>299.0</td>\n",
       "      <td>1</td>\n",
       "      <td>V/A Relax Collection  Planet MP3 (mp3-CD) (jewel)</td>\n",
       "      <td>57</td>\n",
       "      <td>Москва ТРК \"Атриум\"</td>\n",
       "      <td>Музыка - MP3</td>\n",
       "    </tr>\n",
       "    <tr>\n",
       "      <th>2935848</th>\n",
       "      <td>2015-03-10</td>\n",
       "      <td>33</td>\n",
       "      <td>25</td>\n",
       "      <td>7460</td>\n",
       "      <td>299.0</td>\n",
       "      <td>1</td>\n",
       "      <td>V/A The Golden Jazz Collection  1  2CD</td>\n",
       "      <td>55</td>\n",
       "      <td>Москва ТРК \"Атриум\"</td>\n",
       "      <td>Музыка - CD локального производства</td>\n",
       "    </tr>\n",
       "  </tbody>\n",
       "</table>\n",
       "<p>1224439 rows × 10 columns</p>\n",
       "</div>"
      ],
      "text/plain": [
       "              date  date_block_num  shop_id  item_id  item_price  \\\n",
       "0       2013-02-01               0       59    22154       999.0   \n",
       "10      2013-03-01               0       25     2574       399.0   \n",
       "11      2013-05-01               0       25     2574       399.0   \n",
       "12      2013-07-01               0       25     2574       399.0   \n",
       "13      2013-08-01               0       25     2574       399.0   \n",
       "...            ...             ...      ...      ...         ...   \n",
       "2935844 2015-10-10              33       25     7409       299.0   \n",
       "2935845 2015-09-10              33       25     7460       299.0   \n",
       "2935846 2015-10-14              33       25     7459       349.0   \n",
       "2935847 2015-10-22              33       25     7440       299.0   \n",
       "2935848 2015-03-10              33       25     7460       299.0   \n",
       "\n",
       "         item_cnt_day                                          item_name  \\\n",
       "0                   1                                  ЯВЛЕНИЕ 2012 (BD)   \n",
       "10                  2  DEL REY LANA  Born To Die  The Paradise Editio...   \n",
       "11                  1  DEL REY LANA  Born To Die  The Paradise Editio...   \n",
       "12                  1  DEL REY LANA  Born To Die  The Paradise Editio...   \n",
       "13                  2  DEL REY LANA  Born To Die  The Paradise Editio...   \n",
       "...               ...                                                ...   \n",
       "2935844             1                   V/A Nu Jazz Selection (digipack)   \n",
       "2935845             1             V/A The Golden Jazz Collection  1  2CD   \n",
       "2935846             1                       V/A The Best Of The 3 Tenors   \n",
       "2935847             1  V/A Relax Collection  Planet MP3 (mp3-CD) (jewel)   \n",
       "2935848             1             V/A The Golden Jazz Collection  1  2CD   \n",
       "\n",
       "         item_category_id               shop_name  \\\n",
       "0                      37  Ярославль ТЦ \"Альтаир\"   \n",
       "10                     55     Москва ТРК \"Атриум\"   \n",
       "11                     55     Москва ТРК \"Атриум\"   \n",
       "12                     55     Москва ТРК \"Атриум\"   \n",
       "13                     55     Москва ТРК \"Атриум\"   \n",
       "...                   ...                     ...   \n",
       "2935844                55     Москва ТРК \"Атриум\"   \n",
       "2935845                55     Москва ТРК \"Атриум\"   \n",
       "2935846                55     Москва ТРК \"Атриум\"   \n",
       "2935847                57     Москва ТРК \"Атриум\"   \n",
       "2935848                55     Москва ТРК \"Атриум\"   \n",
       "\n",
       "                          item_category_name  \n",
       "0                             Кино - Blu-Ray  \n",
       "10       Музыка - CD локального производства  \n",
       "11       Музыка - CD локального производства  \n",
       "12       Музыка - CD локального производства  \n",
       "13       Музыка - CD локального производства  \n",
       "...                                      ...  \n",
       "2935844  Музыка - CD локального производства  \n",
       "2935845  Музыка - CD локального производства  \n",
       "2935846  Музыка - CD локального производства  \n",
       "2935847                         Музыка - MP3  \n",
       "2935848  Музыка - CD локального производства  \n",
       "\n",
       "[1224439 rows x 10 columns]"
      ]
     },
     "execution_count": 19,
     "metadata": {},
     "output_type": "execute_result"
    }
   ],
   "source": [
    "sales_train_new.query('item_price > 0')"
   ]
  },
  {
   "cell_type": "code",
   "execution_count": 20,
   "id": "5f6648ed",
   "metadata": {
    "execution": {
     "iopub.execute_input": "2022-02-26T11:19:27.734340Z",
     "iopub.status.busy": "2022-02-26T11:19:27.733689Z",
     "iopub.status.idle": "2022-02-26T11:19:27.748796Z",
     "shell.execute_reply": "2022-02-26T11:19:27.749229Z",
     "shell.execute_reply.started": "2022-02-26T11:09:37.212109Z"
    },
    "papermill": {
     "duration": 0.059585,
     "end_time": "2022-02-26T11:19:27.749456",
     "exception": false,
     "start_time": "2022-02-26T11:19:27.689871",
     "status": "completed"
    },
    "tags": []
   },
   "outputs": [
    {
     "data": {
      "text/html": [
       "<div>\n",
       "<style scoped>\n",
       "    .dataframe tbody tr th:only-of-type {\n",
       "        vertical-align: middle;\n",
       "    }\n",
       "\n",
       "    .dataframe tbody tr th {\n",
       "        vertical-align: top;\n",
       "    }\n",
       "\n",
       "    .dataframe thead th {\n",
       "        text-align: right;\n",
       "    }\n",
       "</style>\n",
       "<table border=\"1\" class=\"dataframe\">\n",
       "  <thead>\n",
       "    <tr style=\"text-align: right;\">\n",
       "      <th></th>\n",
       "      <th>date</th>\n",
       "      <th>date_block_num</th>\n",
       "      <th>shop_id</th>\n",
       "      <th>item_id</th>\n",
       "      <th>item_price</th>\n",
       "      <th>item_cnt_day</th>\n",
       "      <th>item_name</th>\n",
       "      <th>item_category_id</th>\n",
       "      <th>shop_name</th>\n",
       "      <th>item_category_name</th>\n",
       "    </tr>\n",
       "  </thead>\n",
       "  <tbody>\n",
       "  </tbody>\n",
       "</table>\n",
       "</div>"
      ],
      "text/plain": [
       "Empty DataFrame\n",
       "Columns: [date, date_block_num, shop_id, item_id, item_price, item_cnt_day, item_name, item_category_id, shop_name, item_category_name]\n",
       "Index: []"
      ]
     },
     "execution_count": 20,
     "metadata": {},
     "output_type": "execute_result"
    }
   ],
   "source": [
    "sales_train_new.query('item_price == 0')"
   ]
  },
  {
   "cell_type": "code",
   "execution_count": 21,
   "id": "198c13a2",
   "metadata": {
    "execution": {
     "iopub.execute_input": "2022-02-26T11:19:27.835411Z",
     "iopub.status.busy": "2022-02-26T11:19:27.834682Z",
     "iopub.status.idle": "2022-02-26T11:19:27.931074Z",
     "shell.execute_reply": "2022-02-26T11:19:27.930357Z",
     "shell.execute_reply.started": "2022-02-26T11:09:37.237561Z"
    },
    "papermill": {
     "duration": 0.141392,
     "end_time": "2022-02-26T11:19:27.931218",
     "exception": false,
     "start_time": "2022-02-26T11:19:27.789826",
     "status": "completed"
    },
    "tags": []
   },
   "outputs": [],
   "source": [
    "sales_train_new = sales_train_new.query('item_price > 0')"
   ]
  },
  {
   "cell_type": "code",
   "execution_count": 22,
   "id": "ae194c28",
   "metadata": {
    "execution": {
     "iopub.execute_input": "2022-02-26T11:19:28.018895Z",
     "iopub.status.busy": "2022-02-26T11:19:28.017944Z",
     "iopub.status.idle": "2022-02-26T11:19:28.022063Z",
     "shell.execute_reply": "2022-02-26T11:19:28.021530Z",
     "shell.execute_reply.started": "2022-02-26T11:09:37.329686Z"
    },
    "papermill": {
     "duration": 0.050602,
     "end_time": "2022-02-26T11:19:28.022209",
     "exception": false,
     "start_time": "2022-02-26T11:19:27.971607",
     "status": "completed"
    },
    "tags": []
   },
   "outputs": [
    {
     "data": {
      "text/plain": [
       "(1224439, 10)"
      ]
     },
     "execution_count": 22,
     "metadata": {},
     "output_type": "execute_result"
    }
   ],
   "source": [
    "sales_train_new.shape"
   ]
  },
  {
   "cell_type": "markdown",
   "id": "ea12c41d",
   "metadata": {
    "papermill": {
     "duration": 0.040847,
     "end_time": "2022-02-26T11:19:28.102485",
     "exception": false,
     "start_time": "2022-02-26T11:19:28.061638",
     "status": "completed"
    },
    "tags": []
   },
   "source": [
    "### Step 3 : Data Preprocessing"
   ]
  },
  {
   "cell_type": "code",
   "execution_count": 23,
   "id": "ba4bb77a",
   "metadata": {
    "execution": {
     "iopub.execute_input": "2022-02-26T11:19:28.188360Z",
     "iopub.status.busy": "2022-02-26T11:19:28.187676Z",
     "iopub.status.idle": "2022-02-26T11:19:28.207302Z",
     "shell.execute_reply": "2022-02-26T11:19:28.206709Z",
     "shell.execute_reply.started": "2022-02-26T11:09:37.336679Z"
    },
    "papermill": {
     "duration": 0.063264,
     "end_time": "2022-02-26T11:19:28.207469",
     "exception": false,
     "start_time": "2022-02-26T11:19:28.144205",
     "status": "completed"
    },
    "tags": []
   },
   "outputs": [],
   "source": [
    "# Creating month dataframe\n",
    "\n",
    "sales_monthly = sales_train_new[['date','date_block_num','shop_id','item_id','item_category_id','item_price','item_cnt_day']]"
   ]
  },
  {
   "cell_type": "code",
   "execution_count": 24,
   "id": "5abe3c87",
   "metadata": {
    "execution": {
     "iopub.execute_input": "2022-02-26T11:19:28.299943Z",
     "iopub.status.busy": "2022-02-26T11:19:28.299224Z",
     "iopub.status.idle": "2022-02-26T11:19:28.303169Z",
     "shell.execute_reply": "2022-02-26T11:19:28.302669Z",
     "shell.execute_reply.started": "2022-02-26T11:09:37.362554Z"
    },
    "papermill": {
     "duration": 0.056638,
     "end_time": "2022-02-26T11:19:28.303319",
     "exception": false,
     "start_time": "2022-02-26T11:19:28.246681",
     "status": "completed"
    },
    "tags": []
   },
   "outputs": [
    {
     "data": {
      "text/html": [
       "<div>\n",
       "<style scoped>\n",
       "    .dataframe tbody tr th:only-of-type {\n",
       "        vertical-align: middle;\n",
       "    }\n",
       "\n",
       "    .dataframe tbody tr th {\n",
       "        vertical-align: top;\n",
       "    }\n",
       "\n",
       "    .dataframe thead th {\n",
       "        text-align: right;\n",
       "    }\n",
       "</style>\n",
       "<table border=\"1\" class=\"dataframe\">\n",
       "  <thead>\n",
       "    <tr style=\"text-align: right;\">\n",
       "      <th></th>\n",
       "      <th>date</th>\n",
       "      <th>date_block_num</th>\n",
       "      <th>shop_id</th>\n",
       "      <th>item_id</th>\n",
       "      <th>item_category_id</th>\n",
       "      <th>item_price</th>\n",
       "      <th>item_cnt_day</th>\n",
       "    </tr>\n",
       "  </thead>\n",
       "  <tbody>\n",
       "    <tr>\n",
       "      <th>0</th>\n",
       "      <td>2013-02-01</td>\n",
       "      <td>0</td>\n",
       "      <td>59</td>\n",
       "      <td>22154</td>\n",
       "      <td>37</td>\n",
       "      <td>999.0</td>\n",
       "      <td>1</td>\n",
       "    </tr>\n",
       "    <tr>\n",
       "      <th>10</th>\n",
       "      <td>2013-03-01</td>\n",
       "      <td>0</td>\n",
       "      <td>25</td>\n",
       "      <td>2574</td>\n",
       "      <td>55</td>\n",
       "      <td>399.0</td>\n",
       "      <td>2</td>\n",
       "    </tr>\n",
       "    <tr>\n",
       "      <th>11</th>\n",
       "      <td>2013-05-01</td>\n",
       "      <td>0</td>\n",
       "      <td>25</td>\n",
       "      <td>2574</td>\n",
       "      <td>55</td>\n",
       "      <td>399.0</td>\n",
       "      <td>1</td>\n",
       "    </tr>\n",
       "    <tr>\n",
       "      <th>12</th>\n",
       "      <td>2013-07-01</td>\n",
       "      <td>0</td>\n",
       "      <td>25</td>\n",
       "      <td>2574</td>\n",
       "      <td>55</td>\n",
       "      <td>399.0</td>\n",
       "      <td>1</td>\n",
       "    </tr>\n",
       "    <tr>\n",
       "      <th>13</th>\n",
       "      <td>2013-08-01</td>\n",
       "      <td>0</td>\n",
       "      <td>25</td>\n",
       "      <td>2574</td>\n",
       "      <td>55</td>\n",
       "      <td>399.0</td>\n",
       "      <td>2</td>\n",
       "    </tr>\n",
       "  </tbody>\n",
       "</table>\n",
       "</div>"
      ],
      "text/plain": [
       "         date  date_block_num  shop_id  item_id  item_category_id  item_price  \\\n",
       "0  2013-02-01               0       59    22154                37       999.0   \n",
       "10 2013-03-01               0       25     2574                55       399.0   \n",
       "11 2013-05-01               0       25     2574                55       399.0   \n",
       "12 2013-07-01               0       25     2574                55       399.0   \n",
       "13 2013-08-01               0       25     2574                55       399.0   \n",
       "\n",
       "    item_cnt_day  \n",
       "0              1  \n",
       "10             2  \n",
       "11             1  \n",
       "12             1  \n",
       "13             2  "
      ]
     },
     "execution_count": 24,
     "metadata": {},
     "output_type": "execute_result"
    }
   ],
   "source": [
    "sales_monthly.head()"
   ]
  },
  {
   "cell_type": "code",
   "execution_count": 25,
   "id": "1bf562bf",
   "metadata": {
    "execution": {
     "iopub.execute_input": "2022-02-26T11:19:28.393321Z",
     "iopub.status.busy": "2022-02-26T11:19:28.392556Z",
     "iopub.status.idle": "2022-02-26T11:19:28.573521Z",
     "shell.execute_reply": "2022-02-26T11:19:28.573977Z",
     "shell.execute_reply.started": "2022-02-26T11:09:37.377826Z"
    },
    "papermill": {
     "duration": 0.228358,
     "end_time": "2022-02-26T11:19:28.574179",
     "exception": false,
     "start_time": "2022-02-26T11:19:28.345821",
     "status": "completed"
    },
    "tags": []
   },
   "outputs": [],
   "source": [
    "sales_monthly = sales_monthly.sort_values('date').groupby(['date_block_num','shop_id','item_id','item_category_id'],as_index=False)"
   ]
  },
  {
   "cell_type": "code",
   "execution_count": 26,
   "id": "73bc9ac9",
   "metadata": {
    "execution": {
     "iopub.execute_input": "2022-02-26T11:19:28.656169Z",
     "iopub.status.busy": "2022-02-26T11:19:28.655612Z",
     "iopub.status.idle": "2022-02-26T11:19:29.304966Z",
     "shell.execute_reply": "2022-02-26T11:19:29.305440Z",
     "shell.execute_reply.started": "2022-02-26T11:09:37.561049Z"
    },
    "papermill": {
     "duration": 0.691995,
     "end_time": "2022-02-26T11:19:29.305621",
     "exception": false,
     "start_time": "2022-02-26T11:19:28.613626",
     "status": "completed"
    },
    "tags": []
   },
   "outputs": [],
   "source": [
    "sales_monthly = sales_monthly.agg({'item_price':['sum','mean'],'item_cnt_day':['sum','mean','count']})"
   ]
  },
  {
   "cell_type": "code",
   "execution_count": 27,
   "id": "28f0ddb3",
   "metadata": {
    "execution": {
     "iopub.execute_input": "2022-02-26T11:19:29.389116Z",
     "iopub.status.busy": "2022-02-26T11:19:29.388504Z",
     "iopub.status.idle": "2022-02-26T11:19:29.393550Z",
     "shell.execute_reply": "2022-02-26T11:19:29.393945Z",
     "shell.execute_reply.started": "2022-02-26T11:09:38.217808Z"
    },
    "papermill": {
     "duration": 0.047988,
     "end_time": "2022-02-26T11:19:29.394125",
     "exception": false,
     "start_time": "2022-02-26T11:19:29.346137",
     "status": "completed"
    },
    "tags": []
   },
   "outputs": [
    {
     "data": {
      "text/plain": [
       "Index(['date_block_num', 'shop_id', 'item_category_id', 'item_id',\n",
       "       'item_price', 'item_price_mean', 'item_cnt', 'item_cnt_mean',\n",
       "       'transactions'],\n",
       "      dtype='object')"
      ]
     },
     "execution_count": 27,
     "metadata": {},
     "output_type": "execute_result"
    }
   ],
   "source": [
    "sales_monthly.columns = ['date_block_num', 'shop_id', 'item_category_id', 'item_id', 'item_price', 'item_price_mean', 'item_cnt', 'item_cnt_mean', 'transactions']\n",
    "\n",
    "sales_monthly.columns"
   ]
  },
  {
   "cell_type": "code",
   "execution_count": 28,
   "id": "fdcfd7a8",
   "metadata": {
    "execution": {
     "iopub.execute_input": "2022-02-26T11:19:29.478668Z",
     "iopub.status.busy": "2022-02-26T11:19:29.477919Z",
     "iopub.status.idle": "2022-02-26T11:19:29.482285Z",
     "shell.execute_reply": "2022-02-26T11:19:29.482802Z",
     "shell.execute_reply.started": "2022-02-26T11:09:38.225575Z"
    },
    "papermill": {
     "duration": 0.048422,
     "end_time": "2022-02-26T11:19:29.482960",
     "exception": false,
     "start_time": "2022-02-26T11:19:29.434538",
     "status": "completed"
    },
    "tags": []
   },
   "outputs": [
    {
     "data": {
      "text/plain": [
       "(600159, 9)"
      ]
     },
     "execution_count": 28,
     "metadata": {},
     "output_type": "execute_result"
    }
   ],
   "source": [
    "sales_monthly.shape"
   ]
  },
  {
   "cell_type": "code",
   "execution_count": 29,
   "id": "5e23a96a",
   "metadata": {
    "execution": {
     "iopub.execute_input": "2022-02-26T11:19:29.567888Z",
     "iopub.status.busy": "2022-02-26T11:19:29.567289Z",
     "iopub.status.idle": "2022-02-26T11:19:29.574832Z",
     "shell.execute_reply": "2022-02-26T11:19:29.575240Z",
     "shell.execute_reply.started": "2022-02-26T11:09:38.239064Z"
    },
    "papermill": {
     "duration": 0.052306,
     "end_time": "2022-02-26T11:19:29.575412",
     "exception": false,
     "start_time": "2022-02-26T11:19:29.523106",
     "status": "completed"
    },
    "tags": []
   },
   "outputs": [
    {
     "data": {
      "text/plain": [
       "array([ 2,  3,  4,  6,  7, 10, 12, 14, 15, 16, 18, 19, 21, 22, 24, 25, 26,\n",
       "       28, 31, 35, 37, 38, 41, 42, 44, 45, 46, 47, 50, 52, 53, 56, 59,  5,\n",
       "       57, 58, 55, 49, 39, 48, 34, 36])"
      ]
     },
     "execution_count": 29,
     "metadata": {},
     "output_type": "execute_result"
    }
   ],
   "source": [
    "shops_id = sales_monthly['shop_id'].unique()\n",
    "shops_id"
   ]
  },
  {
   "cell_type": "code",
   "execution_count": 30,
   "id": "9b25097c",
   "metadata": {
    "execution": {
     "iopub.execute_input": "2022-02-26T11:19:29.661620Z",
     "iopub.status.busy": "2022-02-26T11:19:29.660600Z",
     "iopub.status.idle": "2022-02-26T11:19:29.670835Z",
     "shell.execute_reply": "2022-02-26T11:19:29.671349Z",
     "shell.execute_reply.started": "2022-02-26T11:09:38.258701Z"
    },
    "papermill": {
     "duration": 0.055829,
     "end_time": "2022-02-26T11:19:29.671535",
     "exception": false,
     "start_time": "2022-02-26T11:19:29.615706",
     "status": "completed"
    },
    "tags": []
   },
   "outputs": [
    {
     "data": {
      "text/plain": [
       "array([37, 73, 67, 55, 19, 21, 28, 30, 23, 75, 22,  2,  5, 35,  6, 38, 40,\n",
       "       62, 57, 63, 64, 65, 43, 79, 49, 72, 83, 60, 77, 58, 41, 45, 56, 69,\n",
       "        9, 29, 71, 61, 76, 31, 78, 54, 70, 20,  3, 12, 44, 25, 33, 15, 34,\n",
       "       24,  7, 16, 11, 26, 47, 42, 74, 36])"
      ]
     },
     "execution_count": 30,
     "metadata": {},
     "output_type": "execute_result"
    }
   ],
   "source": [
    "items_id = sales_monthly['item_id'].unique()\n",
    "items_id"
   ]
  },
  {
   "cell_type": "code",
   "execution_count": 31,
   "id": "fe17521f",
   "metadata": {
    "execution": {
     "iopub.execute_input": "2022-02-26T11:19:29.767317Z",
     "iopub.status.busy": "2022-02-26T11:19:29.766359Z",
     "iopub.status.idle": "2022-02-26T11:19:29.971618Z",
     "shell.execute_reply": "2022-02-26T11:19:29.972156Z",
     "shell.execute_reply.started": "2022-02-26T11:09:38.272084Z"
    },
    "papermill": {
     "duration": 0.260027,
     "end_time": "2022-02-26T11:19:29.972345",
     "exception": false,
     "start_time": "2022-02-26T11:19:29.712318",
     "status": "completed"
    },
    "tags": []
   },
   "outputs": [],
   "source": [
    "new_data = []\n",
    "\n",
    "for i in range(34):\n",
    "    for shop in shops_id:\n",
    "        for item in items_id:\n",
    "            new_data.append([i,shop,item])\n",
    "            \n",
    "new_data = pd.DataFrame(new_data,columns=['date_block_num','shop_id','item_id'])"
   ]
  },
  {
   "cell_type": "code",
   "execution_count": 32,
   "id": "212f67d4",
   "metadata": {
    "execution": {
     "iopub.execute_input": "2022-02-26T11:19:30.065641Z",
     "iopub.status.busy": "2022-02-26T11:19:30.064913Z",
     "iopub.status.idle": "2022-02-26T11:19:30.067973Z",
     "shell.execute_reply": "2022-02-26T11:19:30.068444Z",
     "shell.execute_reply.started": "2022-02-26T11:09:38.477043Z"
    },
    "papermill": {
     "duration": 0.055261,
     "end_time": "2022-02-26T11:19:30.068609",
     "exception": false,
     "start_time": "2022-02-26T11:19:30.013348",
     "status": "completed"
    },
    "tags": []
   },
   "outputs": [
    {
     "data": {
      "text/html": [
       "<div>\n",
       "<style scoped>\n",
       "    .dataframe tbody tr th:only-of-type {\n",
       "        vertical-align: middle;\n",
       "    }\n",
       "\n",
       "    .dataframe tbody tr th {\n",
       "        vertical-align: top;\n",
       "    }\n",
       "\n",
       "    .dataframe thead th {\n",
       "        text-align: right;\n",
       "    }\n",
       "</style>\n",
       "<table border=\"1\" class=\"dataframe\">\n",
       "  <thead>\n",
       "    <tr style=\"text-align: right;\">\n",
       "      <th></th>\n",
       "      <th>date_block_num</th>\n",
       "      <th>shop_id</th>\n",
       "      <th>item_id</th>\n",
       "    </tr>\n",
       "  </thead>\n",
       "  <tbody>\n",
       "    <tr>\n",
       "      <th>0</th>\n",
       "      <td>0</td>\n",
       "      <td>2</td>\n",
       "      <td>37</td>\n",
       "    </tr>\n",
       "    <tr>\n",
       "      <th>1</th>\n",
       "      <td>0</td>\n",
       "      <td>2</td>\n",
       "      <td>73</td>\n",
       "    </tr>\n",
       "    <tr>\n",
       "      <th>2</th>\n",
       "      <td>0</td>\n",
       "      <td>2</td>\n",
       "      <td>67</td>\n",
       "    </tr>\n",
       "    <tr>\n",
       "      <th>3</th>\n",
       "      <td>0</td>\n",
       "      <td>2</td>\n",
       "      <td>55</td>\n",
       "    </tr>\n",
       "    <tr>\n",
       "      <th>4</th>\n",
       "      <td>0</td>\n",
       "      <td>2</td>\n",
       "      <td>19</td>\n",
       "    </tr>\n",
       "    <tr>\n",
       "      <th>...</th>\n",
       "      <td>...</td>\n",
       "      <td>...</td>\n",
       "      <td>...</td>\n",
       "    </tr>\n",
       "    <tr>\n",
       "      <th>85675</th>\n",
       "      <td>33</td>\n",
       "      <td>36</td>\n",
       "      <td>26</td>\n",
       "    </tr>\n",
       "    <tr>\n",
       "      <th>85676</th>\n",
       "      <td>33</td>\n",
       "      <td>36</td>\n",
       "      <td>47</td>\n",
       "    </tr>\n",
       "    <tr>\n",
       "      <th>85677</th>\n",
       "      <td>33</td>\n",
       "      <td>36</td>\n",
       "      <td>42</td>\n",
       "    </tr>\n",
       "    <tr>\n",
       "      <th>85678</th>\n",
       "      <td>33</td>\n",
       "      <td>36</td>\n",
       "      <td>74</td>\n",
       "    </tr>\n",
       "    <tr>\n",
       "      <th>85679</th>\n",
       "      <td>33</td>\n",
       "      <td>36</td>\n",
       "      <td>36</td>\n",
       "    </tr>\n",
       "  </tbody>\n",
       "</table>\n",
       "<p>85680 rows × 3 columns</p>\n",
       "</div>"
      ],
      "text/plain": [
       "       date_block_num  shop_id  item_id\n",
       "0                   0        2       37\n",
       "1                   0        2       73\n",
       "2                   0        2       67\n",
       "3                   0        2       55\n",
       "4                   0        2       19\n",
       "...               ...      ...      ...\n",
       "85675              33       36       26\n",
       "85676              33       36       47\n",
       "85677              33       36       42\n",
       "85678              33       36       74\n",
       "85679              33       36       36\n",
       "\n",
       "[85680 rows x 3 columns]"
      ]
     },
     "execution_count": 32,
     "metadata": {},
     "output_type": "execute_result"
    }
   ],
   "source": [
    "new_data"
   ]
  },
  {
   "cell_type": "code",
   "execution_count": 33,
   "id": "188f1502",
   "metadata": {
    "execution": {
     "iopub.execute_input": "2022-02-26T11:19:30.156629Z",
     "iopub.status.busy": "2022-02-26T11:19:30.155653Z",
     "iopub.status.idle": "2022-02-26T11:19:30.285701Z",
     "shell.execute_reply": "2022-02-26T11:19:30.285160Z",
     "shell.execute_reply.started": "2022-02-26T11:09:38.490001Z"
    },
    "papermill": {
     "duration": 0.175051,
     "end_time": "2022-02-26T11:19:30.285834",
     "exception": false,
     "start_time": "2022-02-26T11:19:30.110783",
     "status": "completed"
    },
    "tags": []
   },
   "outputs": [],
   "source": [
    "sales_monthly = pd.merge(new_data, sales_monthly, on=['date_block_num','shop_id','item_id'], how='left')\n",
    "sales_monthly.fillna(0, inplace=True)"
   ]
  },
  {
   "cell_type": "code",
   "execution_count": 34,
   "id": "cf8bdf67",
   "metadata": {
    "execution": {
     "iopub.execute_input": "2022-02-26T11:19:30.374091Z",
     "iopub.status.busy": "2022-02-26T11:19:30.373439Z",
     "iopub.status.idle": "2022-02-26T11:19:30.375852Z",
     "shell.execute_reply": "2022-02-26T11:19:30.376301Z",
     "shell.execute_reply.started": "2022-02-26T11:09:38.626741Z"
    },
    "papermill": {
     "duration": 0.049481,
     "end_time": "2022-02-26T11:19:30.376467",
     "exception": false,
     "start_time": "2022-02-26T11:19:30.326986",
     "status": "completed"
    },
    "tags": []
   },
   "outputs": [
    {
     "data": {
      "text/plain": [
       "(640887, 9)"
      ]
     },
     "execution_count": 34,
     "metadata": {},
     "output_type": "execute_result"
    }
   ],
   "source": [
    "sales_monthly.shape"
   ]
  },
  {
   "cell_type": "code",
   "execution_count": 35,
   "id": "00c5c3ab",
   "metadata": {
    "execution": {
     "iopub.execute_input": "2022-02-26T11:19:30.467290Z",
     "iopub.status.busy": "2022-02-26T11:19:30.466223Z",
     "iopub.status.idle": "2022-02-26T11:19:30.477840Z",
     "shell.execute_reply": "2022-02-26T11:19:30.477406Z",
     "shell.execute_reply.started": "2022-02-26T11:09:38.633083Z"
    },
    "papermill": {
     "duration": 0.059963,
     "end_time": "2022-02-26T11:19:30.477969",
     "exception": false,
     "start_time": "2022-02-26T11:19:30.418006",
     "status": "completed"
    },
    "tags": []
   },
   "outputs": [
    {
     "data": {
      "text/html": [
       "<div>\n",
       "<style scoped>\n",
       "    .dataframe tbody tr th:only-of-type {\n",
       "        vertical-align: middle;\n",
       "    }\n",
       "\n",
       "    .dataframe tbody tr th {\n",
       "        vertical-align: top;\n",
       "    }\n",
       "\n",
       "    .dataframe thead th {\n",
       "        text-align: right;\n",
       "    }\n",
       "</style>\n",
       "<table border=\"1\" class=\"dataframe\">\n",
       "  <thead>\n",
       "    <tr style=\"text-align: right;\">\n",
       "      <th></th>\n",
       "      <th>0</th>\n",
       "      <th>1</th>\n",
       "      <th>2</th>\n",
       "      <th>3</th>\n",
       "      <th>4</th>\n",
       "    </tr>\n",
       "  </thead>\n",
       "  <tbody>\n",
       "    <tr>\n",
       "      <th>date_block_num</th>\n",
       "      <td>0.0</td>\n",
       "      <td>0.000000</td>\n",
       "      <td>0.000000</td>\n",
       "      <td>0.0</td>\n",
       "      <td>0.0</td>\n",
       "    </tr>\n",
       "    <tr>\n",
       "      <th>shop_id</th>\n",
       "      <td>2.0</td>\n",
       "      <td>2.000000</td>\n",
       "      <td>2.000000</td>\n",
       "      <td>2.0</td>\n",
       "      <td>2.0</td>\n",
       "    </tr>\n",
       "    <tr>\n",
       "      <th>item_id</th>\n",
       "      <td>37.0</td>\n",
       "      <td>37.000000</td>\n",
       "      <td>37.000000</td>\n",
       "      <td>37.0</td>\n",
       "      <td>37.0</td>\n",
       "    </tr>\n",
       "    <tr>\n",
       "      <th>item_category_id</th>\n",
       "      <td>33.0</td>\n",
       "      <td>8094.000000</td>\n",
       "      <td>8095.000000</td>\n",
       "      <td>8958.0</td>\n",
       "      <td>10039.0</td>\n",
       "    </tr>\n",
       "    <tr>\n",
       "      <th>item_price</th>\n",
       "      <td>499.0</td>\n",
       "      <td>1068.540039</td>\n",
       "      <td>420.390015</td>\n",
       "      <td>249.5</td>\n",
       "      <td>299.0</td>\n",
       "    </tr>\n",
       "    <tr>\n",
       "      <th>item_price_mean</th>\n",
       "      <td>499.0</td>\n",
       "      <td>1068.540039</td>\n",
       "      <td>420.390015</td>\n",
       "      <td>249.5</td>\n",
       "      <td>299.0</td>\n",
       "    </tr>\n",
       "    <tr>\n",
       "      <th>item_cnt</th>\n",
       "      <td>1.0</td>\n",
       "      <td>1.000000</td>\n",
       "      <td>1.000000</td>\n",
       "      <td>1.0</td>\n",
       "      <td>1.0</td>\n",
       "    </tr>\n",
       "    <tr>\n",
       "      <th>item_cnt_mean</th>\n",
       "      <td>1.0</td>\n",
       "      <td>1.000000</td>\n",
       "      <td>1.000000</td>\n",
       "      <td>1.0</td>\n",
       "      <td>1.0</td>\n",
       "    </tr>\n",
       "    <tr>\n",
       "      <th>transactions</th>\n",
       "      <td>1.0</td>\n",
       "      <td>1.000000</td>\n",
       "      <td>1.000000</td>\n",
       "      <td>1.0</td>\n",
       "      <td>1.0</td>\n",
       "    </tr>\n",
       "  </tbody>\n",
       "</table>\n",
       "</div>"
      ],
      "text/plain": [
       "                      0            1            2       3        4\n",
       "date_block_num      0.0     0.000000     0.000000     0.0      0.0\n",
       "shop_id             2.0     2.000000     2.000000     2.0      2.0\n",
       "item_id            37.0    37.000000    37.000000    37.0     37.0\n",
       "item_category_id   33.0  8094.000000  8095.000000  8958.0  10039.0\n",
       "item_price        499.0  1068.540039   420.390015   249.5    299.0\n",
       "item_price_mean   499.0  1068.540039   420.390015   249.5    299.0\n",
       "item_cnt            1.0     1.000000     1.000000     1.0      1.0\n",
       "item_cnt_mean       1.0     1.000000     1.000000     1.0      1.0\n",
       "transactions        1.0     1.000000     1.000000     1.0      1.0"
      ]
     },
     "execution_count": 35,
     "metadata": {},
     "output_type": "execute_result"
    }
   ],
   "source": [
    "sales_monthly.head().T"
   ]
  },
  {
   "cell_type": "code",
   "execution_count": 36,
   "id": "11c09625",
   "metadata": {
    "execution": {
     "iopub.execute_input": "2022-02-26T11:19:30.566328Z",
     "iopub.status.busy": "2022-02-26T11:19:30.565368Z",
     "iopub.status.idle": "2022-02-26T11:19:30.761683Z",
     "shell.execute_reply": "2022-02-26T11:19:30.762420Z",
     "shell.execute_reply.started": "2022-02-26T11:09:38.657999Z"
    },
    "papermill": {
     "duration": 0.242468,
     "end_time": "2022-02-26T11:19:30.762653",
     "exception": false,
     "start_time": "2022-02-26T11:19:30.520185",
     "status": "completed"
    },
    "tags": []
   },
   "outputs": [
    {
     "data": {
      "text/html": [
       "<div>\n",
       "<style scoped>\n",
       "    .dataframe tbody tr th:only-of-type {\n",
       "        vertical-align: middle;\n",
       "    }\n",
       "\n",
       "    .dataframe tbody tr th {\n",
       "        vertical-align: top;\n",
       "    }\n",
       "\n",
       "    .dataframe thead th {\n",
       "        text-align: right;\n",
       "    }\n",
       "</style>\n",
       "<table border=\"1\" class=\"dataframe\">\n",
       "  <thead>\n",
       "    <tr style=\"text-align: right;\">\n",
       "      <th></th>\n",
       "      <th>count</th>\n",
       "      <th>mean</th>\n",
       "      <th>std</th>\n",
       "      <th>min</th>\n",
       "      <th>25%</th>\n",
       "      <th>50%</th>\n",
       "      <th>75%</th>\n",
       "      <th>max</th>\n",
       "    </tr>\n",
       "  </thead>\n",
       "  <tbody>\n",
       "    <tr>\n",
       "      <th>date_block_num</th>\n",
       "      <td>640887.0</td>\n",
       "      <td>19.793332</td>\n",
       "      <td>9.277276</td>\n",
       "      <td>0.0</td>\n",
       "      <td>13.0</td>\n",
       "      <td>21.0</td>\n",
       "      <td>28.0</td>\n",
       "      <td>33.00000</td>\n",
       "    </tr>\n",
       "    <tr>\n",
       "      <th>shop_id</th>\n",
       "      <td>640887.0</td>\n",
       "      <td>32.093765</td>\n",
       "      <td>16.933873</td>\n",
       "      <td>2.0</td>\n",
       "      <td>19.0</td>\n",
       "      <td>31.0</td>\n",
       "      <td>47.0</td>\n",
       "      <td>59.00000</td>\n",
       "    </tr>\n",
       "    <tr>\n",
       "      <th>item_id</th>\n",
       "      <td>640887.0</td>\n",
       "      <td>42.504320</td>\n",
       "      <td>18.137527</td>\n",
       "      <td>2.0</td>\n",
       "      <td>29.0</td>\n",
       "      <td>40.0</td>\n",
       "      <td>55.0</td>\n",
       "      <td>83.00000</td>\n",
       "    </tr>\n",
       "    <tr>\n",
       "      <th>item_category_id</th>\n",
       "      <td>640887.0</td>\n",
       "      <td>9378.441608</td>\n",
       "      <td>6471.761306</td>\n",
       "      <td>0.0</td>\n",
       "      <td>3719.0</td>\n",
       "      <td>8078.0</td>\n",
       "      <td>15217.0</td>\n",
       "      <td>22167.00000</td>\n",
       "    </tr>\n",
       "    <tr>\n",
       "      <th>item_price</th>\n",
       "      <td>640887.0</td>\n",
       "      <td>1968.697754</td>\n",
       "      <td>6800.664062</td>\n",
       "      <td>0.0</td>\n",
       "      <td>299.0</td>\n",
       "      <td>600.0</td>\n",
       "      <td>1745.0</td>\n",
       "      <td>515573.59375</td>\n",
       "    </tr>\n",
       "    <tr>\n",
       "      <th>item_price_mean</th>\n",
       "      <td>640887.0</td>\n",
       "      <td>852.492798</td>\n",
       "      <td>1531.599854</td>\n",
       "      <td>0.0</td>\n",
       "      <td>229.0</td>\n",
       "      <td>399.0</td>\n",
       "      <td>999.0</td>\n",
       "      <td>42990.00000</td>\n",
       "    </tr>\n",
       "    <tr>\n",
       "      <th>item_cnt</th>\n",
       "      <td>640887.0</td>\n",
       "      <td>2.524269</td>\n",
       "      <td>10.944775</td>\n",
       "      <td>-4.0</td>\n",
       "      <td>1.0</td>\n",
       "      <td>1.0</td>\n",
       "      <td>2.0</td>\n",
       "      <td>2253.00000</td>\n",
       "    </tr>\n",
       "    <tr>\n",
       "      <th>item_cnt_mean</th>\n",
       "      <td>640887.0</td>\n",
       "      <td>1.022421</td>\n",
       "      <td>1.729875</td>\n",
       "      <td>-2.0</td>\n",
       "      <td>1.0</td>\n",
       "      <td>1.0</td>\n",
       "      <td>1.0</td>\n",
       "      <td>1000.00000</td>\n",
       "    </tr>\n",
       "    <tr>\n",
       "      <th>transactions</th>\n",
       "      <td>640887.0</td>\n",
       "      <td>1.910538</td>\n",
       "      <td>2.301848</td>\n",
       "      <td>0.0</td>\n",
       "      <td>1.0</td>\n",
       "      <td>1.0</td>\n",
       "      <td>2.0</td>\n",
       "      <td>31.00000</td>\n",
       "    </tr>\n",
       "  </tbody>\n",
       "</table>\n",
       "</div>"
      ],
      "text/plain": [
       "                     count         mean          std  min     25%     50%  \\\n",
       "date_block_num    640887.0    19.793332     9.277276  0.0    13.0    21.0   \n",
       "shop_id           640887.0    32.093765    16.933873  2.0    19.0    31.0   \n",
       "item_id           640887.0    42.504320    18.137527  2.0    29.0    40.0   \n",
       "item_category_id  640887.0  9378.441608  6471.761306  0.0  3719.0  8078.0   \n",
       "item_price        640887.0  1968.697754  6800.664062  0.0   299.0   600.0   \n",
       "item_price_mean   640887.0   852.492798  1531.599854  0.0   229.0   399.0   \n",
       "item_cnt          640887.0     2.524269    10.944775 -4.0     1.0     1.0   \n",
       "item_cnt_mean     640887.0     1.022421     1.729875 -2.0     1.0     1.0   \n",
       "transactions      640887.0     1.910538     2.301848  0.0     1.0     1.0   \n",
       "\n",
       "                      75%           max  \n",
       "date_block_num       28.0      33.00000  \n",
       "shop_id              47.0      59.00000  \n",
       "item_id              55.0      83.00000  \n",
       "item_category_id  15217.0   22167.00000  \n",
       "item_price         1745.0  515573.59375  \n",
       "item_price_mean     999.0   42990.00000  \n",
       "item_cnt              2.0    2253.00000  \n",
       "item_cnt_mean         1.0    1000.00000  \n",
       "transactions          2.0      31.00000  "
      ]
     },
     "execution_count": 36,
     "metadata": {},
     "output_type": "execute_result"
    }
   ],
   "source": [
    "sales_monthly.describe().T"
   ]
  },
  {
   "cell_type": "code",
   "execution_count": 37,
   "id": "efd41974",
   "metadata": {
    "execution": {
     "iopub.execute_input": "2022-02-26T11:19:30.858883Z",
     "iopub.status.busy": "2022-02-26T11:19:30.858317Z",
     "iopub.status.idle": "2022-02-26T11:19:31.286191Z",
     "shell.execute_reply": "2022-02-26T11:19:31.285679Z",
     "shell.execute_reply.started": "2022-02-26T11:09:38.852907Z"
    },
    "papermill": {
     "duration": 0.472697,
     "end_time": "2022-02-26T11:19:31.286332",
     "exception": false,
     "start_time": "2022-02-26T11:19:30.813635",
     "status": "completed"
    },
    "tags": []
   },
   "outputs": [],
   "source": [
    "sales_monthly['sales_year'] = sales_monthly['date_block_num'].apply(lambda x: ((x//12) + 2013))\n",
    "sales_monthly['sales_month'] = sales_monthly['date_block_num'].apply(lambda x: (x % 12))"
   ]
  },
  {
   "cell_type": "code",
   "execution_count": 38,
   "id": "09112c28",
   "metadata": {
    "execution": {
     "iopub.execute_input": "2022-02-26T11:19:31.377361Z",
     "iopub.status.busy": "2022-02-26T11:19:31.376697Z",
     "iopub.status.idle": "2022-02-26T11:19:31.390157Z",
     "shell.execute_reply": "2022-02-26T11:19:31.389619Z",
     "shell.execute_reply.started": "2022-02-26T11:09:39.652726Z"
    },
    "papermill": {
     "duration": 0.060574,
     "end_time": "2022-02-26T11:19:31.390296",
     "exception": false,
     "start_time": "2022-02-26T11:19:31.329722",
     "status": "completed"
    },
    "tags": []
   },
   "outputs": [
    {
     "data": {
      "text/html": [
       "<div>\n",
       "<style scoped>\n",
       "    .dataframe tbody tr th:only-of-type {\n",
       "        vertical-align: middle;\n",
       "    }\n",
       "\n",
       "    .dataframe tbody tr th {\n",
       "        vertical-align: top;\n",
       "    }\n",
       "\n",
       "    .dataframe thead th {\n",
       "        text-align: right;\n",
       "    }\n",
       "</style>\n",
       "<table border=\"1\" class=\"dataframe\">\n",
       "  <thead>\n",
       "    <tr style=\"text-align: right;\">\n",
       "      <th></th>\n",
       "      <th>0</th>\n",
       "      <th>1</th>\n",
       "      <th>2</th>\n",
       "      <th>3</th>\n",
       "      <th>4</th>\n",
       "    </tr>\n",
       "  </thead>\n",
       "  <tbody>\n",
       "    <tr>\n",
       "      <th>date_block_num</th>\n",
       "      <td>0.0</td>\n",
       "      <td>0.000000</td>\n",
       "      <td>0.000000</td>\n",
       "      <td>0.0</td>\n",
       "      <td>0.0</td>\n",
       "    </tr>\n",
       "    <tr>\n",
       "      <th>shop_id</th>\n",
       "      <td>2.0</td>\n",
       "      <td>2.000000</td>\n",
       "      <td>2.000000</td>\n",
       "      <td>2.0</td>\n",
       "      <td>2.0</td>\n",
       "    </tr>\n",
       "    <tr>\n",
       "      <th>item_id</th>\n",
       "      <td>37.0</td>\n",
       "      <td>37.000000</td>\n",
       "      <td>37.000000</td>\n",
       "      <td>37.0</td>\n",
       "      <td>37.0</td>\n",
       "    </tr>\n",
       "    <tr>\n",
       "      <th>item_category_id</th>\n",
       "      <td>33.0</td>\n",
       "      <td>8094.000000</td>\n",
       "      <td>8095.000000</td>\n",
       "      <td>8958.0</td>\n",
       "      <td>10039.0</td>\n",
       "    </tr>\n",
       "    <tr>\n",
       "      <th>item_price</th>\n",
       "      <td>499.0</td>\n",
       "      <td>1068.540039</td>\n",
       "      <td>420.390015</td>\n",
       "      <td>249.5</td>\n",
       "      <td>299.0</td>\n",
       "    </tr>\n",
       "    <tr>\n",
       "      <th>item_price_mean</th>\n",
       "      <td>499.0</td>\n",
       "      <td>1068.540039</td>\n",
       "      <td>420.390015</td>\n",
       "      <td>249.5</td>\n",
       "      <td>299.0</td>\n",
       "    </tr>\n",
       "    <tr>\n",
       "      <th>item_cnt</th>\n",
       "      <td>1.0</td>\n",
       "      <td>1.000000</td>\n",
       "      <td>1.000000</td>\n",
       "      <td>1.0</td>\n",
       "      <td>1.0</td>\n",
       "    </tr>\n",
       "    <tr>\n",
       "      <th>item_cnt_mean</th>\n",
       "      <td>1.0</td>\n",
       "      <td>1.000000</td>\n",
       "      <td>1.000000</td>\n",
       "      <td>1.0</td>\n",
       "      <td>1.0</td>\n",
       "    </tr>\n",
       "    <tr>\n",
       "      <th>transactions</th>\n",
       "      <td>1.0</td>\n",
       "      <td>1.000000</td>\n",
       "      <td>1.000000</td>\n",
       "      <td>1.0</td>\n",
       "      <td>1.0</td>\n",
       "    </tr>\n",
       "    <tr>\n",
       "      <th>sales_year</th>\n",
       "      <td>2013.0</td>\n",
       "      <td>2013.000000</td>\n",
       "      <td>2013.000000</td>\n",
       "      <td>2013.0</td>\n",
       "      <td>2013.0</td>\n",
       "    </tr>\n",
       "    <tr>\n",
       "      <th>sales_month</th>\n",
       "      <td>0.0</td>\n",
       "      <td>0.000000</td>\n",
       "      <td>0.000000</td>\n",
       "      <td>0.0</td>\n",
       "      <td>0.0</td>\n",
       "    </tr>\n",
       "  </tbody>\n",
       "</table>\n",
       "</div>"
      ],
      "text/plain": [
       "                       0            1            2       3        4\n",
       "date_block_num       0.0     0.000000     0.000000     0.0      0.0\n",
       "shop_id              2.0     2.000000     2.000000     2.0      2.0\n",
       "item_id             37.0    37.000000    37.000000    37.0     37.0\n",
       "item_category_id    33.0  8094.000000  8095.000000  8958.0  10039.0\n",
       "item_price         499.0  1068.540039   420.390015   249.5    299.0\n",
       "item_price_mean    499.0  1068.540039   420.390015   249.5    299.0\n",
       "item_cnt             1.0     1.000000     1.000000     1.0      1.0\n",
       "item_cnt_mean        1.0     1.000000     1.000000     1.0      1.0\n",
       "transactions         1.0     1.000000     1.000000     1.0      1.0\n",
       "sales_year        2013.0  2013.000000  2013.000000  2013.0   2013.0\n",
       "sales_month          0.0     0.000000     0.000000     0.0      0.0"
      ]
     },
     "execution_count": 38,
     "metadata": {},
     "output_type": "execute_result"
    }
   ],
   "source": [
    "sales_monthly.head().T"
   ]
  },
  {
   "cell_type": "code",
   "execution_count": 39,
   "id": "3fda8edb",
   "metadata": {
    "execution": {
     "iopub.execute_input": "2022-02-26T11:19:31.480202Z",
     "iopub.status.busy": "2022-02-26T11:19:31.479536Z",
     "iopub.status.idle": "2022-02-26T11:19:31.489599Z",
     "shell.execute_reply": "2022-02-26T11:19:31.490010Z",
     "shell.execute_reply.started": "2022-02-26T11:09:39.673708Z"
    },
    "papermill": {
     "duration": 0.056412,
     "end_time": "2022-02-26T11:19:31.490202",
     "exception": false,
     "start_time": "2022-02-26T11:19:31.433790",
     "status": "completed"
    },
    "tags": []
   },
   "outputs": [
    {
     "data": {
      "text/plain": [
       "2015    264595\n",
       "2014    233700\n",
       "2013    142592\n",
       "Name: sales_year, dtype: int64"
      ]
     },
     "execution_count": 39,
     "metadata": {},
     "output_type": "execute_result"
    }
   ],
   "source": [
    "sales_monthly['sales_year'].value_counts()"
   ]
  },
  {
   "cell_type": "code",
   "execution_count": 40,
   "id": "4114da27",
   "metadata": {
    "execution": {
     "iopub.execute_input": "2022-02-26T11:19:31.586496Z",
     "iopub.status.busy": "2022-02-26T11:19:31.585871Z",
     "iopub.status.idle": "2022-02-26T11:19:31.590083Z",
     "shell.execute_reply": "2022-02-26T11:19:31.590485Z",
     "shell.execute_reply.started": "2022-02-26T11:09:39.686053Z"
    },
    "papermill": {
     "duration": 0.05601,
     "end_time": "2022-02-26T11:19:31.590653",
     "exception": false,
     "start_time": "2022-02-26T11:19:31.534643",
     "status": "completed"
    },
    "tags": []
   },
   "outputs": [
    {
     "data": {
      "text/plain": [
       "7     63187\n",
       "9     63075\n",
       "8     58326\n",
       "6     58077\n",
       "5     54277\n",
       "2     53944\n",
       "0     51676\n",
       "4     51402\n",
       "1     50200\n",
       "11    50059\n",
       "3     49545\n",
       "10    37119\n",
       "Name: sales_month, dtype: int64"
      ]
     },
     "execution_count": 40,
     "metadata": {},
     "output_type": "execute_result"
    }
   ],
   "source": [
    "sales_monthly['sales_month'].value_counts()"
   ]
  },
  {
   "cell_type": "code",
   "execution_count": null,
   "id": "5f5ae87a",
   "metadata": {
    "papermill": {
     "duration": 0.04337,
     "end_time": "2022-02-26T11:19:31.677814",
     "exception": false,
     "start_time": "2022-02-26T11:19:31.634444",
     "status": "completed"
    },
    "tags": []
   },
   "outputs": [],
   "source": []
  }
 ],
 "metadata": {
  "kernelspec": {
   "display_name": "Python 3",
   "language": "python",
   "name": "python3"
  },
  "language_info": {
   "codemirror_mode": {
    "name": "ipython",
    "version": 3
   },
   "file_extension": ".py",
   "mimetype": "text/x-python",
   "name": "python",
   "nbconvert_exporter": "python",
   "pygments_lexer": "ipython3",
   "version": "3.7.12"
  },
  "papermill": {
   "default_parameters": {},
   "duration": 22.1387,
   "end_time": "2022-02-26T11:19:32.433282",
   "environment_variables": {},
   "exception": null,
   "input_path": "__notebook__.ipynb",
   "output_path": "__notebook__.ipynb",
   "parameters": {},
   "start_time": "2022-02-26T11:19:10.294582",
   "version": "2.3.3"
  }
 },
 "nbformat": 4,
 "nbformat_minor": 5
}
